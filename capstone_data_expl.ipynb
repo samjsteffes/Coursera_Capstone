{
 "cells": [
  {
   "cell_type": "markdown",
   "metadata": {},
   "source": [
    "## IBM Data Science Capstone Jupyter Notebook #1:\n",
    "### Data Examination and Exploratory Analysis\n",
    "__Author: Sam Steffes__\n",
    "<br>*Date: 08/18/2020*\n",
    "\n",
    "This notebook contains code for part 1 of my Coursera IBM Data Science Capstone project. This project uses data from previous vehicle collisions to try and build a machine learning model that predicts the severity of accidents based on certain features. __This notebook will focus on data examination, initial feature selection and exploratory analysis.__\n",
    "\n",
    "_The data comes from collision records recorded by the Seattle Police Department from 2004 through May of 2020_"
   ]
  },
  {
   "cell_type": "code",
   "execution_count": 1,
   "metadata": {},
   "outputs": [],
   "source": [
    "#import some required libraries\n",
    "import pandas as pd\n",
    "import numpy as np\n",
    "%matplotlib inline\n",
    "import matplotlib.pyplot as plt\n",
    "import seaborn as sns"
   ]
  },
  {
   "cell_type": "code",
   "execution_count": 2,
   "metadata": {},
   "outputs": [
    {
     "name": "stderr",
     "output_type": "stream",
     "text": [
      "c:\\python\\python384\\lib\\site-packages\\IPython\\core\\interactiveshell.py:3071: DtypeWarning: Columns (33) have mixed types.Specify dtype option on import or set low_memory=False.\n",
      "  has_raised = await self.run_ast_nodes(code_ast.body, cell_name,\n"
     ]
    },
    {
     "data": {
      "text/html": [
       "<div>\n",
       "<style scoped>\n",
       "    .dataframe tbody tr th:only-of-type {\n",
       "        vertical-align: middle;\n",
       "    }\n",
       "\n",
       "    .dataframe tbody tr th {\n",
       "        vertical-align: top;\n",
       "    }\n",
       "\n",
       "    .dataframe thead th {\n",
       "        text-align: right;\n",
       "    }\n",
       "</style>\n",
       "<table border=\"1\" class=\"dataframe\">\n",
       "  <thead>\n",
       "    <tr style=\"text-align: right;\">\n",
       "      <th></th>\n",
       "      <th>SEVERITYCODE</th>\n",
       "      <th>X</th>\n",
       "      <th>Y</th>\n",
       "      <th>OBJECTID</th>\n",
       "      <th>INCKEY</th>\n",
       "      <th>COLDETKEY</th>\n",
       "      <th>REPORTNO</th>\n",
       "      <th>STATUS</th>\n",
       "      <th>ADDRTYPE</th>\n",
       "      <th>INTKEY</th>\n",
       "      <th>...</th>\n",
       "      <th>ROADCOND</th>\n",
       "      <th>LIGHTCOND</th>\n",
       "      <th>PEDROWNOTGRNT</th>\n",
       "      <th>SDOTCOLNUM</th>\n",
       "      <th>SPEEDING</th>\n",
       "      <th>ST_COLCODE</th>\n",
       "      <th>ST_COLDESC</th>\n",
       "      <th>SEGLANEKEY</th>\n",
       "      <th>CROSSWALKKEY</th>\n",
       "      <th>HITPARKEDCAR</th>\n",
       "    </tr>\n",
       "  </thead>\n",
       "  <tbody>\n",
       "    <tr>\n",
       "      <th>0</th>\n",
       "      <td>2</td>\n",
       "      <td>-122.323148</td>\n",
       "      <td>47.703140</td>\n",
       "      <td>1</td>\n",
       "      <td>1307</td>\n",
       "      <td>1307</td>\n",
       "      <td>3502005</td>\n",
       "      <td>Matched</td>\n",
       "      <td>Intersection</td>\n",
       "      <td>37475.0</td>\n",
       "      <td>...</td>\n",
       "      <td>Wet</td>\n",
       "      <td>Daylight</td>\n",
       "      <td>NaN</td>\n",
       "      <td>NaN</td>\n",
       "      <td>NaN</td>\n",
       "      <td>10</td>\n",
       "      <td>Entering at angle</td>\n",
       "      <td>0</td>\n",
       "      <td>0</td>\n",
       "      <td>N</td>\n",
       "    </tr>\n",
       "    <tr>\n",
       "      <th>1</th>\n",
       "      <td>1</td>\n",
       "      <td>-122.347294</td>\n",
       "      <td>47.647172</td>\n",
       "      <td>2</td>\n",
       "      <td>52200</td>\n",
       "      <td>52200</td>\n",
       "      <td>2607959</td>\n",
       "      <td>Matched</td>\n",
       "      <td>Block</td>\n",
       "      <td>NaN</td>\n",
       "      <td>...</td>\n",
       "      <td>Wet</td>\n",
       "      <td>Dark - Street Lights On</td>\n",
       "      <td>NaN</td>\n",
       "      <td>6354039.0</td>\n",
       "      <td>NaN</td>\n",
       "      <td>11</td>\n",
       "      <td>From same direction - both going straight - bo...</td>\n",
       "      <td>0</td>\n",
       "      <td>0</td>\n",
       "      <td>N</td>\n",
       "    </tr>\n",
       "    <tr>\n",
       "      <th>2</th>\n",
       "      <td>1</td>\n",
       "      <td>-122.334540</td>\n",
       "      <td>47.607871</td>\n",
       "      <td>3</td>\n",
       "      <td>26700</td>\n",
       "      <td>26700</td>\n",
       "      <td>1482393</td>\n",
       "      <td>Matched</td>\n",
       "      <td>Block</td>\n",
       "      <td>NaN</td>\n",
       "      <td>...</td>\n",
       "      <td>Dry</td>\n",
       "      <td>Daylight</td>\n",
       "      <td>NaN</td>\n",
       "      <td>4323031.0</td>\n",
       "      <td>NaN</td>\n",
       "      <td>32</td>\n",
       "      <td>One parked--one moving</td>\n",
       "      <td>0</td>\n",
       "      <td>0</td>\n",
       "      <td>N</td>\n",
       "    </tr>\n",
       "    <tr>\n",
       "      <th>3</th>\n",
       "      <td>1</td>\n",
       "      <td>-122.334803</td>\n",
       "      <td>47.604803</td>\n",
       "      <td>4</td>\n",
       "      <td>1144</td>\n",
       "      <td>1144</td>\n",
       "      <td>3503937</td>\n",
       "      <td>Matched</td>\n",
       "      <td>Block</td>\n",
       "      <td>NaN</td>\n",
       "      <td>...</td>\n",
       "      <td>Dry</td>\n",
       "      <td>Daylight</td>\n",
       "      <td>NaN</td>\n",
       "      <td>NaN</td>\n",
       "      <td>NaN</td>\n",
       "      <td>23</td>\n",
       "      <td>From same direction - all others</td>\n",
       "      <td>0</td>\n",
       "      <td>0</td>\n",
       "      <td>N</td>\n",
       "    </tr>\n",
       "    <tr>\n",
       "      <th>4</th>\n",
       "      <td>2</td>\n",
       "      <td>-122.306426</td>\n",
       "      <td>47.545739</td>\n",
       "      <td>5</td>\n",
       "      <td>17700</td>\n",
       "      <td>17700</td>\n",
       "      <td>1807429</td>\n",
       "      <td>Matched</td>\n",
       "      <td>Intersection</td>\n",
       "      <td>34387.0</td>\n",
       "      <td>...</td>\n",
       "      <td>Wet</td>\n",
       "      <td>Daylight</td>\n",
       "      <td>NaN</td>\n",
       "      <td>4028032.0</td>\n",
       "      <td>NaN</td>\n",
       "      <td>10</td>\n",
       "      <td>Entering at angle</td>\n",
       "      <td>0</td>\n",
       "      <td>0</td>\n",
       "      <td>N</td>\n",
       "    </tr>\n",
       "  </tbody>\n",
       "</table>\n",
       "<p>5 rows × 38 columns</p>\n",
       "</div>"
      ],
      "text/plain": [
       "   SEVERITYCODE           X          Y  OBJECTID  INCKEY  COLDETKEY REPORTNO  \\\n",
       "0             2 -122.323148  47.703140         1    1307       1307  3502005   \n",
       "1             1 -122.347294  47.647172         2   52200      52200  2607959   \n",
       "2             1 -122.334540  47.607871         3   26700      26700  1482393   \n",
       "3             1 -122.334803  47.604803         4    1144       1144  3503937   \n",
       "4             2 -122.306426  47.545739         5   17700      17700  1807429   \n",
       "\n",
       "    STATUS      ADDRTYPE   INTKEY  ... ROADCOND                LIGHTCOND  \\\n",
       "0  Matched  Intersection  37475.0  ...      Wet                 Daylight   \n",
       "1  Matched         Block      NaN  ...      Wet  Dark - Street Lights On   \n",
       "2  Matched         Block      NaN  ...      Dry                 Daylight   \n",
       "3  Matched         Block      NaN  ...      Dry                 Daylight   \n",
       "4  Matched  Intersection  34387.0  ...      Wet                 Daylight   \n",
       "\n",
       "  PEDROWNOTGRNT  SDOTCOLNUM SPEEDING ST_COLCODE  \\\n",
       "0           NaN         NaN      NaN         10   \n",
       "1           NaN   6354039.0      NaN         11   \n",
       "2           NaN   4323031.0      NaN         32   \n",
       "3           NaN         NaN      NaN         23   \n",
       "4           NaN   4028032.0      NaN         10   \n",
       "\n",
       "                                          ST_COLDESC  SEGLANEKEY  \\\n",
       "0                                  Entering at angle           0   \n",
       "1  From same direction - both going straight - bo...           0   \n",
       "2                             One parked--one moving           0   \n",
       "3                   From same direction - all others           0   \n",
       "4                                  Entering at angle           0   \n",
       "\n",
       "   CROSSWALKKEY  HITPARKEDCAR  \n",
       "0             0             N  \n",
       "1             0             N  \n",
       "2             0             N  \n",
       "3             0             N  \n",
       "4             0             N  \n",
       "\n",
       "[5 rows x 38 columns]"
      ]
     },
     "execution_count": 2,
     "metadata": {},
     "output_type": "execute_result"
    }
   ],
   "source": [
    "#import the SDOT/SPD dataset on collisions between 2004 and 2020\n",
    "df_csv = pd.read_csv('Data-collisions.csv')\n",
    "df_csv.head()"
   ]
  },
  {
   "cell_type": "markdown",
   "metadata": {},
   "source": [
    "### 1.0 Data Exploration\n",
    "We will do some preliminary examination of the dataset to:\n",
    " - understand the dataset (incl. the datatypes of different columns)\n",
    " - identify possible independent parameters that could be useful for the model\n",
    " - identify what data cleansing and pre-processing might be required\n",
    " \n",
    "[Metadata](https://s3.us.cloud-object-storage.appdomain.cloud/cf-courses-data/CognitiveClass/DP0701EN/version-2/Metadata.pdf)"
   ]
  },
  {
   "cell_type": "code",
   "execution_count": 3,
   "metadata": {},
   "outputs": [
    {
     "name": "stdout",
     "output_type": "stream",
     "text": [
      "(194673, 38)\n",
      "Type 1 collisions (property damage) =  136485\n",
      "Type 2 collisions (with injury) =  58188\n",
      "Ratio of Collisions with property damage only to those with injuries: 2.35\n"
     ]
    }
   ],
   "source": [
    "#what is the size of the dataset\n",
    "print(df_csv.shape)\n",
    "\n",
    "#severity code is the target/dependent variable... what is the breakdown of classifications in the dataset?\n",
    "df_csv.value_counts('SEVERITYCODE')\n",
    "\n",
    "coll_1 = df_csv[df_csv['SEVERITYCODE']==1].count()['SEVERITYCODE']\n",
    "coll_2 = df_csv[df_csv['SEVERITYCODE']==2].count()['SEVERITYCODE']\n",
    "print('Type 1 collisions (property damage) = ', coll_1)\n",
    "print('Type 2 collisions (with injury) = ', coll_2)\n",
    "print('Ratio of Collisions with property damage only to those with injuries: '+'{:.2f}'.format(coll_1/coll_2))"
   ]
  },
  {
   "cell_type": "code",
   "execution_count": 4,
   "metadata": {},
   "outputs": [
    {
     "data": {
      "text/plain": [
       "Index(['SEVERITYCODE', 'X', 'Y', 'OBJECTID', 'INCKEY', 'COLDETKEY', 'REPORTNO',\n",
       "       'STATUS', 'ADDRTYPE', 'INTKEY', 'LOCATION', 'EXCEPTRSNCODE',\n",
       "       'EXCEPTRSNDESC', 'SEVERITYCODE.1', 'SEVERITYDESC', 'COLLISIONTYPE',\n",
       "       'PERSONCOUNT', 'PEDCOUNT', 'PEDCYLCOUNT', 'VEHCOUNT', 'INCDATE',\n",
       "       'INCDTTM', 'JUNCTIONTYPE', 'SDOT_COLCODE', 'SDOT_COLDESC',\n",
       "       'INATTENTIONIND', 'UNDERINFL', 'WEATHER', 'ROADCOND', 'LIGHTCOND',\n",
       "       'PEDROWNOTGRNT', 'SDOTCOLNUM', 'SPEEDING', 'ST_COLCODE', 'ST_COLDESC',\n",
       "       'SEGLANEKEY', 'CROSSWALKKEY', 'HITPARKEDCAR'],\n",
       "      dtype='object')"
      ]
     },
     "execution_count": 4,
     "metadata": {},
     "output_type": "execute_result"
    }
   ],
   "source": [
    "#we can see that the dataset has almost 200k samples and 38 rows.. also there are almost 2.5x the number of\n",
    "#collisions affecting property as there are collisions with injuries. This makes it an unbalanced dataset\n",
    "\n",
    "#what are the different columns that exist in the dataset?\n",
    "df_csv.columns"
   ]
  },
  {
   "cell_type": "markdown",
   "metadata": {},
   "source": [
    "After reviewing the columns and metadata, the following look like good candidates for predicting severity (ie they might influence it):\n",
    "\n",
    "|Column Name|Description|Possible Application/Value/Impact to model|\n",
    "|:---|:---|:---|\n",
    "|COLLISIONTYPE|A keyword describing the collision, eg 'head-on', 'angled', 'cycles', etc.|The orientation or nature of the collision could be valuable to the likelihood of injury to people involved.|\n",
    "|PERSONCOUNT|Total number of people involved in the collision. |More people involved in the collision means more chances for injuries... people could be seated in the vehicle in spots that were closer to the impact, etc.|\n",
    "|PEDCOUNT|The number of pedestrians involved in the collision.|Pedestrians are at greater risk of injury when struck by vehicles because they are not protected by another vehicle frame, seatbelt, airbag, etc.|\n",
    "|PEDCYLCOUNT|The number of bicycles involved.|As with pedestrians, bicyclists are also at greater risk of injury when struck by vehicles.|\n",
    "|VEHCOUNT|The number of vehicles involved in the collision.|More vehicles are more chances for injury, and might suggest more extensive impact, damage or severity.|\n",
    "|INCDATE/INCDTTM|Date and time recordings for the incident records.|This is not as clear; however, the date or time that an incident occurs may be a proxy for driving behaviours that result in more severe incidents. For example, the are higher traffic volumes during weekday rushhours, and people are in a hurry or distracted.|\n",
    "|INATTENTIONIND|If collision was due to inattention.|Distracted driving certainly increases the probabibily of getting in an accident, and may affect severity as well.|\n",
    "|UNDERINFL|If driver was under influence of drugs/alchohol.|Someone under the influence might be driving recklessly, causing the collision to be more severe, and may also not be wearing their seatbelt, increasing their own injury risk.|\n",
    "|WEATHER|Weather at the time of incident.|Weather could have contributed to the nature of the collision, or the control of the vehicles before and after the collision.|\n",
    "|ROADCOND|Condition of road at the time of incident.|This is probably closely aligned with weather, but could also capture the maintenance condition of the roadway.|\n",
    "|LIGHTCOND|Light conditions at the time of incident.|Poor visibility may have contributed to the collision, especially where there are already blind or hidden turns, difficult or dangerous maneuvers are required, or acceptable speeds are already high.|\n",
    "|SPEEDING|If speeding was a factor in the collision.|Speeding or reckless driving could result in more forceful collisions.|\n",
    "\n",
    "Lets explore each of the columns."
   ]
  },
  {
   "cell_type": "code",
   "execution_count": 5,
   "metadata": {},
   "outputs": [
    {
     "name": "stdout",
     "output_type": "stream",
     "text": [
      "INCDATE    object\n",
      "INCDTTM    object\n",
      "dtype: object\n",
      "                       INCDATE    INCDTTM\n",
      "count                   194673     194673\n",
      "unique                    5985     162058\n",
      "top     2006/11/02 00:00:00+00  11/2/2006\n",
      "freq                        96         96\n"
     ]
    },
    {
     "data": {
      "text/html": [
       "<div>\n",
       "<style scoped>\n",
       "    .dataframe tbody tr th:only-of-type {\n",
       "        vertical-align: middle;\n",
       "    }\n",
       "\n",
       "    .dataframe tbody tr th {\n",
       "        vertical-align: top;\n",
       "    }\n",
       "\n",
       "    .dataframe thead th {\n",
       "        text-align: right;\n",
       "    }\n",
       "</style>\n",
       "<table border=\"1\" class=\"dataframe\">\n",
       "  <thead>\n",
       "    <tr style=\"text-align: right;\">\n",
       "      <th></th>\n",
       "      <th>INCDATE</th>\n",
       "      <th>INCDTTM</th>\n",
       "    </tr>\n",
       "  </thead>\n",
       "  <tbody>\n",
       "    <tr>\n",
       "      <th>0</th>\n",
       "      <td>2013/03/27 00:00:00+00</td>\n",
       "      <td>3/27/2013 2:54:00 PM</td>\n",
       "    </tr>\n",
       "    <tr>\n",
       "      <th>1</th>\n",
       "      <td>2006/12/20 00:00:00+00</td>\n",
       "      <td>12/20/2006 6:55:00 PM</td>\n",
       "    </tr>\n",
       "    <tr>\n",
       "      <th>2</th>\n",
       "      <td>2004/11/18 00:00:00+00</td>\n",
       "      <td>11/18/2004 10:20:00 AM</td>\n",
       "    </tr>\n",
       "    <tr>\n",
       "      <th>3</th>\n",
       "      <td>2013/03/29 00:00:00+00</td>\n",
       "      <td>3/29/2013 9:26:00 AM</td>\n",
       "    </tr>\n",
       "    <tr>\n",
       "      <th>4</th>\n",
       "      <td>2004/01/28 00:00:00+00</td>\n",
       "      <td>1/28/2004 8:04:00 AM</td>\n",
       "    </tr>\n",
       "    <tr>\n",
       "      <th>5</th>\n",
       "      <td>2019/04/20 00:00:00+00</td>\n",
       "      <td>4/20/2019 5:42:00 PM</td>\n",
       "    </tr>\n",
       "    <tr>\n",
       "      <th>6</th>\n",
       "      <td>2008/12/09 00:00:00+00</td>\n",
       "      <td>12/9/2008</td>\n",
       "    </tr>\n",
       "    <tr>\n",
       "      <th>7</th>\n",
       "      <td>2020/04/15 00:00:00+00</td>\n",
       "      <td>4/15/2020 5:47:00 PM</td>\n",
       "    </tr>\n",
       "    <tr>\n",
       "      <th>8</th>\n",
       "      <td>2006/06/15 00:00:00+00</td>\n",
       "      <td>6/15/2006 1:00:00 PM</td>\n",
       "    </tr>\n",
       "    <tr>\n",
       "      <th>9</th>\n",
       "      <td>2006/03/20 00:00:00+00</td>\n",
       "      <td>3/20/2006 3:49:00 PM</td>\n",
       "    </tr>\n",
       "    <tr>\n",
       "      <th>10</th>\n",
       "      <td>2006/05/25 00:00:00+00</td>\n",
       "      <td>5/25/2006 6:20:00 PM</td>\n",
       "    </tr>\n",
       "    <tr>\n",
       "      <th>11</th>\n",
       "      <td>2005/08/11 00:00:00+00</td>\n",
       "      <td>8/11/2005 5:30:00 PM</td>\n",
       "    </tr>\n",
       "    <tr>\n",
       "      <th>12</th>\n",
       "      <td>2006/05/17 00:00:00+00</td>\n",
       "      <td>5/17/2006 12:51:00 PM</td>\n",
       "    </tr>\n",
       "    <tr>\n",
       "      <th>13</th>\n",
       "      <td>2005/12/22 00:00:00+00</td>\n",
       "      <td>12/22/2005 5:13:00 PM</td>\n",
       "    </tr>\n",
       "    <tr>\n",
       "      <th>14</th>\n",
       "      <td>2013/03/31 00:00:00+00</td>\n",
       "      <td>3/31/2013 2:09:00 AM</td>\n",
       "    </tr>\n",
       "    <tr>\n",
       "      <th>15</th>\n",
       "      <td>2020/04/20 00:00:00+00</td>\n",
       "      <td>4/20/2020</td>\n",
       "    </tr>\n",
       "    <tr>\n",
       "      <th>16</th>\n",
       "      <td>2005/07/01 00:00:00+00</td>\n",
       "      <td>7/1/2005</td>\n",
       "    </tr>\n",
       "    <tr>\n",
       "      <th>17</th>\n",
       "      <td>2004/01/16 00:00:00+00</td>\n",
       "      <td>1/16/2004 8:25:00 AM</td>\n",
       "    </tr>\n",
       "    <tr>\n",
       "      <th>18</th>\n",
       "      <td>2020/04/17 00:00:00+00</td>\n",
       "      <td>4/17/2020 2:44:00 PM</td>\n",
       "    </tr>\n",
       "    <tr>\n",
       "      <th>19</th>\n",
       "      <td>2009/06/01 00:00:00+00</td>\n",
       "      <td>6/1/2009</td>\n",
       "    </tr>\n",
       "  </tbody>\n",
       "</table>\n",
       "</div>"
      ],
      "text/plain": [
       "                   INCDATE                 INCDTTM\n",
       "0   2013/03/27 00:00:00+00    3/27/2013 2:54:00 PM\n",
       "1   2006/12/20 00:00:00+00   12/20/2006 6:55:00 PM\n",
       "2   2004/11/18 00:00:00+00  11/18/2004 10:20:00 AM\n",
       "3   2013/03/29 00:00:00+00    3/29/2013 9:26:00 AM\n",
       "4   2004/01/28 00:00:00+00    1/28/2004 8:04:00 AM\n",
       "5   2019/04/20 00:00:00+00    4/20/2019 5:42:00 PM\n",
       "6   2008/12/09 00:00:00+00               12/9/2008\n",
       "7   2020/04/15 00:00:00+00    4/15/2020 5:47:00 PM\n",
       "8   2006/06/15 00:00:00+00    6/15/2006 1:00:00 PM\n",
       "9   2006/03/20 00:00:00+00    3/20/2006 3:49:00 PM\n",
       "10  2006/05/25 00:00:00+00    5/25/2006 6:20:00 PM\n",
       "11  2005/08/11 00:00:00+00    8/11/2005 5:30:00 PM\n",
       "12  2006/05/17 00:00:00+00   5/17/2006 12:51:00 PM\n",
       "13  2005/12/22 00:00:00+00   12/22/2005 5:13:00 PM\n",
       "14  2013/03/31 00:00:00+00    3/31/2013 2:09:00 AM\n",
       "15  2020/04/20 00:00:00+00               4/20/2020\n",
       "16  2005/07/01 00:00:00+00                7/1/2005\n",
       "17  2004/01/16 00:00:00+00    1/16/2004 8:25:00 AM\n",
       "18  2020/04/17 00:00:00+00    4/17/2020 2:44:00 PM\n",
       "19  2009/06/01 00:00:00+00                6/1/2009"
      ]
     },
     "execution_count": 5,
     "metadata": {},
     "output_type": "execute_result"
    }
   ],
   "source": [
    "#first lets look at the two date/time columns for format, samples, etc.\n",
    "\n",
    "print(df_csv[['INCDATE','INCDTTM']].dtypes)\n",
    "\n",
    "print(df_csv[['INCDATE','INCDTTM']].describe())\n",
    "\n",
    "df_csv[['INCDATE','INCDTTM']].head(20)"
   ]
  },
  {
   "cell_type": "code",
   "execution_count": 6,
   "metadata": {},
   "outputs": [
    {
     "name": "stdout",
     "output_type": "stream",
     "text": [
      "datetime64[ns]\n",
      "count                  194673\n",
      "unique                 162058\n",
      "top       2006-11-02 00:00:00\n",
      "freq                       96\n",
      "first     2004-01-01 00:00:00\n",
      "last      2020-05-20 00:00:00\n",
      "Name: DATETIME, dtype: object\n"
     ]
    },
    {
     "name": "stderr",
     "output_type": "stream",
     "text": [
      "<ipython-input-6-19ff1598cd8c>:8: FutureWarning: Treating datetime data as categorical rather than numeric in `.describe` is deprecated and will be removed in a future version of pandas. Specify `datetime_is_numeric=True` to silence this warning and adopt the future behavior now.\n",
      "  print(df_csv['DATETIME'].describe())\n"
     ]
    },
    {
     "data": {
      "text/html": [
       "<div>\n",
       "<style scoped>\n",
       "    .dataframe tbody tr th:only-of-type {\n",
       "        vertical-align: middle;\n",
       "    }\n",
       "\n",
       "    .dataframe tbody tr th {\n",
       "        vertical-align: top;\n",
       "    }\n",
       "\n",
       "    .dataframe thead th {\n",
       "        text-align: right;\n",
       "    }\n",
       "</style>\n",
       "<table border=\"1\" class=\"dataframe\">\n",
       "  <thead>\n",
       "    <tr style=\"text-align: right;\">\n",
       "      <th></th>\n",
       "      <th>DATETIME</th>\n",
       "    </tr>\n",
       "  </thead>\n",
       "  <tbody>\n",
       "    <tr>\n",
       "      <th>0</th>\n",
       "      <td>2013-03-27 14:54:00</td>\n",
       "    </tr>\n",
       "    <tr>\n",
       "      <th>1</th>\n",
       "      <td>2006-12-20 18:55:00</td>\n",
       "    </tr>\n",
       "    <tr>\n",
       "      <th>2</th>\n",
       "      <td>2004-11-18 10:20:00</td>\n",
       "    </tr>\n",
       "    <tr>\n",
       "      <th>3</th>\n",
       "      <td>2013-03-29 09:26:00</td>\n",
       "    </tr>\n",
       "    <tr>\n",
       "      <th>4</th>\n",
       "      <td>2004-01-28 08:04:00</td>\n",
       "    </tr>\n",
       "    <tr>\n",
       "      <th>5</th>\n",
       "      <td>2019-04-20 17:42:00</td>\n",
       "    </tr>\n",
       "    <tr>\n",
       "      <th>6</th>\n",
       "      <td>2008-12-09 00:00:00</td>\n",
       "    </tr>\n",
       "    <tr>\n",
       "      <th>7</th>\n",
       "      <td>2020-04-15 17:47:00</td>\n",
       "    </tr>\n",
       "    <tr>\n",
       "      <th>8</th>\n",
       "      <td>2006-06-15 13:00:00</td>\n",
       "    </tr>\n",
       "    <tr>\n",
       "      <th>9</th>\n",
       "      <td>2006-03-20 15:49:00</td>\n",
       "    </tr>\n",
       "    <tr>\n",
       "      <th>10</th>\n",
       "      <td>2006-05-25 18:20:00</td>\n",
       "    </tr>\n",
       "    <tr>\n",
       "      <th>11</th>\n",
       "      <td>2005-08-11 17:30:00</td>\n",
       "    </tr>\n",
       "    <tr>\n",
       "      <th>12</th>\n",
       "      <td>2006-05-17 12:51:00</td>\n",
       "    </tr>\n",
       "    <tr>\n",
       "      <th>13</th>\n",
       "      <td>2005-12-22 17:13:00</td>\n",
       "    </tr>\n",
       "    <tr>\n",
       "      <th>14</th>\n",
       "      <td>2013-03-31 02:09:00</td>\n",
       "    </tr>\n",
       "  </tbody>\n",
       "</table>\n",
       "</div>"
      ],
      "text/plain": [
       "              DATETIME\n",
       "0  2013-03-27 14:54:00\n",
       "1  2006-12-20 18:55:00\n",
       "2  2004-11-18 10:20:00\n",
       "3  2013-03-29 09:26:00\n",
       "4  2004-01-28 08:04:00\n",
       "5  2019-04-20 17:42:00\n",
       "6  2008-12-09 00:00:00\n",
       "7  2020-04-15 17:47:00\n",
       "8  2006-06-15 13:00:00\n",
       "9  2006-03-20 15:49:00\n",
       "10 2006-05-25 18:20:00\n",
       "11 2005-08-11 17:30:00\n",
       "12 2006-05-17 12:51:00\n",
       "13 2005-12-22 17:13:00\n",
       "14 2013-03-31 02:09:00"
      ]
     },
     "execution_count": 6,
     "metadata": {},
     "output_type": "execute_result"
    }
   ],
   "source": [
    "#the format for both columns is 'object' and not the datetime type that we would like and there are issues with the timestamp\n",
    "#this may be and issue, but lets leave for now\n",
    "\n",
    "#lets look at the volume of incidents overtime... first we need to convert the time to the right format.\n",
    "#lets use the INCDTTM column since that atleast captures the time for some records\n",
    "df_csv['DATETIME']=df_csv['INCDTTM'].astype('datetime64[ns]')\n",
    "print(df_csv['DATETIME'].dtypes)\n",
    "print(df_csv['DATETIME'].describe())\n",
    "df_csv[['DATETIME']].head(15)"
   ]
  },
  {
   "cell_type": "code",
   "execution_count": 7,
   "metadata": {},
   "outputs": [
    {
     "data": {
      "text/html": [
       "<div>\n",
       "<style scoped>\n",
       "    .dataframe tbody tr th:only-of-type {\n",
       "        vertical-align: middle;\n",
       "    }\n",
       "\n",
       "    .dataframe tbody tr th {\n",
       "        vertical-align: top;\n",
       "    }\n",
       "\n",
       "    .dataframe thead th {\n",
       "        text-align: right;\n",
       "    }\n",
       "</style>\n",
       "<table border=\"1\" class=\"dataframe\">\n",
       "  <thead>\n",
       "    <tr style=\"text-align: right;\">\n",
       "      <th>SEVERITYCODE</th>\n",
       "      <th>1</th>\n",
       "      <th>2</th>\n",
       "    </tr>\n",
       "    <tr>\n",
       "      <th>DATETIME</th>\n",
       "      <th></th>\n",
       "      <th></th>\n",
       "    </tr>\n",
       "  </thead>\n",
       "  <tbody>\n",
       "    <tr>\n",
       "      <th>2004</th>\n",
       "      <td>8218</td>\n",
       "      <td>3647</td>\n",
       "    </tr>\n",
       "    <tr>\n",
       "      <th>2005</th>\n",
       "      <td>10665</td>\n",
       "      <td>4450</td>\n",
       "    </tr>\n",
       "    <tr>\n",
       "      <th>2006</th>\n",
       "      <td>10838</td>\n",
       "      <td>4350</td>\n",
       "    </tr>\n",
       "    <tr>\n",
       "      <th>2007</th>\n",
       "      <td>10439</td>\n",
       "      <td>4017</td>\n",
       "    </tr>\n",
       "    <tr>\n",
       "      <th>2008</th>\n",
       "      <td>9893</td>\n",
       "      <td>3767</td>\n",
       "    </tr>\n",
       "  </tbody>\n",
       "</table>\n",
       "</div>"
      ],
      "text/plain": [
       "SEVERITYCODE      1     2\n",
       "DATETIME                 \n",
       "2004           8218  3647\n",
       "2005          10665  4450\n",
       "2006          10838  4350\n",
       "2007          10439  4017\n",
       "2008           9893  3767"
      ]
     },
     "execution_count": 7,
     "metadata": {},
     "output_type": "execute_result"
    }
   ],
   "source": [
    "#group the incidents by year and severity classifiation for plotting\n",
    "df_annual = df_csv.groupby([df_csv.DATETIME.dt.year,'SEVERITYCODE']).size().unstack(fill_value=0)\n",
    "df_annual.head()"
   ]
  },
  {
   "cell_type": "code",
   "execution_count": 8,
   "metadata": {},
   "outputs": [
    {
     "data": {
      "text/html": [
       "<div>\n",
       "<style scoped>\n",
       "    .dataframe tbody tr th:only-of-type {\n",
       "        vertical-align: middle;\n",
       "    }\n",
       "\n",
       "    .dataframe tbody tr th {\n",
       "        vertical-align: top;\n",
       "    }\n",
       "\n",
       "    .dataframe thead th {\n",
       "        text-align: right;\n",
       "    }\n",
       "</style>\n",
       "<table border=\"1\" class=\"dataframe\">\n",
       "  <thead>\n",
       "    <tr style=\"text-align: right;\">\n",
       "      <th></th>\n",
       "      <th>Year</th>\n",
       "      <th>Property</th>\n",
       "      <th>Injury</th>\n",
       "    </tr>\n",
       "  </thead>\n",
       "  <tbody>\n",
       "    <tr>\n",
       "      <th>0</th>\n",
       "      <td>2004</td>\n",
       "      <td>8218</td>\n",
       "      <td>3647</td>\n",
       "    </tr>\n",
       "    <tr>\n",
       "      <th>1</th>\n",
       "      <td>2005</td>\n",
       "      <td>10665</td>\n",
       "      <td>4450</td>\n",
       "    </tr>\n",
       "    <tr>\n",
       "      <th>2</th>\n",
       "      <td>2006</td>\n",
       "      <td>10838</td>\n",
       "      <td>4350</td>\n",
       "    </tr>\n",
       "    <tr>\n",
       "      <th>3</th>\n",
       "      <td>2007</td>\n",
       "      <td>10439</td>\n",
       "      <td>4017</td>\n",
       "    </tr>\n",
       "    <tr>\n",
       "      <th>4</th>\n",
       "      <td>2008</td>\n",
       "      <td>9893</td>\n",
       "      <td>3767</td>\n",
       "    </tr>\n",
       "  </tbody>\n",
       "</table>\n",
       "</div>"
      ],
      "text/plain": [
       "   Year  Property  Injury\n",
       "0  2004      8218    3647\n",
       "1  2005     10665    4450\n",
       "2  2006     10838    4350\n",
       "3  2007     10439    4017\n",
       "4  2008      9893    3767"
      ]
     },
     "execution_count": 8,
     "metadata": {},
     "output_type": "execute_result"
    }
   ],
   "source": [
    "#reformat the dataframe\n",
    "df_annual.reset_index(drop=False,inplace=True)\n",
    "df_annual.columns = ['Year','Property','Injury']\n",
    "df_annual.head()"
   ]
  },
  {
   "cell_type": "code",
   "execution_count": 9,
   "metadata": {},
   "outputs": [
    {
     "data": {
      "text/html": [
       "<div>\n",
       "<style scoped>\n",
       "    .dataframe tbody tr th:only-of-type {\n",
       "        vertical-align: middle;\n",
       "    }\n",
       "\n",
       "    .dataframe tbody tr th {\n",
       "        vertical-align: top;\n",
       "    }\n",
       "\n",
       "    .dataframe thead th {\n",
       "        text-align: right;\n",
       "    }\n",
       "</style>\n",
       "<table border=\"1\" class=\"dataframe\">\n",
       "  <thead>\n",
       "    <tr style=\"text-align: right;\">\n",
       "      <th></th>\n",
       "      <th>Year</th>\n",
       "      <th>Property</th>\n",
       "      <th>Injury</th>\n",
       "      <th>Total</th>\n",
       "      <th>Severe_rate</th>\n",
       "    </tr>\n",
       "  </thead>\n",
       "  <tbody>\n",
       "    <tr>\n",
       "      <th>11</th>\n",
       "      <td>2015</td>\n",
       "      <td>9243</td>\n",
       "      <td>3752</td>\n",
       "      <td>12995</td>\n",
       "      <td>0.288726</td>\n",
       "    </tr>\n",
       "    <tr>\n",
       "      <th>12</th>\n",
       "      <td>2016</td>\n",
       "      <td>7945</td>\n",
       "      <td>3714</td>\n",
       "      <td>11659</td>\n",
       "      <td>0.318552</td>\n",
       "    </tr>\n",
       "    <tr>\n",
       "      <th>13</th>\n",
       "      <td>2017</td>\n",
       "      <td>7454</td>\n",
       "      <td>3419</td>\n",
       "      <td>10873</td>\n",
       "      <td>0.314449</td>\n",
       "    </tr>\n",
       "    <tr>\n",
       "      <th>14</th>\n",
       "      <td>2018</td>\n",
       "      <td>7061</td>\n",
       "      <td>3358</td>\n",
       "      <td>10419</td>\n",
       "      <td>0.322296</td>\n",
       "    </tr>\n",
       "    <tr>\n",
       "      <th>15</th>\n",
       "      <td>2019</td>\n",
       "      <td>6350</td>\n",
       "      <td>3062</td>\n",
       "      <td>9412</td>\n",
       "      <td>0.325329</td>\n",
       "    </tr>\n",
       "  </tbody>\n",
       "</table>\n",
       "</div>"
      ],
      "text/plain": [
       "    Year  Property  Injury  Total  Severe_rate\n",
       "11  2015      9243    3752  12995     0.288726\n",
       "12  2016      7945    3714  11659     0.318552\n",
       "13  2017      7454    3419  10873     0.314449\n",
       "14  2018      7061    3358  10419     0.322296\n",
       "15  2019      6350    3062   9412     0.325329"
      ]
     },
     "execution_count": 9,
     "metadata": {},
     "output_type": "execute_result"
    }
   ],
   "source": [
    "#lets add a Total colum to sum the number of total incidents per year, and calculate the fraction that are severe\n",
    "df_annual['Total'] = df_annual['Property'] + df_annual['Injury']\n",
    "df_annual['Severe_rate'] = df_annual['Injury'] / df_annual['Total']\n",
    "#drop the 2020 row since the year is not complete... we want to look at the recent trend\n",
    "df_annual.drop(df_annual.tail(1).index,inplace=True)\n",
    "df_annual.tail()"
   ]
  },
  {
   "cell_type": "code",
   "execution_count": 10,
   "metadata": {},
   "outputs": [
    {
     "data": {
      "image/png": "[encoded data removed]",
      "text/plain": [
       "<Figure size 720x720 with 2 Axes>"
      ]
     },
     "metadata": {
      "needs_background": "light"
     },
     "output_type": "display_data"
    }
   ],
   "source": [
    "#lets plot the property and injury counts and rate of severe (injury) collisions versus year\n",
    "fig, (ax1, ax2) = plt.subplots(2,1, figsize=(10,10))\n",
    "\n",
    "ax1.plot('Year','Property',data=df_annual,marker='',color='blue')\n",
    "ax1.plot('Year','Injury',data=df_annual,marker='',color='red')\n",
    "ax1.plot('Year','Total',data=df_annual,marker='',color='k')\n",
    "ax1.set(title='Collision Incidents per Year',xlabel = 'Year',ylabel='Count of Incidents')\n",
    "ax1.legend()\n",
    "\n",
    "ax2.plot('Year','Severe_rate',data=df_annual,marker='o',color='k')\n",
    "ax2.set(title='Severe Collisions as fraction of total',xlabel='Year',ylabel='Severe/Total Collisions')\n",
    "\n",
    "plt.show()"
   ]
  },
  {
   "cell_type": "markdown",
   "metadata": {},
   "source": [
    "__This is an interesting observation, and perhaps forms the business case for building a model to predict collision severity.__\n",
    "\n",
    "In the Spring of 2015, the Seattle Department of Transportation published a 10-year Strategic Vision for sustainable and safe transportation in the city.\n",
    "\n",
    "[Webpage & Report Link](https://www.seattle.gov/transportation/document-library/citywide-plans/move-seattle)\n",
    "\n",
    "The report highlights the city's **_Vision Zero_** goal of eliminating serious and fatal crashes by 2030. As we can see from the above chart, while the number of total incidents has decreased every year since 2015, the number of incidents where injuries occur has stayed mostly flat, accounting for a higher percentage of the total volume.\n",
    "\n",
    "Building a model to predict the severity of collisions could benefit the Seattle DOT in a couple ways:\n",
    "\n",
    " - identifying the factors that most contribute to severe collisions, allowing more targetted improvements and changes\n",
    " - providing a means to quantify (evaluate) and select improvements options with the most benefit (reduction in severe incidents)\n",
    " - allow coordination with emergency response services on resource optimization and development of decision-support tools for dispatching (where response is most critical, etc)."
   ]
  },
  {
   "cell_type": "code",
   "execution_count": 11,
   "metadata": {},
   "outputs": [
    {
     "name": "stdout",
     "output_type": "stream",
     "text": [
      "(194673, 13)\n"
     ]
    },
    {
     "data": {
      "text/html": [
       "<div>\n",
       "<style scoped>\n",
       "    .dataframe tbody tr th:only-of-type {\n",
       "        vertical-align: middle;\n",
       "    }\n",
       "\n",
       "    .dataframe tbody tr th {\n",
       "        vertical-align: top;\n",
       "    }\n",
       "\n",
       "    .dataframe thead th {\n",
       "        text-align: right;\n",
       "    }\n",
       "</style>\n",
       "<table border=\"1\" class=\"dataframe\">\n",
       "  <thead>\n",
       "    <tr style=\"text-align: right;\">\n",
       "      <th></th>\n",
       "      <th>DATETIME</th>\n",
       "      <th>COLLISIONTYPE</th>\n",
       "      <th>PERSONCOUNT</th>\n",
       "      <th>PEDCOUNT</th>\n",
       "      <th>PEDCYLCOUNT</th>\n",
       "      <th>VEHCOUNT</th>\n",
       "      <th>INATTENTIONIND</th>\n",
       "      <th>UNDERINFL</th>\n",
       "      <th>WEATHER</th>\n",
       "      <th>ROADCOND</th>\n",
       "      <th>LIGHTCOND</th>\n",
       "      <th>SPEEDING</th>\n",
       "      <th>SEVERITYCODE</th>\n",
       "    </tr>\n",
       "  </thead>\n",
       "  <tbody>\n",
       "    <tr>\n",
       "      <th>0</th>\n",
       "      <td>2013-03-27 14:54:00</td>\n",
       "      <td>Angles</td>\n",
       "      <td>2</td>\n",
       "      <td>0</td>\n",
       "      <td>0</td>\n",
       "      <td>2</td>\n",
       "      <td>NaN</td>\n",
       "      <td>N</td>\n",
       "      <td>Overcast</td>\n",
       "      <td>Wet</td>\n",
       "      <td>Daylight</td>\n",
       "      <td>NaN</td>\n",
       "      <td>2</td>\n",
       "    </tr>\n",
       "    <tr>\n",
       "      <th>1</th>\n",
       "      <td>2006-12-20 18:55:00</td>\n",
       "      <td>Sideswipe</td>\n",
       "      <td>2</td>\n",
       "      <td>0</td>\n",
       "      <td>0</td>\n",
       "      <td>2</td>\n",
       "      <td>NaN</td>\n",
       "      <td>0</td>\n",
       "      <td>Raining</td>\n",
       "      <td>Wet</td>\n",
       "      <td>Dark - Street Lights On</td>\n",
       "      <td>NaN</td>\n",
       "      <td>1</td>\n",
       "    </tr>\n",
       "    <tr>\n",
       "      <th>2</th>\n",
       "      <td>2004-11-18 10:20:00</td>\n",
       "      <td>Parked Car</td>\n",
       "      <td>4</td>\n",
       "      <td>0</td>\n",
       "      <td>0</td>\n",
       "      <td>3</td>\n",
       "      <td>NaN</td>\n",
       "      <td>0</td>\n",
       "      <td>Overcast</td>\n",
       "      <td>Dry</td>\n",
       "      <td>Daylight</td>\n",
       "      <td>NaN</td>\n",
       "      <td>1</td>\n",
       "    </tr>\n",
       "    <tr>\n",
       "      <th>3</th>\n",
       "      <td>2013-03-29 09:26:00</td>\n",
       "      <td>Other</td>\n",
       "      <td>3</td>\n",
       "      <td>0</td>\n",
       "      <td>0</td>\n",
       "      <td>3</td>\n",
       "      <td>NaN</td>\n",
       "      <td>N</td>\n",
       "      <td>Clear</td>\n",
       "      <td>Dry</td>\n",
       "      <td>Daylight</td>\n",
       "      <td>NaN</td>\n",
       "      <td>1</td>\n",
       "    </tr>\n",
       "    <tr>\n",
       "      <th>4</th>\n",
       "      <td>2004-01-28 08:04:00</td>\n",
       "      <td>Angles</td>\n",
       "      <td>2</td>\n",
       "      <td>0</td>\n",
       "      <td>0</td>\n",
       "      <td>2</td>\n",
       "      <td>NaN</td>\n",
       "      <td>0</td>\n",
       "      <td>Raining</td>\n",
       "      <td>Wet</td>\n",
       "      <td>Daylight</td>\n",
       "      <td>NaN</td>\n",
       "      <td>2</td>\n",
       "    </tr>\n",
       "  </tbody>\n",
       "</table>\n",
       "</div>"
      ],
      "text/plain": [
       "             DATETIME COLLISIONTYPE  PERSONCOUNT  PEDCOUNT  PEDCYLCOUNT  \\\n",
       "0 2013-03-27 14:54:00        Angles            2         0            0   \n",
       "1 2006-12-20 18:55:00     Sideswipe            2         0            0   \n",
       "2 2004-11-18 10:20:00    Parked Car            4         0            0   \n",
       "3 2013-03-29 09:26:00         Other            3         0            0   \n",
       "4 2004-01-28 08:04:00        Angles            2         0            0   \n",
       "\n",
       "   VEHCOUNT INATTENTIONIND UNDERINFL   WEATHER ROADCOND  \\\n",
       "0         2            NaN         N  Overcast      Wet   \n",
       "1         2            NaN         0   Raining      Wet   \n",
       "2         3            NaN         0  Overcast      Dry   \n",
       "3         3            NaN         N     Clear      Dry   \n",
       "4         2            NaN         0   Raining      Wet   \n",
       "\n",
       "                 LIGHTCOND SPEEDING  SEVERITYCODE  \n",
       "0                 Daylight      NaN             2  \n",
       "1  Dark - Street Lights On      NaN             1  \n",
       "2                 Daylight      NaN             1  \n",
       "3                 Daylight      NaN             1  \n",
       "4                 Daylight      NaN             2  "
      ]
     },
     "execution_count": 11,
     "metadata": {},
     "output_type": "execute_result"
    }
   ],
   "source": [
    "#lets keep exploring the data.. for simplicity, lets create a new df with the features that we want only\n",
    "\n",
    "df_exp = df_csv[['DATETIME','COLLISIONTYPE','PERSONCOUNT','PEDCOUNT','PEDCYLCOUNT','VEHCOUNT','INATTENTIONIND','UNDERINFL',\n",
    "                'WEATHER','ROADCOND','LIGHTCOND','SPEEDING','SEVERITYCODE']]\n",
    "print(df_exp.shape)\n",
    "df_exp.head()"
   ]
  },
  {
   "cell_type": "code",
   "execution_count": 12,
   "metadata": {},
   "outputs": [
    {
     "data": {
      "text/html": [
       "<div>\n",
       "<style scoped>\n",
       "    .dataframe tbody tr th:only-of-type {\n",
       "        vertical-align: middle;\n",
       "    }\n",
       "\n",
       "    .dataframe tbody tr th {\n",
       "        vertical-align: top;\n",
       "    }\n",
       "\n",
       "    .dataframe thead th {\n",
       "        text-align: right;\n",
       "    }\n",
       "</style>\n",
       "<table border=\"1\" class=\"dataframe\">\n",
       "  <thead>\n",
       "    <tr style=\"text-align: right;\">\n",
       "      <th></th>\n",
       "      <th>Weekday</th>\n",
       "      <th>Property</th>\n",
       "      <th>Injury</th>\n",
       "      <th>Total</th>\n",
       "      <th>inj_rate</th>\n",
       "    </tr>\n",
       "  </thead>\n",
       "  <tbody>\n",
       "    <tr>\n",
       "      <th>0</th>\n",
       "      <td>0</td>\n",
       "      <td>18365</td>\n",
       "      <td>7973</td>\n",
       "      <td>26338</td>\n",
       "      <td>0.302719</td>\n",
       "    </tr>\n",
       "    <tr>\n",
       "      <th>1</th>\n",
       "      <td>1</td>\n",
       "      <td>19825</td>\n",
       "      <td>8731</td>\n",
       "      <td>28556</td>\n",
       "      <td>0.305750</td>\n",
       "    </tr>\n",
       "    <tr>\n",
       "      <th>2</th>\n",
       "      <td>2</td>\n",
       "      <td>20021</td>\n",
       "      <td>8757</td>\n",
       "      <td>28778</td>\n",
       "      <td>0.304295</td>\n",
       "    </tr>\n",
       "    <tr>\n",
       "      <th>3</th>\n",
       "      <td>3</td>\n",
       "      <td>20306</td>\n",
       "      <td>9018</td>\n",
       "      <td>29324</td>\n",
       "      <td>0.307530</td>\n",
       "    </tr>\n",
       "    <tr>\n",
       "      <th>4</th>\n",
       "      <td>4</td>\n",
       "      <td>22774</td>\n",
       "      <td>9559</td>\n",
       "      <td>32333</td>\n",
       "      <td>0.295642</td>\n",
       "    </tr>\n",
       "    <tr>\n",
       "      <th>5</th>\n",
       "      <td>5</td>\n",
       "      <td>19342</td>\n",
       "      <td>8047</td>\n",
       "      <td>27389</td>\n",
       "      <td>0.293804</td>\n",
       "    </tr>\n",
       "    <tr>\n",
       "      <th>6</th>\n",
       "      <td>6</td>\n",
       "      <td>15852</td>\n",
       "      <td>6103</td>\n",
       "      <td>21955</td>\n",
       "      <td>0.277978</td>\n",
       "    </tr>\n",
       "  </tbody>\n",
       "</table>\n",
       "</div>"
      ],
      "text/plain": [
       "   Weekday  Property  Injury  Total  inj_rate\n",
       "0        0     18365    7973  26338  0.302719\n",
       "1        1     19825    8731  28556  0.305750\n",
       "2        2     20021    8757  28778  0.304295\n",
       "3        3     20306    9018  29324  0.307530\n",
       "4        4     22774    9559  32333  0.295642\n",
       "5        5     19342    8047  27389  0.293804\n",
       "6        6     15852    6103  21955  0.277978"
      ]
     },
     "execution_count": 12,
     "metadata": {},
     "output_type": "execute_result"
    }
   ],
   "source": [
    "#lets look at collision distribution by the day of the week\n",
    "df_day = df_exp.groupby([df_exp.DATETIME.dt.dayofweek,'SEVERITYCODE']).size().unstack(fill_value=0)\n",
    "df_day.reset_index(drop=False,inplace=True)\n",
    "df_day.columns = ['Weekday','Property','Injury']\n",
    "df_day['Total'] = df_day['Property'] + df_day['Injury']\n",
    "df_day['inj_rate'] = df_day['Injury'] / df_day['Total']\n",
    "df_day"
   ]
  },
  {
   "cell_type": "markdown",
   "metadata": {},
   "source": [
    "__(DATETIME) Observation:__ As expected the total volume of collisions is higher for weekdays than weekends. The volumes of total and injury collisions both gradually increase to a peak on Friday before dropping off Saturday and Sunday. The proportion of injury collisions is near identical for Monday-Thursday around 30%. These drop somewhat for Friday - Sunday, but this might be due to the relative changes in volume. <br>\n",
    "__>>Different days of the week do not have significantly different severity results, therefore this feature will not be used for training.__"
   ]
  },
  {
   "cell_type": "code",
   "execution_count": 13,
   "metadata": {},
   "outputs": [
    {
     "name": "stdout",
     "output_type": "stream",
     "text": [
      "Count of total collisions:  194673\n",
      "Count of collisions on weekdays:  145329\n",
      "Count of collisions on weekends:  49344\n"
     ]
    },
    {
     "data": {
      "image/png": "[encoded data removed]",
      "text/plain": [
       "<Figure size 432x432 with 1 Axes>"
      ]
     },
     "metadata": {
      "needs_background": "light"
     },
     "output_type": "display_data"
    }
   ],
   "source": [
    "#lets do this same exercise looking at hour of the day\n",
    "#generate df grouped by hour of day and severity code, for all days of the week\n",
    "df_hour = df_exp.groupby([df_exp.DATETIME.dt.hour,'SEVERITYCODE']).size().unstack(fill_value=0)\n",
    "df_hour.reset_index(drop=False,inplace=True)\n",
    "#reset the column values\n",
    "df_hour.columns = ['Hour','Property','Injury']\n",
    "#calculate total sum and proportion of collisions that are severe (involved injury)\n",
    "df_hour['Total'] = df_hour['Property'] + df_hour['Injury']\n",
    "df_hour['inj_rate'] = df_hour['Injury'] / df_hour['Total']\n",
    "\n",
    "#generate an identical grouped dataframe, but including only weekdays - want to see if rush-hour impact stands out more\n",
    "wkdays = [0,1,2,3,4] #list of values that correspond to Monday-Friday\n",
    "df_hour2 = df_exp[df_exp.DATETIME.dt.dayofweek.isin(wkdays)].groupby([df_exp.DATETIME.dt.hour,'SEVERITYCODE']).size().unstack(fill_value=0)\n",
    "df_hour2.reset_index(drop=False,inplace=True)\n",
    "df_hour2.columns = ['Hour','Property','Injury']\n",
    "#calculate total and proportion of injury collisions\n",
    "df_hour2['Total'] = df_hour2['Property'] + df_hour2['Injury']\n",
    "df_hour2['inj_rate'] = df_hour2['Injury'] / df_hour2['Total']\n",
    "\n",
    "#generate a third df for only weekend days\n",
    "df_hour3 = df_exp[~df_exp.DATETIME.dt.dayofweek.isin(wkdays)].groupby([df_exp.DATETIME.dt.hour,'SEVERITYCODE']).size().unstack(fill_value=0)\n",
    "df_hour3.reset_index(drop=False,inplace=True)\n",
    "df_hour3.columns = ['Hour','Property','Injury']\n",
    "df_hour3['Total'] = df_hour3['Property'] + df_hour3['Injury']\n",
    "df_hour3['inj_rate'] = df_hour3['Injury'] / df_hour3['Total']\n",
    "\n",
    "#print some relevant counts\n",
    "print('Count of total collisions: ', df_hour['Total'].sum())\n",
    "print('Count of collisions on weekdays: ', df_hour2['Total'].sum())\n",
    "print('Count of collisions on weekends: ', df_hour['Total'].sum() - df_hour2['Total'].sum())\n",
    "\n",
    "#generate a plot to compare the change in proportion of injury collisions by hour of the day\n",
    "plt.figure(figsize=(6,6))\n",
    "#plot rates including all days of the week in black\n",
    "plt.plot('Hour','inj_rate',data=df_hour,marker='o',color='k')\n",
    "#plot rates for only weekdays in red\n",
    "plt.plot('Hour','inj_rate',data=df_hour2,marker='+',color='r')\n",
    "#plot rates for only weekends in blue\n",
    "plt.plot('Hour','inj_rate',data=df_hour3,marker='*',color='b')\n",
    "plt.title('Severe collisions as fraction of total, by time-of-day')\n",
    "plt.xlabel('Hour')\n",
    "plt.ylabel('Severe/Total Collisions')\n",
    "plt.legend(['All days','Weekdays only','Weekends only'],loc=4)\n",
    "plt.show()"
   ]
  },
  {
   "cell_type": "markdown",
   "metadata": {},
   "source": [
    "__(DATETIME pt2) Observation:__ here we can see that collisions that occur during the morning and afternoon \"rush-hour\" periods result in injury more often than at other points in the day. The difference between the Red and Blue lines also shows that this is more pronounced on weekdays vs weekends, further confirming the rushour significance. <br>\n",
    "To be clear, this is looking at the rate of total collisions that result in injury, not just at the volume (which is likely also high because it is a peak driving time). The time of day is not directly responsible for a collision resulting in injury, but it probably serves as a good proxy for certain driving behaviours or conditions that contribute to both the frequency and severity of collisions. <br>\n",
    "__>>This is a good feature to use in the model, will simplify by categorizing the time as either rush-hour or non-rush-hour period, rather than full one-hot coding for each hour of the day.__"
   ]
  },
  {
   "cell_type": "code",
   "execution_count": 14,
   "metadata": {},
   "outputs": [
    {
     "data": {
      "text/plain": [
       "Text(0, 0.5, 'Severe/Total Collisions')"
      ]
     },
     "execution_count": 14,
     "metadata": {},
     "output_type": "execute_result"
    },
    {
     "data": {
      "image/png": "[encoded data removed]",
      "text/plain": [
       "<Figure size 432x432 with 1 Axes>"
      ]
     },
     "metadata": {
      "needs_background": "light"
     },
     "output_type": "display_data"
    }
   ],
   "source": [
    "#now lets explore severity versus the different types of collisions that occur\n",
    "df_type = df_exp.groupby(['COLLISIONTYPE','SEVERITYCODE']).size().unstack(fill_value=0)\n",
    "df_type.reset_index(drop=False,inplace=True)\n",
    "df_type.columns = ['Type','Property','Injury']\n",
    "df_type['Total'] = df_type['Property'] + df_type['Injury']\n",
    "df_type['inj_rate'] = df_type['Injury'] / df_type['Total']\n",
    "\n",
    "plt.figure(figsize=(6,6))\n",
    "plt.bar(df_type['Type'],df_type['inj_rate'])\n",
    "plt.title('Severe collisions as fraction of total, by recorded type')\n",
    "plt.xlabel('Collision Type')\n",
    "plt.xticks(rotation=90)\n",
    "plt.ylabel('Severe/Total Collisions')"
   ]
  },
  {
   "cell_type": "markdown",
   "metadata": {},
   "source": [
    "__(COLLISIONTYPE) Observation:__ collisions involving cylces and pedestrians result in injuries in close to 100% of occurences, while those involving parked cars rarely result in injury. This makes sense - pedestrians and bicyclists are not protected by the body of the vehicle and are also likely to have a second impact with the ground after being struck, while collisions with parked cars most probably occur at slower speeds when no one is in the parked car. Angular, head-on, left-turn and rear-end collisions all result in injuries around 40% of the time, while right-turns and sideswips appear to have less severe results. <br>\n",
    "__>>As we can see substantial differences between the types of collisions, this feature will be used for modelling.__"
   ]
  },
  {
   "cell_type": "code",
   "execution_count": 15,
   "metadata": {},
   "outputs": [
    {
     "data": {
      "text/plain": [
       "2     114231\n",
       "3      35553\n",
       "4      14660\n",
       "1      13154\n",
       "5       6584\n",
       "0       5544\n",
       "6       2702\n",
       "7       1131\n",
       "8        533\n",
       "9        216\n",
       "10       128\n",
       "11        56\n",
       "12        33\n",
       "13        21\n",
       "14        19\n",
       "15        11\n",
       "17        11\n",
       "16         8\n",
       "44         6\n",
       "18         6\n",
       "20         6\n",
       "25         6\n",
       "19         5\n",
       "26         4\n",
       "22         4\n",
       "27         3\n",
       "28         3\n",
       "29         3\n",
       "47         3\n",
       "32         3\n",
       "34         3\n",
       "37         3\n",
       "23         2\n",
       "21         2\n",
       "24         2\n",
       "30         2\n",
       "36         2\n",
       "57         1\n",
       "31         1\n",
       "35         1\n",
       "39         1\n",
       "41         1\n",
       "43         1\n",
       "48         1\n",
       "53         1\n",
       "54         1\n",
       "81         1\n",
       "Name: PERSONCOUNT, dtype: int64"
      ]
     },
     "execution_count": 15,
     "metadata": {},
     "output_type": "execute_result"
    }
   ],
   "source": [
    "#lets look at collisions vs PERSONCOUNT (number of people involved)... first lets see the range of different values\n",
    "df_exp['PERSONCOUNT'].value_counts()"
   ]
  },
  {
   "cell_type": "code",
   "execution_count": 16,
   "metadata": {},
   "outputs": [
    {
     "data": {
      "text/plain": [
       "[(-1.0, 11.0)]"
      ]
     },
     "execution_count": 16,
     "metadata": {},
     "output_type": "execute_result"
    },
    {
     "data": {
      "image/png": "[encoded data removed]",
      "text/plain": [
       "<Figure size 432x288 with 1 Axes>"
      ]
     },
     "metadata": {
      "needs_background": "light"
     },
     "output_type": "display_data"
    }
   ],
   "source": [
    "#lets graph the count of property vs injury collisions for the different personcounts\n",
    "#lets cut the graph off at 11 which is the last count with >50 samples\n",
    "ax = sns.countplot(x='PERSONCOUNT',hue='SEVERITYCODE',data=df_exp)\n",
    "ax.set(xlim=(-1,11))"
   ]
  },
  {
   "cell_type": "markdown",
   "metadata": {},
   "source": [
    "__(PERSONCOUNT) Observations:__ it is unclear what to make of the samples with really high counts of people. Were these incidents incorrectly recorded or did they involved massive pileups, or busses of people? Similarly, there are over 5500 samples where the person count is 0. The majority of cases fall in the range of 1-5 people involved. It is probably best to focus on this area for modeling.\n",
    "\n",
    "It is not conclusive evidence, but it does appear that for collisions involving 3 or more people, the proportion of property to injury collisions is more evenly split. <br>\n",
    "__>>First, clean the data to remove samples where the count of people is 0. Then, transform this feature to identify if there are more or less than 3 people involved (1 or 0, respectively) and use it in the model.__"
   ]
  },
  {
   "cell_type": "code",
   "execution_count": 17,
   "metadata": {},
   "outputs": [
    {
     "data": {
      "text/plain": [
       "0    187734\n",
       "1      6685\n",
       "2       226\n",
       "3        22\n",
       "4         4\n",
       "6         1\n",
       "5         1\n",
       "Name: PEDCOUNT, dtype: int64"
      ]
     },
     "execution_count": 17,
     "metadata": {},
     "output_type": "execute_result"
    }
   ],
   "source": [
    "#let apply the same visualization to PEDCOUNT\n",
    "df_exp['PEDCOUNT'].value_counts()"
   ]
  },
  {
   "cell_type": "code",
   "execution_count": 18,
   "metadata": {},
   "outputs": [
    {
     "data": {
      "text/plain": [
       "[(-1.0, 4.0)]"
      ]
     },
     "execution_count": 18,
     "metadata": {},
     "output_type": "execute_result"
    },
    {
     "data": {
      "image/png": "[encoded data removed]",
      "text/plain": [
       "<Figure size 432x288 with 1 Axes>"
      ]
     },
     "metadata": {
      "needs_background": "light"
     },
     "output_type": "display_data"
    }
   ],
   "source": [
    "#graph a countplot to see the distribution\n",
    "ax = sns.countplot(x='PEDCOUNT',hue='SEVERITYCODE',data=df_exp)\n",
    "ax.set(xlim=(-1,4))"
   ]
  },
  {
   "cell_type": "markdown",
   "metadata": {},
   "source": [
    "__(PEDCOUNT) Observation:__ this confirms what we saw earlier when studying collision types. It stands to reason that pedestrians struck by vehicles are more likely to withstand injuries than not. <br>\n",
    "__>>when the pedcount is >1 (at least one pedestrian is involved) injuries are more likely to occur. However, this is already captured by the 'Pedestrian' collision type, which is already in the feature set.__"
   ]
  },
  {
   "cell_type": "code",
   "execution_count": 19,
   "metadata": {},
   "outputs": [
    {
     "data": {
      "text/plain": [
       "0    189189\n",
       "1      5441\n",
       "2        43\n",
       "Name: PEDCYLCOUNT, dtype: int64"
      ]
     },
     "execution_count": 19,
     "metadata": {},
     "output_type": "execute_result"
    }
   ],
   "source": [
    "#bicylce counts..\n",
    "df_exp['PEDCYLCOUNT'].value_counts()"
   ]
  },
  {
   "cell_type": "code",
   "execution_count": 20,
   "metadata": {},
   "outputs": [
    {
     "data": {
      "text/plain": [
       "[(-1.0, 3.0)]"
      ]
     },
     "execution_count": 20,
     "metadata": {},
     "output_type": "execute_result"
    },
    {
     "data": {
      "image/png": "[encoded data removed]",
      "text/plain": [
       "<Figure size 432x288 with 1 Axes>"
      ]
     },
     "metadata": {
      "needs_background": "light"
     },
     "output_type": "display_data"
    }
   ],
   "source": [
    "#count plot of severity\n",
    "ax = sns.countplot(x='PEDCYLCOUNT',hue='SEVERITYCODE',data=df_exp)\n",
    "ax.set(xlim=(-1,3))"
   ]
  },
  {
   "cell_type": "markdown",
   "metadata": {},
   "source": [
    "__(CYLCOUNT) Observation:__ as above, this confirms what we expected. When bicycles are involved, injuries are more likely to occur. <br>\n",
    "__>>The 'Cycles' COLLISIONTYPE already introduces this relationship.__"
   ]
  },
  {
   "cell_type": "code",
   "execution_count": 21,
   "metadata": {},
   "outputs": [
    {
     "data": {
      "text/plain": [
       "2     147650\n",
       "1      25748\n",
       "3      13010\n",
       "0       5085\n",
       "4       2426\n",
       "5        529\n",
       "6        146\n",
       "7         46\n",
       "8         15\n",
       "9          9\n",
       "11         6\n",
       "10         2\n",
       "12         1\n",
       "Name: VEHCOUNT, dtype: int64"
      ]
     },
     "execution_count": 21,
     "metadata": {},
     "output_type": "execute_result"
    }
   ],
   "source": [
    "#vehicle count...\n",
    "df_exp['VEHCOUNT'].value_counts()"
   ]
  },
  {
   "cell_type": "code",
   "execution_count": 22,
   "metadata": {},
   "outputs": [
    {
     "data": {
      "text/plain": [
       "[(-1.0, 7.0)]"
      ]
     },
     "execution_count": 22,
     "metadata": {},
     "output_type": "execute_result"
    },
    {
     "data": {
      "image/png": "[encoded data removed]",
      "text/plain": [
       "<Figure size 432x288 with 1 Axes>"
      ]
     },
     "metadata": {
      "needs_background": "light"
     },
     "output_type": "display_data"
    }
   ],
   "source": [
    "#count plot\n",
    "ax = sns.countplot(x='VEHCOUNT',hue='SEVERITYCODE',data=df_exp)\n",
    "ax.set(xlim=(-1,7))"
   ]
  },
  {
   "cell_type": "markdown",
   "metadata": {},
   "source": [
    "__(VEHCOUNT) Observation:__ Collisions involving one vehicle have resulted in more incidents with injury than property damange only. One hypothesis might be that collisions involving one vehicle disproportionately include those involving pedestrians or bicycles, which result in injury more often, as we have already seen."
   ]
  },
  {
   "cell_type": "code",
   "execution_count": 23,
   "metadata": {},
   "outputs": [
    {
     "data": {
      "text/html": [
       "<div>\n",
       "<style scoped>\n",
       "    .dataframe tbody tr th:only-of-type {\n",
       "        vertical-align: middle;\n",
       "    }\n",
       "\n",
       "    .dataframe tbody tr th {\n",
       "        vertical-align: top;\n",
       "    }\n",
       "\n",
       "    .dataframe thead th {\n",
       "        text-align: right;\n",
       "    }\n",
       "</style>\n",
       "<table border=\"1\" class=\"dataframe\">\n",
       "  <thead>\n",
       "    <tr style=\"text-align: right;\">\n",
       "      <th>SEVERITYCODE</th>\n",
       "      <th>1</th>\n",
       "      <th>2</th>\n",
       "    </tr>\n",
       "    <tr>\n",
       "      <th>COLLISIONTYPE</th>\n",
       "      <th></th>\n",
       "      <th></th>\n",
       "    </tr>\n",
       "  </thead>\n",
       "  <tbody>\n",
       "    <tr>\n",
       "      <th>Angles</th>\n",
       "      <td>3</td>\n",
       "      <td>24</td>\n",
       "    </tr>\n",
       "    <tr>\n",
       "      <th>Cycles</th>\n",
       "      <td>660</td>\n",
       "      <td>4479</td>\n",
       "    </tr>\n",
       "    <tr>\n",
       "      <th>Head On</th>\n",
       "      <td>1</td>\n",
       "      <td>1</td>\n",
       "    </tr>\n",
       "    <tr>\n",
       "      <th>Left Turn</th>\n",
       "      <td>2</td>\n",
       "      <td>16</td>\n",
       "    </tr>\n",
       "    <tr>\n",
       "      <th>Other</th>\n",
       "      <td>10298</td>\n",
       "      <td>3688</td>\n",
       "    </tr>\n",
       "    <tr>\n",
       "      <th>Parked Car</th>\n",
       "      <td>10</td>\n",
       "      <td>5</td>\n",
       "    </tr>\n",
       "    <tr>\n",
       "      <th>Pedestrian</th>\n",
       "      <td>664</td>\n",
       "      <td>5868</td>\n",
       "    </tr>\n",
       "    <tr>\n",
       "      <th>Rear Ended</th>\n",
       "      <td>1</td>\n",
       "      <td>1</td>\n",
       "    </tr>\n",
       "    <tr>\n",
       "      <th>Right Turn</th>\n",
       "      <td>0</td>\n",
       "      <td>3</td>\n",
       "    </tr>\n",
       "    <tr>\n",
       "      <th>Sideswipe</th>\n",
       "      <td>1</td>\n",
       "      <td>8</td>\n",
       "    </tr>\n",
       "  </tbody>\n",
       "</table>\n",
       "</div>"
      ],
      "text/plain": [
       "SEVERITYCODE       1     2\n",
       "COLLISIONTYPE             \n",
       "Angles             3    24\n",
       "Cycles           660  4479\n",
       "Head On            1     1\n",
       "Left Turn          2    16\n",
       "Other          10298  3688\n",
       "Parked Car        10     5\n",
       "Pedestrian       664  5868\n",
       "Rear Ended         1     1\n",
       "Right Turn         0     3\n",
       "Sideswipe          1     8"
      ]
     },
     "execution_count": 23,
     "metadata": {},
     "output_type": "execute_result"
    }
   ],
   "source": [
    "#what does the distribution of collision types show for those involving only 1 vehicle?\n",
    "df_exp[df_exp['VEHCOUNT']==1].groupby(['COLLISIONTYPE','SEVERITYCODE']).size().unstack(fill_value=0)"
   ]
  },
  {
   "cell_type": "markdown",
   "metadata": {},
   "source": [
    "__(VEHCOUNT pt2) Observation:__ indeed, we see that the 'Cycles' and 'Pedestrian' types make up a large percentage of incidents involving one vehicle, and these overwhelmingly fall in the injury classification (severity = 2). A visual review of the original dataset shows that the 'Other' collision type commonly involves cars hitting objects in the road or fixed objects on the side of the road. <br>\n",
    "__>>Collisions involving 2 vehicles are most common and therefore align to the property/injury proportion; collisions with 1 vehicle have high injury classification rate, but are often represented by ped/bike incidents which are already represented by the COLLISIONTYPE. Still overall, injuries seem to be more common when the vehicle count is something other than 2. Lets create a feature representing whether the collision has 2 vehicles or not (0,1).__"
   ]
  },
  {
   "cell_type": "code",
   "execution_count": 24,
   "metadata": {},
   "outputs": [
    {
     "data": {
      "text/plain": [
       "Y    29805\n",
       "Name: INATTENTIONIND, dtype: int64"
      ]
     },
     "execution_count": 24,
     "metadata": {},
     "output_type": "execute_result"
    }
   ],
   "source": [
    "#now lets look at the some of the features that capture possible driver distractions, starting with inattentiveness\n",
    "df_exp['INATTENTIONIND'].value_counts()"
   ]
  },
  {
   "cell_type": "code",
   "execution_count": 25,
   "metadata": {},
   "outputs": [
    {
     "name": "stderr",
     "output_type": "stream",
     "text": [
      "c:\\python\\python384\\lib\\site-packages\\pandas\\core\\series.py:4517: SettingWithCopyWarning: \n",
      "A value is trying to be set on a copy of a slice from a DataFrame\n",
      "\n",
      "See the caveats in the documentation: https://pandas.pydata.org/pandas-docs/stable/user_guide/indexing.html#returning-a-view-versus-a-copy\n",
      "  return super().fillna(\n"
     ]
    },
    {
     "data": {
      "text/plain": [
       "N    164868\n",
       "Y     29805\n",
       "Name: INATTENTIONIND, dtype: int64"
      ]
     },
     "execution_count": 25,
     "metadata": {},
     "output_type": "execute_result"
    }
   ],
   "source": [
    "#we can see from the value counts ouput that there are a bunch of records that are not accounted for\n",
    "#this is likely because they are empty (blank).. lets assume that blank means 'No' and adjust the data\n",
    "df_exp['INATTENTIONIND'].fillna('N',inplace=True)\n",
    "df_exp['INATTENTIONIND'].value_counts()"
   ]
  },
  {
   "cell_type": "code",
   "execution_count": 26,
   "metadata": {},
   "outputs": [
    {
     "data": {
      "image/png": "[encoded data removed]",
      "text/plain": [
       "<Figure size 432x288 with 1 Axes>"
      ]
     },
     "metadata": {
      "needs_background": "light"
     },
     "output_type": "display_data"
    }
   ],
   "source": [
    "#look at the severity distribution\n",
    "ax = sns.countplot(x='INATTENTIONIND',hue='SEVERITYCODE',data=df_exp)"
   ]
  },
  {
   "cell_type": "code",
   "execution_count": 27,
   "metadata": {},
   "outputs": [
    {
     "name": "stdout",
     "output_type": "stream",
     "text": [
      "Rate of Injury for inattentive collisions (Y): 0.29\n",
      "Rate of Injury for attentive collisions (N): 0.35\n"
     ]
    },
    {
     "data": {
      "text/html": [
       "<div>\n",
       "<style scoped>\n",
       "    .dataframe tbody tr th:only-of-type {\n",
       "        vertical-align: middle;\n",
       "    }\n",
       "\n",
       "    .dataframe tbody tr th {\n",
       "        vertical-align: top;\n",
       "    }\n",
       "\n",
       "    .dataframe thead th {\n",
       "        text-align: right;\n",
       "    }\n",
       "</style>\n",
       "<table border=\"1\" class=\"dataframe\">\n",
       "  <thead>\n",
       "    <tr style=\"text-align: right;\">\n",
       "      <th></th>\n",
       "      <th>State</th>\n",
       "      <th>Property</th>\n",
       "      <th>Injury</th>\n",
       "      <th>Total</th>\n",
       "    </tr>\n",
       "  </thead>\n",
       "  <tbody>\n",
       "    <tr>\n",
       "      <th>0</th>\n",
       "      <td>N</td>\n",
       "      <td>117077</td>\n",
       "      <td>47791</td>\n",
       "      <td>164868</td>\n",
       "    </tr>\n",
       "    <tr>\n",
       "      <th>1</th>\n",
       "      <td>Y</td>\n",
       "      <td>19408</td>\n",
       "      <td>10397</td>\n",
       "      <td>29805</td>\n",
       "    </tr>\n",
       "  </tbody>\n",
       "</table>\n",
       "</div>"
      ],
      "text/plain": [
       "  State  Property  Injury   Total\n",
       "0     N    117077   47791  164868\n",
       "1     Y     19408   10397   29805"
      ]
     },
     "execution_count": 27,
     "metadata": {},
     "output_type": "execute_result"
    }
   ],
   "source": [
    "df_attn = df_exp.groupby(['INATTENTIONIND','SEVERITYCODE']).size().unstack(fill_value=0)\n",
    "df_attn.reset_index(drop=False,inplace=True)\n",
    "df_attn.columns = ['State','Property','Injury']\n",
    "df_attn['Total'] = df_attn['Property'] + df_attn['Injury']\n",
    "print('Rate of Injury for inattentive collisions (Y): '+'{:.2f}'.format(df_attn.loc[0,'Injury']/df_attn.loc[0,'Total']))\n",
    "print('Rate of Injury for attentive collisions (N): '+'{:.2f}'.format(df_attn.loc[1,'Injury']/df_attn.loc[1,'Total']))\n",
    "df_attn"
   ]
  },
  {
   "cell_type": "markdown",
   "metadata": {},
   "source": [
    "__(INATTENTIONIND) Observation:__ collisions due to inattentive driving are slightly more likely to result in injuries than those where inattentiveness is not an issue; however, neither are more likely to result in injury than not. <br>\n",
    "__>>Injuries occur in a higher percentage of collisions where inattentive driving is present, so lets use this as a feature.__"
   ]
  },
  {
   "cell_type": "code",
   "execution_count": 28,
   "metadata": {},
   "outputs": [
    {
     "data": {
      "text/plain": [
       "N    100274\n",
       "0     80394\n",
       "Y      5126\n",
       "1      3995\n",
       "Name: UNDERINFL, dtype: int64"
      ]
     },
     "execution_count": 28,
     "metadata": {},
     "output_type": "execute_result"
    }
   ],
   "source": [
    "#what about driving under the influence?\n",
    "df_exp['UNDERINFL'].value_counts()"
   ]
  },
  {
   "cell_type": "markdown",
   "metadata": {},
   "source": [
    "__(UNDERINFL) Observation:__ there will be some cleansing required here if we use this feature for the model... it is assumed that N and 0 both reflect that drugs/alcohol were __not__ involved, while Y and 1 mean they were present. There are also 4884 records missing, which must be blank. Since in a marjority of cases alcohol/drug influence was positively or negatively identified, lets not assume that the blank records are one or the other. These only represent 2.5% of the dataset, so we could drop these before modelling."
   ]
  },
  {
   "cell_type": "code",
   "execution_count": 29,
   "metadata": {},
   "outputs": [
    {
     "data": {
      "image/png": "[encoded data removed]",
      "text/plain": [
       "<Figure size 432x288 with 1 Axes>"
      ]
     },
     "metadata": {
      "needs_background": "light"
     },
     "output_type": "display_data"
    }
   ],
   "source": [
    "#lets observe the value counts for influenced driving\n",
    "ax = sns.countplot(x='UNDERINFL',hue='SEVERITYCODE',data=df_exp)"
   ]
  },
  {
   "cell_type": "code",
   "execution_count": 30,
   "metadata": {},
   "outputs": [
    {
     "name": "stdout",
     "output_type": "stream",
     "text": [
      "Rate of Injury for influenced collisions (Y, 1): 0.39\n",
      "Rate of Injury for sober collisions (N, 0): 0.30\n"
     ]
    }
   ],
   "source": [
    "df_infl = df_exp.groupby(['UNDERINFL','SEVERITYCODE']).size().unstack(fill_value=0)\n",
    "df_infl.reset_index(drop=False,inplace=True)\n",
    "df_infl.columns = ['State','Property','Injury']\n",
    "df_infl['Total'] = df_infl['Property'] + df_infl['Injury']\n",
    "print('Rate of Injury for influenced collisions (Y, 1): '+'{:.2f}'.format(\n",
    "    (df_infl.loc[1,'Injury']+df_infl.loc[3,'Injury'])/(df_infl.loc[1,'Total']+df_infl.loc[3,'Total'])))\n",
    "print('Rate of Injury for sober collisions (N, 0): '+'{:.2f}'.format(\n",
    "    (df_infl.loc[0,'Injury']+df_infl.loc[2,'Injury'])/(df_infl.loc[0,'Total']+df_infl.loc[2,'Total'])))"
   ]
  },
  {
   "cell_type": "markdown",
   "metadata": {},
   "source": [
    "__(UNDERINFL pt2) Observation:__ collisions where drugs or alcohol were involved resulted in injury at a higher rate than collisions where no drugs or alcohol were involved. <br>\n",
    "__>>Lets include this as a feature.__"
   ]
  },
  {
   "cell_type": "code",
   "execution_count": 31,
   "metadata": {},
   "outputs": [
    {
     "data": {
      "text/plain": [
       "(array([ 0,  1,  2,  3,  4,  5,  6,  7,  8,  9, 10]),\n",
       " [Text(0, 0, 'Overcast'),\n",
       "  Text(1, 0, 'Raining'),\n",
       "  Text(2, 0, 'Clear'),\n",
       "  Text(3, 0, 'Unknown'),\n",
       "  Text(4, 0, 'Other'),\n",
       "  Text(5, 0, 'Snowing'),\n",
       "  Text(6, 0, 'Fog/Smog/Smoke'),\n",
       "  Text(7, 0, 'Sleet/Hail/Freezing Rain'),\n",
       "  Text(8, 0, 'Blowing Sand/Dirt'),\n",
       "  Text(9, 0, 'Severe Crosswind'),\n",
       "  Text(10, 0, 'Partly Cloudy')])"
      ]
     },
     "execution_count": 31,
     "metadata": {},
     "output_type": "execute_result"
    },
    {
     "data": {
      "image/png": "[encoded data removed]",
      "text/plain": [
       "<Figure size 432x288 with 1 Axes>"
      ]
     },
     "metadata": {
      "needs_background": "light"
     },
     "output_type": "display_data"
    }
   ],
   "source": [
    "#lets look at the impact of weather\n",
    "ax=sns.countplot(x='WEATHER',hue='SEVERITYCODE',data=df_exp)\n",
    "plt.xticks(rotation=90)"
   ]
  },
  {
   "cell_type": "code",
   "execution_count": 32,
   "metadata": {},
   "outputs": [
    {
     "data": {
      "text/html": [
       "<div>\n",
       "<style scoped>\n",
       "    .dataframe tbody tr th:only-of-type {\n",
       "        vertical-align: middle;\n",
       "    }\n",
       "\n",
       "    .dataframe tbody tr th {\n",
       "        vertical-align: top;\n",
       "    }\n",
       "\n",
       "    .dataframe thead th {\n",
       "        text-align: right;\n",
       "    }\n",
       "</style>\n",
       "<table border=\"1\" class=\"dataframe\">\n",
       "  <thead>\n",
       "    <tr style=\"text-align: right;\">\n",
       "      <th></th>\n",
       "      <th>Weather</th>\n",
       "      <th>Property</th>\n",
       "      <th>Injury</th>\n",
       "      <th>Total</th>\n",
       "      <th>inj_rate</th>\n",
       "    </tr>\n",
       "  </thead>\n",
       "  <tbody>\n",
       "    <tr>\n",
       "      <th>0</th>\n",
       "      <td>Blowing Sand/Dirt</td>\n",
       "      <td>41</td>\n",
       "      <td>15</td>\n",
       "      <td>56</td>\n",
       "      <td>0.267857</td>\n",
       "    </tr>\n",
       "    <tr>\n",
       "      <th>1</th>\n",
       "      <td>Clear</td>\n",
       "      <td>75295</td>\n",
       "      <td>35840</td>\n",
       "      <td>111135</td>\n",
       "      <td>0.322491</td>\n",
       "    </tr>\n",
       "    <tr>\n",
       "      <th>2</th>\n",
       "      <td>Fog/Smog/Smoke</td>\n",
       "      <td>382</td>\n",
       "      <td>187</td>\n",
       "      <td>569</td>\n",
       "      <td>0.328647</td>\n",
       "    </tr>\n",
       "    <tr>\n",
       "      <th>3</th>\n",
       "      <td>Other</td>\n",
       "      <td>716</td>\n",
       "      <td>116</td>\n",
       "      <td>832</td>\n",
       "      <td>0.139423</td>\n",
       "    </tr>\n",
       "    <tr>\n",
       "      <th>4</th>\n",
       "      <td>Overcast</td>\n",
       "      <td>18969</td>\n",
       "      <td>8745</td>\n",
       "      <td>27714</td>\n",
       "      <td>0.315544</td>\n",
       "    </tr>\n",
       "    <tr>\n",
       "      <th>5</th>\n",
       "      <td>Partly Cloudy</td>\n",
       "      <td>2</td>\n",
       "      <td>3</td>\n",
       "      <td>5</td>\n",
       "      <td>0.600000</td>\n",
       "    </tr>\n",
       "    <tr>\n",
       "      <th>6</th>\n",
       "      <td>Raining</td>\n",
       "      <td>21969</td>\n",
       "      <td>11176</td>\n",
       "      <td>33145</td>\n",
       "      <td>0.337185</td>\n",
       "    </tr>\n",
       "    <tr>\n",
       "      <th>7</th>\n",
       "      <td>Severe Crosswind</td>\n",
       "      <td>18</td>\n",
       "      <td>7</td>\n",
       "      <td>25</td>\n",
       "      <td>0.280000</td>\n",
       "    </tr>\n",
       "    <tr>\n",
       "      <th>8</th>\n",
       "      <td>Sleet/Hail/Freezing Rain</td>\n",
       "      <td>85</td>\n",
       "      <td>28</td>\n",
       "      <td>113</td>\n",
       "      <td>0.247788</td>\n",
       "    </tr>\n",
       "    <tr>\n",
       "      <th>9</th>\n",
       "      <td>Snowing</td>\n",
       "      <td>736</td>\n",
       "      <td>171</td>\n",
       "      <td>907</td>\n",
       "      <td>0.188534</td>\n",
       "    </tr>\n",
       "    <tr>\n",
       "      <th>10</th>\n",
       "      <td>Unknown</td>\n",
       "      <td>14275</td>\n",
       "      <td>816</td>\n",
       "      <td>15091</td>\n",
       "      <td>0.054072</td>\n",
       "    </tr>\n",
       "  </tbody>\n",
       "</table>\n",
       "</div>"
      ],
      "text/plain": [
       "                     Weather  Property  Injury   Total  inj_rate\n",
       "0          Blowing Sand/Dirt        41      15      56  0.267857\n",
       "1                      Clear     75295   35840  111135  0.322491\n",
       "2             Fog/Smog/Smoke       382     187     569  0.328647\n",
       "3                      Other       716     116     832  0.139423\n",
       "4                   Overcast     18969    8745   27714  0.315544\n",
       "5              Partly Cloudy         2       3       5  0.600000\n",
       "6                    Raining     21969   11176   33145  0.337185\n",
       "7           Severe Crosswind        18       7      25  0.280000\n",
       "8   Sleet/Hail/Freezing Rain        85      28     113  0.247788\n",
       "9                    Snowing       736     171     907  0.188534\n",
       "10                   Unknown     14275     816   15091  0.054072"
      ]
     },
     "execution_count": 32,
     "metadata": {},
     "output_type": "execute_result"
    }
   ],
   "source": [
    "#there is very low volume for the last half-dozen weather types in chart above. lets look at the actual counts\n",
    "df_wea = df_exp.groupby(['WEATHER','SEVERITYCODE']).size().unstack(fill_value=0)\n",
    "df_wea.reset_index(drop=False,inplace=True)\n",
    "df_wea.columns = ['Weather','Property','Injury']\n",
    "df_wea['Total'] = df_wea['Property'] + df_wea['Injury']\n",
    "df_wea['inj_rate'] = df_wea['Injury'] / df_wea['Total']\n",
    "df_wea"
   ]
  },
  {
   "cell_type": "markdown",
   "metadata": {},
   "source": [
    "__(WEATHER) Observation:__ rainy weather does increase the rate of injury accidents, but only slightly compared to clear conditions. Some of the other inclement weather types actually have lower injury rates than expected. This might be because people tend to avoid driving during poor weather (therefore lower overall counts) or drive more cautiously (therefore lower rate of injury)? Lets manipulate the data to look at simplified groupings..."
   ]
  },
  {
   "cell_type": "code",
   "execution_count": 33,
   "metadata": {},
   "outputs": [
    {
     "name": "stderr",
     "output_type": "stream",
     "text": [
      "<ipython-input-33-3b501dce6926>:8: SettingWithCopyWarning: \n",
      "A value is trying to be set on a copy of a slice from a DataFrame\n",
      "\n",
      "See the caveats in the documentation: https://pandas.pydata.org/pandas-docs/stable/user_guide/indexing.html#returning-a-view-versus-a-copy\n",
      "  df_weather.dropna(axis=0,subset=['WEATHER'],inplace=True)\n",
      "c:\\python\\python384\\lib\\site-packages\\pandas\\core\\generic.py:5159: SettingWithCopyWarning: \n",
      "A value is trying to be set on a copy of a slice from a DataFrame.\n",
      "Try using .loc[row_indexer,col_indexer] = value instead\n",
      "\n",
      "See the caveats in the documentation: https://pandas.pydata.org/pandas-docs/stable/user_guide/indexing.html#returning-a-view-versus-a-copy\n",
      "  self[name] = value\n"
     ]
    },
    {
     "data": {
      "text/html": [
       "<div>\n",
       "<style scoped>\n",
       "    .dataframe tbody tr th:only-of-type {\n",
       "        vertical-align: middle;\n",
       "    }\n",
       "\n",
       "    .dataframe tbody tr th {\n",
       "        vertical-align: top;\n",
       "    }\n",
       "\n",
       "    .dataframe thead th {\n",
       "        text-align: right;\n",
       "    }\n",
       "</style>\n",
       "<table border=\"1\" class=\"dataframe\">\n",
       "  <thead>\n",
       "    <tr style=\"text-align: right;\">\n",
       "      <th></th>\n",
       "      <th>Weather</th>\n",
       "      <th>Property</th>\n",
       "      <th>Injury</th>\n",
       "      <th>Total</th>\n",
       "      <th>inj_rate</th>\n",
       "    </tr>\n",
       "  </thead>\n",
       "  <tbody>\n",
       "    <tr>\n",
       "      <th>0</th>\n",
       "      <td>0</td>\n",
       "      <td>94266</td>\n",
       "      <td>44588</td>\n",
       "      <td>138854</td>\n",
       "      <td>0.321114</td>\n",
       "    </tr>\n",
       "    <tr>\n",
       "      <th>1</th>\n",
       "      <td>1</td>\n",
       "      <td>23231</td>\n",
       "      <td>11584</td>\n",
       "      <td>34815</td>\n",
       "      <td>0.332730</td>\n",
       "    </tr>\n",
       "    <tr>\n",
       "      <th>2</th>\n",
       "      <td>2</td>\n",
       "      <td>14991</td>\n",
       "      <td>932</td>\n",
       "      <td>15923</td>\n",
       "      <td>0.058532</td>\n",
       "    </tr>\n",
       "  </tbody>\n",
       "</table>\n",
       "</div>"
      ],
      "text/plain": [
       "   Weather  Property  Injury   Total  inj_rate\n",
       "0        0     94266   44588  138854  0.321114\n",
       "1        1     23231   11584   34815  0.332730\n",
       "2        2     14991     932   15923  0.058532"
      ]
     },
     "execution_count": 33,
     "metadata": {},
     "output_type": "execute_result"
    }
   ],
   "source": [
    "#create a dictionary of weather keys with assigned values: inclement weather types = 1, unknown/other = 2, etc..\n",
    "w_dict = {'Clear':0,'Partly Cloudy':0,'Overcast':0,'Blowing Sand/Dirt':1,'Fog/Smog/Smoke':1,'Raining':1,\n",
    "         'Severe Crosswind':1,'Sleet/Hail/Freezing Rain':1,'Snowing':1,'Other':2,'Unknown':2}\n",
    "#extract just the weather and severity columns for this investigation\n",
    "df_weather = df_exp[['WEATHER','SEVERITYCODE']]\n",
    "#replace the blank values in the WEATHER column and then drop them\n",
    "df_weather['WEATHER'].replace(r'^\\s*$',np.NaN,regex=True)\n",
    "df_weather.dropna(axis=0,subset=['WEATHER'],inplace=True)\n",
    "#replace the values in the WEATHER column with the associated values for the keys in the weather dictionary\n",
    "df_weather.WEATHER = [w_dict[item] for item in df_weather.WEATHER]\n",
    "#create a new dataframe to group the output by these new weather categories (0,1,2)\n",
    "df_wea2 = df_weather.groupby(['WEATHER','SEVERITYCODE']).size().unstack(fill_value=0)\n",
    "df_wea2.reset_index(drop=False,inplace=True)\n",
    "df_wea2.columns = ['Weather','Property','Injury']\n",
    "df_wea2['Total'] = df_wea2['Property'] + df_wea2['Injury']\n",
    "df_wea2['inj_rate'] = df_wea2['Injury'] / df_wea2['Total']\n",
    "df_wea2"
   ]
  },
  {
   "cell_type": "markdown",
   "metadata": {},
   "source": [
    "__(WEATHER pt2) Observations:__ after removing the samples with no recorded weather, and grouping everything as either clear/cloudy ('0'), inclement ('1') or unknown/other ('2') we can see that there is only a slight difference between how often injuries occur between the different weather conditions. <br>\n",
    "__>>Weather is not a good feature and will not be included__"
   ]
  },
  {
   "cell_type": "code",
   "execution_count": 34,
   "metadata": {},
   "outputs": [
    {
     "data": {
      "text/plain": [
       "(array([0, 1, 2, 3, 4, 5, 6, 7, 8]),\n",
       " [Text(0, 0, 'Wet'),\n",
       "  Text(1, 0, 'Dry'),\n",
       "  Text(2, 0, 'Unknown'),\n",
       "  Text(3, 0, 'Snow/Slush'),\n",
       "  Text(4, 0, 'Ice'),\n",
       "  Text(5, 0, 'Other'),\n",
       "  Text(6, 0, 'Sand/Mud/Dirt'),\n",
       "  Text(7, 0, 'Standing Water'),\n",
       "  Text(8, 0, 'Oil')])"
      ]
     },
     "execution_count": 34,
     "metadata": {},
     "output_type": "execute_result"
    },
    {
     "data": {
      "image/png": "[encoded data removed]",
      "text/plain": [
       "<Figure size 432x288 with 1 Axes>"
      ]
     },
     "metadata": {
      "needs_background": "light"
     },
     "output_type": "display_data"
    }
   ],
   "source": [
    "#let look at the results for different road conditions\n",
    "ax = sns.countplot(x='ROADCOND',hue='SEVERITYCODE',data=df_exp)\n",
    "plt.xticks(rotation=90)"
   ]
  },
  {
   "cell_type": "code",
   "execution_count": 35,
   "metadata": {},
   "outputs": [
    {
     "data": {
      "text/html": [
       "<div>\n",
       "<style scoped>\n",
       "    .dataframe tbody tr th:only-of-type {\n",
       "        vertical-align: middle;\n",
       "    }\n",
       "\n",
       "    .dataframe tbody tr th {\n",
       "        vertical-align: top;\n",
       "    }\n",
       "\n",
       "    .dataframe thead th {\n",
       "        text-align: right;\n",
       "    }\n",
       "</style>\n",
       "<table border=\"1\" class=\"dataframe\">\n",
       "  <thead>\n",
       "    <tr style=\"text-align: right;\">\n",
       "      <th></th>\n",
       "      <th>Condition</th>\n",
       "      <th>Property</th>\n",
       "      <th>Injury</th>\n",
       "      <th>Total</th>\n",
       "      <th>inj_rate</th>\n",
       "    </tr>\n",
       "  </thead>\n",
       "  <tbody>\n",
       "    <tr>\n",
       "      <th>0</th>\n",
       "      <td>Dry</td>\n",
       "      <td>84446</td>\n",
       "      <td>40064</td>\n",
       "      <td>124510</td>\n",
       "      <td>0.321773</td>\n",
       "    </tr>\n",
       "    <tr>\n",
       "      <th>1</th>\n",
       "      <td>Ice</td>\n",
       "      <td>936</td>\n",
       "      <td>273</td>\n",
       "      <td>1209</td>\n",
       "      <td>0.225806</td>\n",
       "    </tr>\n",
       "    <tr>\n",
       "      <th>2</th>\n",
       "      <td>Oil</td>\n",
       "      <td>40</td>\n",
       "      <td>24</td>\n",
       "      <td>64</td>\n",
       "      <td>0.375000</td>\n",
       "    </tr>\n",
       "    <tr>\n",
       "      <th>3</th>\n",
       "      <td>Other</td>\n",
       "      <td>89</td>\n",
       "      <td>43</td>\n",
       "      <td>132</td>\n",
       "      <td>0.325758</td>\n",
       "    </tr>\n",
       "    <tr>\n",
       "      <th>4</th>\n",
       "      <td>Sand/Mud/Dirt</td>\n",
       "      <td>52</td>\n",
       "      <td>23</td>\n",
       "      <td>75</td>\n",
       "      <td>0.306667</td>\n",
       "    </tr>\n",
       "    <tr>\n",
       "      <th>5</th>\n",
       "      <td>Snow/Slush</td>\n",
       "      <td>837</td>\n",
       "      <td>167</td>\n",
       "      <td>1004</td>\n",
       "      <td>0.166335</td>\n",
       "    </tr>\n",
       "    <tr>\n",
       "      <th>6</th>\n",
       "      <td>Standing Water</td>\n",
       "      <td>85</td>\n",
       "      <td>30</td>\n",
       "      <td>115</td>\n",
       "      <td>0.260870</td>\n",
       "    </tr>\n",
       "    <tr>\n",
       "      <th>7</th>\n",
       "      <td>Unknown</td>\n",
       "      <td>14329</td>\n",
       "      <td>749</td>\n",
       "      <td>15078</td>\n",
       "      <td>0.049675</td>\n",
       "    </tr>\n",
       "    <tr>\n",
       "      <th>8</th>\n",
       "      <td>Wet</td>\n",
       "      <td>31719</td>\n",
       "      <td>15755</td>\n",
       "      <td>47474</td>\n",
       "      <td>0.331866</td>\n",
       "    </tr>\n",
       "  </tbody>\n",
       "</table>\n",
       "</div>"
      ],
      "text/plain": [
       "        Condition  Property  Injury   Total  inj_rate\n",
       "0             Dry     84446   40064  124510  0.321773\n",
       "1             Ice       936     273    1209  0.225806\n",
       "2             Oil        40      24      64  0.375000\n",
       "3           Other        89      43     132  0.325758\n",
       "4   Sand/Mud/Dirt        52      23      75  0.306667\n",
       "5      Snow/Slush       837     167    1004  0.166335\n",
       "6  Standing Water        85      30     115  0.260870\n",
       "7         Unknown     14329     749   15078  0.049675\n",
       "8             Wet     31719   15755   47474  0.331866"
      ]
     },
     "execution_count": 35,
     "metadata": {},
     "output_type": "execute_result"
    }
   ],
   "source": [
    "#calculate the rates for each condition\n",
    "df_cond = df_exp.groupby(['ROADCOND','SEVERITYCODE']).size().unstack(fill_value=0)\n",
    "df_cond.reset_index(drop=False,inplace=True)\n",
    "df_cond.columns = ['Condition','Property','Injury']\n",
    "df_cond['Total'] = df_cond['Property'] + df_cond['Injury']\n",
    "df_cond['inj_rate'] = df_cond['Injury'] / df_cond['Total']\n",
    "df_cond"
   ]
  },
  {
   "cell_type": "markdown",
   "metadata": {},
   "source": [
    "__Observation:__ injury collision rates are different for dry versus other conditions, however they are not consistently higher as might be expected, ie it is higher for Oil and Wet conditions (only slightly), but less for Snow, Ice and other categories. There are also very low sample volumes for most of these other conditions, so there isn't substantial evidence. For the two highest classifications - dry and wet - the injury rates are not remarkably different. <br>\n",
    "__>>ROADCOND will not be used as a feature__"
   ]
  },
  {
   "cell_type": "code",
   "execution_count": 36,
   "metadata": {},
   "outputs": [
    {
     "data": {
      "text/plain": [
       "(array([0, 1, 2, 3, 4, 5, 6, 7, 8]),\n",
       " [Text(0, 0, 'Daylight'),\n",
       "  Text(1, 0, 'Dark - Street Lights On'),\n",
       "  Text(2, 0, 'Dark - No Street Lights'),\n",
       "  Text(3, 0, 'Unknown'),\n",
       "  Text(4, 0, 'Dusk'),\n",
       "  Text(5, 0, 'Dawn'),\n",
       "  Text(6, 0, 'Dark - Street Lights Off'),\n",
       "  Text(7, 0, 'Other'),\n",
       "  Text(8, 0, 'Dark - Unknown Lighting')])"
      ]
     },
     "execution_count": 36,
     "metadata": {},
     "output_type": "execute_result"
    },
    {
     "data": {
      "image/png": "[encoded data removed]",
      "text/plain": [
       "<Figure size 432x288 with 1 Axes>"
      ]
     },
     "metadata": {
      "needs_background": "light"
     },
     "output_type": "display_data"
    }
   ],
   "source": [
    "#what about light conditions\n",
    "ax = sns.countplot(x='LIGHTCOND',hue='SEVERITYCODE',data=df_exp)\n",
    "plt.xticks(rotation=90)"
   ]
  },
  {
   "cell_type": "code",
   "execution_count": 37,
   "metadata": {},
   "outputs": [
    {
     "data": {
      "text/html": [
       "<div>\n",
       "<style scoped>\n",
       "    .dataframe tbody tr th:only-of-type {\n",
       "        vertical-align: middle;\n",
       "    }\n",
       "\n",
       "    .dataframe tbody tr th {\n",
       "        vertical-align: top;\n",
       "    }\n",
       "\n",
       "    .dataframe thead th {\n",
       "        text-align: right;\n",
       "    }\n",
       "</style>\n",
       "<table border=\"1\" class=\"dataframe\">\n",
       "  <thead>\n",
       "    <tr style=\"text-align: right;\">\n",
       "      <th></th>\n",
       "      <th>Condition</th>\n",
       "      <th>Property</th>\n",
       "      <th>Injury</th>\n",
       "      <th>Total</th>\n",
       "      <th>inj_rate</th>\n",
       "    </tr>\n",
       "  </thead>\n",
       "  <tbody>\n",
       "    <tr>\n",
       "      <th>0</th>\n",
       "      <td>Dark - No Street Lights</td>\n",
       "      <td>1203</td>\n",
       "      <td>334</td>\n",
       "      <td>1537</td>\n",
       "      <td>0.217306</td>\n",
       "    </tr>\n",
       "    <tr>\n",
       "      <th>1</th>\n",
       "      <td>Dark - Street Lights Off</td>\n",
       "      <td>883</td>\n",
       "      <td>316</td>\n",
       "      <td>1199</td>\n",
       "      <td>0.263553</td>\n",
       "    </tr>\n",
       "    <tr>\n",
       "      <th>2</th>\n",
       "      <td>Dark - Street Lights On</td>\n",
       "      <td>34032</td>\n",
       "      <td>14475</td>\n",
       "      <td>48507</td>\n",
       "      <td>0.298411</td>\n",
       "    </tr>\n",
       "    <tr>\n",
       "      <th>3</th>\n",
       "      <td>Dark - Unknown Lighting</td>\n",
       "      <td>7</td>\n",
       "      <td>4</td>\n",
       "      <td>11</td>\n",
       "      <td>0.363636</td>\n",
       "    </tr>\n",
       "    <tr>\n",
       "      <th>4</th>\n",
       "      <td>Dawn</td>\n",
       "      <td>1678</td>\n",
       "      <td>824</td>\n",
       "      <td>2502</td>\n",
       "      <td>0.329337</td>\n",
       "    </tr>\n",
       "    <tr>\n",
       "      <th>5</th>\n",
       "      <td>Daylight</td>\n",
       "      <td>77593</td>\n",
       "      <td>38544</td>\n",
       "      <td>116137</td>\n",
       "      <td>0.331884</td>\n",
       "    </tr>\n",
       "    <tr>\n",
       "      <th>6</th>\n",
       "      <td>Dusk</td>\n",
       "      <td>3958</td>\n",
       "      <td>1944</td>\n",
       "      <td>5902</td>\n",
       "      <td>0.329380</td>\n",
       "    </tr>\n",
       "    <tr>\n",
       "      <th>7</th>\n",
       "      <td>Other</td>\n",
       "      <td>183</td>\n",
       "      <td>52</td>\n",
       "      <td>235</td>\n",
       "      <td>0.221277</td>\n",
       "    </tr>\n",
       "    <tr>\n",
       "      <th>8</th>\n",
       "      <td>Unknown</td>\n",
       "      <td>12868</td>\n",
       "      <td>605</td>\n",
       "      <td>13473</td>\n",
       "      <td>0.044905</td>\n",
       "    </tr>\n",
       "  </tbody>\n",
       "</table>\n",
       "</div>"
      ],
      "text/plain": [
       "                  Condition  Property  Injury   Total  inj_rate\n",
       "0   Dark - No Street Lights      1203     334    1537  0.217306\n",
       "1  Dark - Street Lights Off       883     316    1199  0.263553\n",
       "2   Dark - Street Lights On     34032   14475   48507  0.298411\n",
       "3   Dark - Unknown Lighting         7       4      11  0.363636\n",
       "4                      Dawn      1678     824    2502  0.329337\n",
       "5                  Daylight     77593   38544  116137  0.331884\n",
       "6                      Dusk      3958    1944    5902  0.329380\n",
       "7                     Other       183      52     235  0.221277\n",
       "8                   Unknown     12868     605   13473  0.044905"
      ]
     },
     "execution_count": 37,
     "metadata": {},
     "output_type": "execute_result"
    }
   ],
   "source": [
    "#calculat the rate of injury collision for each type of lighting\n",
    "df_lite = df_exp.groupby(['LIGHTCOND','SEVERITYCODE']).size().unstack(fill_value=0)\n",
    "df_lite.reset_index(drop=False,inplace=True)\n",
    "df_lite.columns = ['Condition','Property','Injury']\n",
    "df_lite['Total'] = df_lite['Property'] + df_lite['Injury']\n",
    "df_lite['inj_rate'] = df_lite['Injury'] / df_lite['Total']\n",
    "df_lite"
   ]
  },
  {
   "cell_type": "markdown",
   "metadata": {},
   "source": [
    "__(LIGHTCOND) Observations:__ again there is nothing remarkable about dark or poor lighting conditions versus daylight. At best this feature might have been a good proxy for different expected outcomes for day driving versus night driving. It is more likely however, that the total volume and severity outcomes are lower during darker conditions because there is less volume (traffic) during those times. <br>\n",
    "__>>LIGHTCOND will not be used as a feature__"
   ]
  },
  {
   "cell_type": "code",
   "execution_count": 38,
   "metadata": {},
   "outputs": [
    {
     "data": {
      "text/plain": [
       "Y    9333\n",
       "Name: SPEEDING, dtype: int64"
      ]
     },
     "execution_count": 38,
     "metadata": {},
     "output_type": "execute_result"
    }
   ],
   "source": [
    "#lastly lets look at the outcomes for collisions where speeding is involved\n",
    "df_exp['SPEEDING'].value_counts()"
   ]
  },
  {
   "cell_type": "code",
   "execution_count": 39,
   "metadata": {},
   "outputs": [
    {
     "name": "stderr",
     "output_type": "stream",
     "text": [
      "c:\\python\\python384\\lib\\site-packages\\pandas\\core\\series.py:4517: SettingWithCopyWarning: \n",
      "A value is trying to be set on a copy of a slice from a DataFrame\n",
      "\n",
      "See the caveats in the documentation: https://pandas.pydata.org/pandas-docs/stable/user_guide/indexing.html#returning-a-view-versus-a-copy\n",
      "  return super().fillna(\n"
     ]
    },
    {
     "data": {
      "text/plain": [
       "N    185340\n",
       "Y      9333\n",
       "Name: SPEEDING, dtype: int64"
      ]
     },
     "execution_count": 39,
     "metadata": {},
     "output_type": "execute_result"
    }
   ],
   "source": [
    "#similar to the INATTENTIONIND feature, we have missing samples due to blank values. lets assume that blank means 'No'\n",
    "df_exp['SPEEDING'].fillna('N',inplace=True)\n",
    "df_exp['SPEEDING'].value_counts()"
   ]
  },
  {
   "cell_type": "code",
   "execution_count": 40,
   "metadata": {},
   "outputs": [
    {
     "data": {
      "image/png": "[encoded data removed]",
      "text/plain": [
       "<Figure size 432x288 with 1 Axes>"
      ]
     },
     "metadata": {
      "needs_background": "light"
     },
     "output_type": "display_data"
    }
   ],
   "source": [
    "#and now the severity distribution\n",
    "ax = sns.countplot(x='SPEEDING',hue='SEVERITYCODE',data=df_exp)"
   ]
  },
  {
   "cell_type": "code",
   "execution_count": 41,
   "metadata": {},
   "outputs": [
    {
     "data": {
      "text/html": [
       "<div>\n",
       "<style scoped>\n",
       "    .dataframe tbody tr th:only-of-type {\n",
       "        vertical-align: middle;\n",
       "    }\n",
       "\n",
       "    .dataframe tbody tr th {\n",
       "        vertical-align: top;\n",
       "    }\n",
       "\n",
       "    .dataframe thead th {\n",
       "        text-align: right;\n",
       "    }\n",
       "</style>\n",
       "<table border=\"1\" class=\"dataframe\">\n",
       "  <thead>\n",
       "    <tr style=\"text-align: right;\">\n",
       "      <th></th>\n",
       "      <th>Speeding</th>\n",
       "      <th>Property</th>\n",
       "      <th>Injury</th>\n",
       "      <th>Total</th>\n",
       "      <th>inj_rate</th>\n",
       "    </tr>\n",
       "  </thead>\n",
       "  <tbody>\n",
       "    <tr>\n",
       "      <th>0</th>\n",
       "      <td>N</td>\n",
       "      <td>130683</td>\n",
       "      <td>54657</td>\n",
       "      <td>185340</td>\n",
       "      <td>0.294901</td>\n",
       "    </tr>\n",
       "    <tr>\n",
       "      <th>1</th>\n",
       "      <td>Y</td>\n",
       "      <td>5802</td>\n",
       "      <td>3531</td>\n",
       "      <td>9333</td>\n",
       "      <td>0.378335</td>\n",
       "    </tr>\n",
       "  </tbody>\n",
       "</table>\n",
       "</div>"
      ],
      "text/plain": [
       "  Speeding  Property  Injury   Total  inj_rate\n",
       "0        N    130683   54657  185340  0.294901\n",
       "1        Y      5802    3531    9333  0.378335"
      ]
     },
     "execution_count": 41,
     "metadata": {},
     "output_type": "execute_result"
    }
   ],
   "source": [
    "#calculate the injury collision rates speeding vs no speeding samples\n",
    "df_speed = df_exp.groupby(['SPEEDING','SEVERITYCODE']).size().unstack(fill_value=0)\n",
    "df_speed.reset_index(drop=False,inplace=True)\n",
    "df_speed.columns = ['Speeding','Property','Injury']\n",
    "df_speed['Total'] = df_speed['Property'] + df_speed['Injury']\n",
    "df_speed['inj_rate'] = df_speed['Injury'] / df_speed['Total']\n",
    "df_speed"
   ]
  },
  {
   "cell_type": "markdown",
   "metadata": {},
   "source": [
    "__(SPEEDING) Observation:__ we can see that the proportion of collisions resulting in injury is 1.28 times higher when speeding is involved compared to when speeding is not involved. <br>\n",
    "__>>SPEEDING will be selected as a feature__"
   ]
  },
  {
   "cell_type": "markdown",
   "metadata": {},
   "source": [
    "### Summary:\n",
    "\n",
    " - this notebook has explored the impact of certain features on collision severity (proportion of injury collisions)\n",
    " - time of day (weekday rushhour), type of collision, # of people and vehicles, inattentiveness, drugs and alcohol, and speeding show noticeable differences between the possible states, and appear to be good candidates for training the model\n",
    " - pedestrian and bicycle count showed obvious associations with injury rate, but these would make redundant features because collision type already captures these scenarios\n",
    " - meanwhile, contrary to expectation, Weather, Road and Light conditions didnt show remarkable patterns with respect to the rate of injury in collisions\n",
    " \n",
    "The following link is for the next Jupyter Notebook, which will:\n",
    "\n",
    " - summarize feature selection,\n",
    " - cleanse and prepare the data,\n",
    " - train, test and evaluate several machine learning models\n",
    " \n"
   ]
  },
  {
   "cell_type": "code",
   "execution_count": 42,
   "metadata": {},
   "outputs": [],
   "source": [
    "#lets export the dataframe with explore features, so we can start there in the next notebook\n",
    "#we are doing this at the end, because we have made some manipulations (fillna for both INATTENTIONIND and SPEEDING)\n",
    "df_exp.to_csv('explored_features.csv', index=False)"
   ]
  },
  {
   "cell_type": "code",
   "execution_count": null,
   "metadata": {},
   "outputs": [],
   "source": []
  }
 ],
 "metadata": {
  "kernelspec": {
   "display_name": "Python 3",
   "language": "python",
   "name": "python3"
  },
  "language_info": {
   "codemirror_mode": {
    "name": "ipython",
    "version": 3
   },
   "file_extension": ".py",
   "mimetype": "text/x-python",
   "name": "python",
   "nbconvert_exporter": "python",
   "pygments_lexer": "ipython3",
   "version": "3.8.4"
  }
 },
 "nbformat": 4,
 "nbformat_minor": 4
}
