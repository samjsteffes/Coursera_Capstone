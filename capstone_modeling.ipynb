{
 "cells": [
  {
   "cell_type": "markdown",
   "metadata": {},
   "source": [
    "## IBM Data Science Capstone Jupyter Notebook #2:\n",
    "### Data Preparation, Modeling and Evaluation\n",
    "__Author: Sam Steffes__\n",
    "<br>*Date: 08/27/2020*\n",
    "\n",
    "This notebook contains code for part 2 of my Coursera IBM Data Science Capstone project. This project uses data from previous vehicle collisions to try and build a machine learning model that predicts the severity of accidents based on certain features. __This notebook will focus on data cleansing and preparation, model training and model evaluation.__\n",
    "\n",
    "Here is a link to notebook #1, which included examination and exploratory analysis of the dataset:\n",
    "\n",
    "\n",
    "_The data comes from collision records recorded by the Seattle Police Department from 2004 through May of 2020_"
   ]
  },
  {
   "cell_type": "code",
   "execution_count": 1,
   "metadata": {},
   "outputs": [],
   "source": [
    "#import required libraries for handling and visualizing data\n",
    "import pandas as pd\n",
    "import numpy as np\n",
    "%matplotlib inline\n",
    "import matplotlib.pyplot as plt\n",
    "import seaborn as sns\n",
    "#more libraries from the sklearn package will be imported later for modeling and evaluation"
   ]
  },
  {
   "cell_type": "code",
   "execution_count": 2,
   "metadata": {},
   "outputs": [
    {
     "name": "stderr",
     "output_type": "stream",
     "text": [
      "c:\\python\\python384\\lib\\site-packages\\IPython\\core\\interactiveshell.py:3071: DtypeWarning: Columns (33) have mixed types.Specify dtype option on import or set low_memory=False.\n",
      "  has_raised = await self.run_ast_nodes(code_ast.body, cell_name,\n"
     ]
    },
    {
     "data": {
      "text/html": [
       "<div>\n",
       "<style scoped>\n",
       "    .dataframe tbody tr th:only-of-type {\n",
       "        vertical-align: middle;\n",
       "    }\n",
       "\n",
       "    .dataframe tbody tr th {\n",
       "        vertical-align: top;\n",
       "    }\n",
       "\n",
       "    .dataframe thead th {\n",
       "        text-align: right;\n",
       "    }\n",
       "</style>\n",
       "<table border=\"1\" class=\"dataframe\">\n",
       "  <thead>\n",
       "    <tr style=\"text-align: right;\">\n",
       "      <th></th>\n",
       "      <th>DATETIME</th>\n",
       "      <th>COLLISIONTYPE</th>\n",
       "      <th>PERSONCOUNT</th>\n",
       "      <th>PEDCOUNT</th>\n",
       "      <th>PEDCYLCOUNT</th>\n",
       "      <th>VEHCOUNT</th>\n",
       "      <th>INATTENTIONIND</th>\n",
       "      <th>UNDERINFL</th>\n",
       "      <th>WEATHER</th>\n",
       "      <th>ROADCOND</th>\n",
       "      <th>LIGHTCOND</th>\n",
       "      <th>SPEEDING</th>\n",
       "      <th>SEVERITYCODE</th>\n",
       "    </tr>\n",
       "  </thead>\n",
       "  <tbody>\n",
       "    <tr>\n",
       "      <th>0</th>\n",
       "      <td>2013-03-27 14:54:00</td>\n",
       "      <td>Angles</td>\n",
       "      <td>2</td>\n",
       "      <td>0</td>\n",
       "      <td>0</td>\n",
       "      <td>2</td>\n",
       "      <td>N</td>\n",
       "      <td>N</td>\n",
       "      <td>Overcast</td>\n",
       "      <td>Wet</td>\n",
       "      <td>Daylight</td>\n",
       "      <td>N</td>\n",
       "      <td>2</td>\n",
       "    </tr>\n",
       "    <tr>\n",
       "      <th>1</th>\n",
       "      <td>2006-12-20 18:55:00</td>\n",
       "      <td>Sideswipe</td>\n",
       "      <td>2</td>\n",
       "      <td>0</td>\n",
       "      <td>0</td>\n",
       "      <td>2</td>\n",
       "      <td>N</td>\n",
       "      <td>0</td>\n",
       "      <td>Raining</td>\n",
       "      <td>Wet</td>\n",
       "      <td>Dark - Street Lights On</td>\n",
       "      <td>N</td>\n",
       "      <td>1</td>\n",
       "    </tr>\n",
       "    <tr>\n",
       "      <th>2</th>\n",
       "      <td>2004-11-18 10:20:00</td>\n",
       "      <td>Parked Car</td>\n",
       "      <td>4</td>\n",
       "      <td>0</td>\n",
       "      <td>0</td>\n",
       "      <td>3</td>\n",
       "      <td>N</td>\n",
       "      <td>0</td>\n",
       "      <td>Overcast</td>\n",
       "      <td>Dry</td>\n",
       "      <td>Daylight</td>\n",
       "      <td>N</td>\n",
       "      <td>1</td>\n",
       "    </tr>\n",
       "    <tr>\n",
       "      <th>3</th>\n",
       "      <td>2013-03-29 09:26:00</td>\n",
       "      <td>Other</td>\n",
       "      <td>3</td>\n",
       "      <td>0</td>\n",
       "      <td>0</td>\n",
       "      <td>3</td>\n",
       "      <td>N</td>\n",
       "      <td>N</td>\n",
       "      <td>Clear</td>\n",
       "      <td>Dry</td>\n",
       "      <td>Daylight</td>\n",
       "      <td>N</td>\n",
       "      <td>1</td>\n",
       "    </tr>\n",
       "    <tr>\n",
       "      <th>4</th>\n",
       "      <td>2004-01-28 08:04:00</td>\n",
       "      <td>Angles</td>\n",
       "      <td>2</td>\n",
       "      <td>0</td>\n",
       "      <td>0</td>\n",
       "      <td>2</td>\n",
       "      <td>N</td>\n",
       "      <td>0</td>\n",
       "      <td>Raining</td>\n",
       "      <td>Wet</td>\n",
       "      <td>Daylight</td>\n",
       "      <td>N</td>\n",
       "      <td>2</td>\n",
       "    </tr>\n",
       "  </tbody>\n",
       "</table>\n",
       "</div>"
      ],
      "text/plain": [
       "             DATETIME COLLISIONTYPE  PERSONCOUNT  PEDCOUNT  PEDCYLCOUNT  \\\n",
       "0 2013-03-27 14:54:00        Angles            2         0            0   \n",
       "1 2006-12-20 18:55:00     Sideswipe            2         0            0   \n",
       "2 2004-11-18 10:20:00    Parked Car            4         0            0   \n",
       "3 2013-03-29 09:26:00         Other            3         0            0   \n",
       "4 2004-01-28 08:04:00        Angles            2         0            0   \n",
       "\n",
       "   VEHCOUNT INATTENTIONIND UNDERINFL   WEATHER ROADCOND  \\\n",
       "0         2              N         N  Overcast      Wet   \n",
       "1         2              N         0   Raining      Wet   \n",
       "2         3              N         0  Overcast      Dry   \n",
       "3         3              N         N     Clear      Dry   \n",
       "4         2              N         0   Raining      Wet   \n",
       "\n",
       "                 LIGHTCOND SPEEDING  SEVERITYCODE  \n",
       "0                 Daylight        N             2  \n",
       "1  Dark - Street Lights On        N             1  \n",
       "2                 Daylight        N             1  \n",
       "3                 Daylight        N             1  \n",
       "4                 Daylight        N             2  "
      ]
     },
     "execution_count": 2,
     "metadata": {},
     "output_type": "execute_result"
    }
   ],
   "source": [
    "#import the relevant datasets\n",
    "\n",
    "#the initial SDOT dataset on collisions between 2004 and 2020\n",
    "df_csv = pd.read_csv('Data-collisions.csv')\n",
    "\n",
    "#at the end of the first notebook we exported a slightly modified dataframe of the 12 features that were initially\n",
    "#identified as possible model features... lets import that and pick up our data cleaning efforts there...\n",
    "df_exp = pd.read_csv('explored_features.csv')\n",
    "df_exp['DATETIME']=df_exp['DATETIME'].astype('datetime64[ns]')\n",
    "df_exp.head()"
   ]
  },
  {
   "cell_type": "markdown",
   "metadata": {},
   "source": [
    "### 2.0 Feature selection:\n",
    "\n",
    "Let's revisit the 12 features that were initially identified as possible features, summarize the findings and declare whether they will be used in the model.\n",
    "\n",
    "|Column Name|Description|Findings|Included & How|\n",
    "|:---|:---|:---|:---|\n",
    "|COLLISIONTYPE|A keyword describing the collision, eg 'head-on', 'angled', 'cycles', etc.|There are differences in the injury rate between different types of collisions, including significant increases for Pedestrian and Cycle types.|**Yes**: Collision type will be included using one-hot encoding.|\n",
    "|PERSONCOUNT|Total number of people involved in the collision. |The proportion of injury collisions is higher when there are >3 people involved. May indicate more cars which could be more severe incidents, or more people in the vehicles, seated in locations that absorbed more force.|**Yes**: a simplified one-hot feature identifying if there are fewer (0) or 3 or more (1) people involved.|\n",
    "|PEDCOUNT|The number of pedestrians involved in the collision.|Injuries occur much more frequently when there are 1 or more pedestrians involved. However, this relationship is already captured by the 'Pedestrian' collision type.|*No*: This would make a redundant feature and does not need to be included.|\n",
    "|PEDCYLCOUNT|The number of bicycles involved.|Injuries occur much more frequently where bicycles are involved. However, again this is captured by the collision type impact.|*No*: This would be redundant.|\n",
    "|VEHCOUNT|The number of vehicles involved in the collision.|Countplot shows that a higher portion of collisions involving something other than 2 cars result in injury. Further analysis showed that many collisions for 1 vehicle involve pedestrians or bikes, so the higher injury rate makes sense. Collisions involving 3 or more cars may have been more dangerous or severe, and also include more opportunities for injury.|**Yes**: a simplified one-hot feature identifying the number of vehicles as 2 (1) or not (0).|\n",
    "|INCDATE/INCDTTM|Date and time recordings for the incident records.|The volume of total collisions and rate of injury collisions does not fluctuate much for the different days of the week, however, there are clear peaks in the rate of injury collisions during the typical rushhour periods.|**Yes**: datetime value will be used to create a one-hot encoding feature that captures whether the collision occured during rushhour (1) or not (0).|\n",
    "|INATTENTIONIND|If collision was due to inattention.|There is a slightly higher rate of injury collisions among samples where inattentive driving was identified.|**Yes**:this is already a Y/N feature, which can be converted to 0,1 coding.|\n",
    "|UNDERINFL|If driver was under influence of drugs/alchohol.|There is a higher rate of injury collisions among samples where drugs or alcohol were involved.|**Yes**:this is a Y/N feature which will be converted to 0,1 coding. Some cleansing will be required since currently both Y/N and 0/1 formats are used. Also, there are ~5000 blank records that can be dropped.|\n",
    "|WEATHER|Weather at the time of incident.|More severe weather conditions did not show injury rates out of proportion with the total population.|*No*|\n",
    "|ROADCOND|Condition of road at the time of incident.|More dangerous or road conditions did not show injury rates significantly out of proportion with the total population.|*No*|\n",
    "|LIGHTCOND|Light conditions at the time of incident.|The proportion of injury collisions did not stand out for any of the different lighting categories with meaningful volume.|*No*|\n",
    "|SPEEDING|If speeding was a factor in the collision.|The proportion of injury collisions was 1.28 times higher when speeding was involved.|**Yes**:this is a Y/N feature which will be converted to 0,1 coding.|\n",
    "\n",
    "Some highlights/examples of the exploratory analysis that was performed are repeated below. For the full notebook, visit here:\n"
   ]
  },
  {
   "cell_type": "code",
   "execution_count": 3,
   "metadata": {},
   "outputs": [
    {
     "name": "stdout",
     "output_type": "stream",
     "text": [
      "Count of total collisions:  194673\n",
      "Count of collisions on weekdays:  145329\n",
      "Count of collisions on weekends:  49344\n"
     ]
    },
    {
     "data": {
      "image/png": "[encoded data removed]",
      "text/plain": [
       "<Figure size 432x432 with 1 Axes>"
      ]
     },
     "metadata": {
      "needs_background": "light"
     },
     "output_type": "display_data"
    }
   ],
   "source": [
    "#exploration of injury collision rates for different times of the day\n",
    "\n",
    "#generate df grouped by hour of day and severity code, for all days of the week\n",
    "df_hour = df_exp.groupby([df_exp.DATETIME.dt.hour,'SEVERITYCODE']).size().unstack(fill_value=0)\n",
    "df_hour.reset_index(drop=False,inplace=True)\n",
    "df_hour.columns = ['Hour','Property','Injury']\n",
    "df_hour['Total'] = df_hour['Property'] + df_hour['Injury']\n",
    "df_hour['inj_rate'] = df_hour['Injury'] / df_hour['Total']\n",
    "\n",
    "#generate an identical grouped dataframe, but including only weekdays - want to see if rush-hour impact stands out more\n",
    "wkdays = [0,1,2,3,4] #list of values that correspond to Monday-Friday\n",
    "df_hour2 = df_exp[df_exp.DATETIME.dt.dayofweek.isin(wkdays)].groupby([df_exp.DATETIME.dt.hour,'SEVERITYCODE']).size().unstack(fill_value=0)\n",
    "df_hour2.reset_index(drop=False,inplace=True)\n",
    "df_hour2.columns = ['Hour','Property','Injury']\n",
    "df_hour2['Total'] = df_hour2['Property'] + df_hour2['Injury']\n",
    "df_hour2['inj_rate'] = df_hour2['Injury'] / df_hour2['Total']\n",
    "\n",
    "#generate a third df for only weekend days\n",
    "df_hour3 = df_exp[~df_exp.DATETIME.dt.dayofweek.isin(wkdays)].groupby([df_exp.DATETIME.dt.hour,'SEVERITYCODE']).size().unstack(fill_value=0)\n",
    "df_hour3.reset_index(drop=False,inplace=True)\n",
    "df_hour3.columns = ['Hour','Property','Injury']\n",
    "df_hour3['Total'] = df_hour3['Property'] + df_hour3['Injury']\n",
    "df_hour3['inj_rate'] = df_hour3['Injury'] / df_hour3['Total']\n",
    "\n",
    "#print some relevant counts\n",
    "print('Count of total collisions: ', df_hour['Total'].sum())\n",
    "print('Count of collisions on weekdays: ', df_hour2['Total'].sum())\n",
    "print('Count of collisions on weekends: ', df_hour['Total'].sum() - df_hour2['Total'].sum())\n",
    "\n",
    "#generate a plot to compare the change in proportion of injury collisions by hour of the day\n",
    "plt.figure(figsize=(6,6))\n",
    "plt.plot('Hour','inj_rate',data=df_hour,marker='o',color='k')\n",
    "plt.plot('Hour','inj_rate',data=df_hour2,marker='+',color='r')\n",
    "plt.plot('Hour','inj_rate',data=df_hour3,marker='*',color='b')\n",
    "plt.title('Severe collisions as fraction of total, by time-of-day')\n",
    "plt.xlabel('Hour')\n",
    "plt.ylabel('Severe/Total Collisions')\n",
    "plt.legend(['All days','Weekdays only','Weekends only'],loc=4)\n",
    "plt.show()"
   ]
  },
  {
   "cell_type": "code",
   "execution_count": 4,
   "metadata": {},
   "outputs": [
    {
     "data": {
      "text/plain": [
       "Text(0, 0.5, 'Severe/Total Collisions')"
      ]
     },
     "execution_count": 4,
     "metadata": {},
     "output_type": "execute_result"
    },
    {
     "data": {
      "image/png": "[encoded data removed]",
      "text/plain": [
       "<Figure size 432x432 with 1 Axes>"
      ]
     },
     "metadata": {
      "needs_background": "light"
     },
     "output_type": "display_data"
    }
   ],
   "source": [
    "#exploration of injury collision rates for different collision types\n",
    "df_type = df_exp.groupby(['COLLISIONTYPE','SEVERITYCODE']).size().unstack(fill_value=0)\n",
    "df_type.reset_index(drop=False,inplace=True)\n",
    "df_type.columns = ['Type','Property','Injury']\n",
    "df_type['Total'] = df_type['Property'] + df_type['Injury']\n",
    "df_type['inj_rate'] = df_type['Injury'] / df_type['Total']\n",
    "\n",
    "plt.figure(figsize=(6,6))\n",
    "plt.bar(df_type['Type'],df_type['inj_rate'])\n",
    "plt.title('Severe collisions as fraction of total, by recorded type')\n",
    "plt.xlabel('Collision Type')\n",
    "plt.xticks(rotation=90)\n",
    "plt.ylabel('Severe/Total Collisions')"
   ]
  },
  {
   "cell_type": "code",
   "execution_count": 5,
   "metadata": {},
   "outputs": [
    {
     "data": {
      "image/png": "[encoded data removed]",
      "text/plain": [
       "<Figure size 720x720 with 4 Axes>"
      ]
     },
     "metadata": {
      "needs_background": "light"
     },
     "output_type": "display_data"
    }
   ],
   "source": [
    "#visualization of the distribution of injury & property type collisions for different characteristics\n",
    "#including, influence, speeding, weather and road condition\n",
    "fig, ax = plt.subplots(2,2, figsize=(10,10))\n",
    "\n",
    "sns.countplot(x='UNDERINFL',hue='SEVERITYCODE',data=df_exp, ax=ax[0,0])\n",
    "sns.countplot(x='SPEEDING',hue='SEVERITYCODE',data=df_exp,ax=ax[0,1])\n",
    "sns.countplot(x='WEATHER',hue='SEVERITYCODE',data=df_exp,ax=ax[1,0])\n",
    "sns.countplot(x='ROADCOND',hue='SEVERITYCODE',data=df_exp,ax=ax[1,1])\n",
    "\n",
    "for ax in fig.axes:\n",
    "    plt.sca(ax)\n",
    "    plt.xticks(rotation=90)"
   ]
  },
  {
   "cell_type": "markdown",
   "metadata": {},
   "source": [
    "### 3.0 Data Cleansing and Preparation\n",
    "\n",
    "Based on the feature selection table above, the following data cleansing and prep will be completed:\n",
    "\n",
    " - drop PEDCOUNT column\n",
    " - drop PEDCYLCOUNT column\n",
    " - drop WEATHER column\n",
    " - drop ROADCOND column\n",
    " - drop LIGHTCOND column\n",
    " - drop rows where COLLISIONTYPE, INATTENTIONIND, UNDERINFL or SPEEDING are blank\n",
    " - drop rows where PERSONCOUNT is 0\n",
    " - drop rows where the timestamp is 00:00:00 (these samples were missing a time value in the original INCDTTM column before converting to the datetime format). These likely don't have the correct time, and could incorrectly influence the model, which takes into account whether the incident occured during a rushhour period or not. All of these incidents would be categorized as non-rushhour, which may not be accurate.\n",
    " <br><br>\n",
    " - create column to identify if time is during either rushhour (5-8 or 15-18), then drop DATETIME\n",
    " - create column to identify if PERSONCOUNT is >=3, then drop PERSONCOUNT\n",
    " - create column to identify if VEHCOUNT is 2 or not, then drop VEHCOUNT\n",
    " - for INATTENTIONIND, convert N to 0 and Y to 1\n",
    " - for UNDERINFL, convert N to 0 and Y to 1\n",
    " - for SPEEDING, convert N to 0 and Y to 1\n",
    " - transform COLLISION type to one-hot encoding using get_dummies"
   ]
  },
  {
   "cell_type": "code",
   "execution_count": 6,
   "metadata": {},
   "outputs": [
    {
     "name": "stdout",
     "output_type": "stream",
     "text": [
      "(194673, 8)\n"
     ]
    },
    {
     "data": {
      "text/html": [
       "<div>\n",
       "<style scoped>\n",
       "    .dataframe tbody tr th:only-of-type {\n",
       "        vertical-align: middle;\n",
       "    }\n",
       "\n",
       "    .dataframe tbody tr th {\n",
       "        vertical-align: top;\n",
       "    }\n",
       "\n",
       "    .dataframe thead th {\n",
       "        text-align: right;\n",
       "    }\n",
       "</style>\n",
       "<table border=\"1\" class=\"dataframe\">\n",
       "  <thead>\n",
       "    <tr style=\"text-align: right;\">\n",
       "      <th></th>\n",
       "      <th>DATETIME</th>\n",
       "      <th>COLLISIONTYPE</th>\n",
       "      <th>PERSONCOUNT</th>\n",
       "      <th>VEHCOUNT</th>\n",
       "      <th>INATTENTIONIND</th>\n",
       "      <th>UNDERINFL</th>\n",
       "      <th>SPEEDING</th>\n",
       "      <th>SEVERITYCODE</th>\n",
       "    </tr>\n",
       "  </thead>\n",
       "  <tbody>\n",
       "    <tr>\n",
       "      <th>0</th>\n",
       "      <td>2013-03-27 14:54:00</td>\n",
       "      <td>Angles</td>\n",
       "      <td>2</td>\n",
       "      <td>2</td>\n",
       "      <td>N</td>\n",
       "      <td>N</td>\n",
       "      <td>N</td>\n",
       "      <td>2</td>\n",
       "    </tr>\n",
       "    <tr>\n",
       "      <th>1</th>\n",
       "      <td>2006-12-20 18:55:00</td>\n",
       "      <td>Sideswipe</td>\n",
       "      <td>2</td>\n",
       "      <td>2</td>\n",
       "      <td>N</td>\n",
       "      <td>0</td>\n",
       "      <td>N</td>\n",
       "      <td>1</td>\n",
       "    </tr>\n",
       "    <tr>\n",
       "      <th>2</th>\n",
       "      <td>2004-11-18 10:20:00</td>\n",
       "      <td>Parked Car</td>\n",
       "      <td>4</td>\n",
       "      <td>3</td>\n",
       "      <td>N</td>\n",
       "      <td>0</td>\n",
       "      <td>N</td>\n",
       "      <td>1</td>\n",
       "    </tr>\n",
       "    <tr>\n",
       "      <th>3</th>\n",
       "      <td>2013-03-29 09:26:00</td>\n",
       "      <td>Other</td>\n",
       "      <td>3</td>\n",
       "      <td>3</td>\n",
       "      <td>N</td>\n",
       "      <td>N</td>\n",
       "      <td>N</td>\n",
       "      <td>1</td>\n",
       "    </tr>\n",
       "    <tr>\n",
       "      <th>4</th>\n",
       "      <td>2004-01-28 08:04:00</td>\n",
       "      <td>Angles</td>\n",
       "      <td>2</td>\n",
       "      <td>2</td>\n",
       "      <td>N</td>\n",
       "      <td>0</td>\n",
       "      <td>N</td>\n",
       "      <td>2</td>\n",
       "    </tr>\n",
       "  </tbody>\n",
       "</table>\n",
       "</div>"
      ],
      "text/plain": [
       "             DATETIME COLLISIONTYPE  PERSONCOUNT  VEHCOUNT INATTENTIONIND  \\\n",
       "0 2013-03-27 14:54:00        Angles            2         2              N   \n",
       "1 2006-12-20 18:55:00     Sideswipe            2         2              N   \n",
       "2 2004-11-18 10:20:00    Parked Car            4         3              N   \n",
       "3 2013-03-29 09:26:00         Other            3         3              N   \n",
       "4 2004-01-28 08:04:00        Angles            2         2              N   \n",
       "\n",
       "  UNDERINFL SPEEDING  SEVERITYCODE  \n",
       "0         N        N             2  \n",
       "1         0        N             1  \n",
       "2         0        N             1  \n",
       "3         N        N             1  \n",
       "4         0        N             2  "
      ]
     },
     "execution_count": 6,
     "metadata": {},
     "output_type": "execute_result"
    }
   ],
   "source": [
    "#start data cleansing by dropping the desired columns... do this by creating a new dataframe with only the desired columns\n",
    "df = df_exp[['DATETIME', 'COLLISIONTYPE','PERSONCOUNT','VEHCOUNT','INATTENTIONIND','UNDERINFL','SPEEDING','SEVERITYCODE']].copy()\n",
    "print(df.shape)\n",
    "df.head()"
   ]
  },
  {
   "cell_type": "code",
   "execution_count": 7,
   "metadata": {},
   "outputs": [
    {
     "data": {
      "text/plain": [
       "DATETIME             0\n",
       "COLLISIONTYPE     4904\n",
       "PERSONCOUNT          0\n",
       "VEHCOUNT             0\n",
       "INATTENTIONIND       0\n",
       "UNDERINFL         4884\n",
       "SPEEDING             0\n",
       "SEVERITYCODE         0\n",
       "dtype: int64"
      ]
     },
     "execution_count": 7,
     "metadata": {},
     "output_type": "execute_result"
    }
   ],
   "source": [
    "#lets check how many blank values there are in each column:\n",
    "df.isnull().sum(axis=0)"
   ]
  },
  {
   "cell_type": "code",
   "execution_count": 8,
   "metadata": {},
   "outputs": [
    {
     "data": {
      "text/plain": [
       "DATETIME          0\n",
       "COLLISIONTYPE     0\n",
       "PERSONCOUNT       0\n",
       "VEHCOUNT          0\n",
       "INATTENTIONIND    0\n",
       "UNDERINFL         1\n",
       "SPEEDING          0\n",
       "SEVERITYCODE      0\n",
       "dtype: int64"
      ]
     },
     "execution_count": 8,
     "metadata": {},
     "output_type": "execute_result"
    }
   ],
   "source": [
    "#lets drop the blank rows from the COLLISIONTYPE column first\n",
    "df.dropna(axis=0,subset=['COLLISIONTYPE'],inplace=True)\n",
    "df.isnull().sum(axis=0)"
   ]
  },
  {
   "cell_type": "code",
   "execution_count": 9,
   "metadata": {},
   "outputs": [
    {
     "name": "stdout",
     "output_type": "stream",
     "text": [
      "(189768, 8)\n"
     ]
    },
    {
     "data": {
      "text/plain": [
       "DATETIME          0\n",
       "COLLISIONTYPE     0\n",
       "PERSONCOUNT       0\n",
       "VEHCOUNT          0\n",
       "INATTENTIONIND    0\n",
       "UNDERINFL         0\n",
       "SPEEDING          0\n",
       "SEVERITYCODE      0\n",
       "dtype: int64"
      ]
     },
     "execution_count": 9,
     "metadata": {},
     "output_type": "execute_result"
    }
   ],
   "source": [
    "#lets drop the remaining blank (NaN) values from the UNDERINFL column\n",
    "df.dropna(axis=0,subset=['UNDERINFL'],inplace=True)\n",
    "print(df.shape)\n",
    "df.isnull().sum(axis=0)"
   ]
  },
  {
   "cell_type": "code",
   "execution_count": 10,
   "metadata": {},
   "outputs": [
    {
     "data": {
      "text/plain": [
       "2     111386\n",
       "3      35138\n",
       "4      14445\n",
       "1      11727\n",
       "5       6584\n",
       "0       5541\n",
       "6       2702\n",
       "7       1131\n",
       "8        533\n",
       "9        216\n",
       "10       128\n",
       "11        56\n",
       "12        33\n",
       "13        21\n",
       "14        19\n",
       "15        11\n",
       "17        11\n",
       "16         8\n",
       "44         6\n",
       "18         6\n",
       "20         6\n",
       "25         6\n",
       "19         5\n",
       "26         4\n",
       "22         4\n",
       "27         3\n",
       "28         3\n",
       "29         3\n",
       "47         3\n",
       "32         3\n",
       "34         3\n",
       "37         3\n",
       "23         2\n",
       "21         2\n",
       "24         2\n",
       "30         2\n",
       "36         2\n",
       "57         1\n",
       "31         1\n",
       "35         1\n",
       "39         1\n",
       "41         1\n",
       "43         1\n",
       "48         1\n",
       "53         1\n",
       "54         1\n",
       "81         1\n",
       "Name: PERSONCOUNT, dtype: int64"
      ]
     },
     "execution_count": 10,
     "metadata": {},
     "output_type": "execute_result"
    }
   ],
   "source": [
    "#looking at the distribution for PERSONCOUNT, we notice that there are 5541 cases where the count is 0...\n",
    "df['PERSONCOUNT'].value_counts()"
   ]
  },
  {
   "cell_type": "code",
   "execution_count": 11,
   "metadata": {},
   "outputs": [
    {
     "data": {
      "text/plain": [
       "2     4267\n",
       "1      771\n",
       "3      390\n",
       "4       80\n",
       "5       19\n",
       "6        5\n",
       "0        5\n",
       "7        2\n",
       "11       1\n",
       "9        1\n",
       "Name: VEHCOUNT, dtype: int64"
      ]
     },
     "execution_count": 11,
     "metadata": {},
     "output_type": "execute_result"
    }
   ],
   "source": [
    "#what is the VEHCOUNT distribution when the PERSONCOUNT = 0\n",
    "df[df['PERSONCOUNT']==0]['VEHCOUNT'].value_counts()"
   ]
  },
  {
   "cell_type": "markdown",
   "metadata": {},
   "source": [
    "__Observation__: it is unclear how there can be 0 people involved in a collision. For all but 5 cases, there is at least 1 vehicle. It must be that these samples were not recorded properly? Since we intend to use a parameter that identifies the number of people involved (as more or less than 3), these records could impact the featureset because it is unlikely that there was truly 0 people involed in them. The PERSONCOUNT variable could end up being wrong for some of these records, which would incorrectly reflect the true characteristics of those cases and potentially influence the behavior of any models. Therefore, lets remove these cases. There will still be over 180k samples. <br>Out of curiosity, lets look at the proportion of property vs injury collisions for when PERSONCOUNT does not equal 0, versus the entire population of samples."
   ]
  },
  {
   "cell_type": "code",
   "execution_count": 12,
   "metadata": {},
   "outputs": [
    {
     "name": "stdout",
     "output_type": "stream",
     "text": [
      "Ratio of injury to property collisions for all samples (BEFORE): 0.43\n",
      "Ratio of injury to property collisions without PERSONCOUNT=0 samples (AFTER): 0.43\n"
     ]
    }
   ],
   "source": [
    "#looking at severity proportion (injury vs property) of collisions before and after removing samples where PERSONCOUNT = 0\n",
    "before = (df['SEVERITYCODE'].value_counts()[2]) / (df['SEVERITYCODE'].value_counts()[1])\n",
    "after = (df[df['PERSONCOUNT']!=0]['SEVERITYCODE'].value_counts()[2])/(df[df['PERSONCOUNT']!=0]['SEVERITYCODE'].value_counts()[1])\n",
    "\n",
    "print('Ratio of injury to property collisions for all samples (BEFORE): '+'{:.2f}'.format(before))\n",
    "print('Ratio of injury to property collisions without PERSONCOUNT=0 samples (AFTER): '+'{:.2f}'.format(after))"
   ]
  },
  {
   "cell_type": "markdown",
   "metadata": {},
   "source": [
    "__Observation__: removing the samples where the PERSONCOUNT is recorded as 0 wont impact the proportionality of the target variable (SEVERITYCODE) and will still leave over 180k samples.. rather than have concern about the quality and impact of these records, lets remove them."
   ]
  },
  {
   "cell_type": "code",
   "execution_count": 13,
   "metadata": {},
   "outputs": [
    {
     "name": "stdout",
     "output_type": "stream",
     "text": [
      "(184227, 8)\n"
     ]
    }
   ],
   "source": [
    "#remove cases where PERSONCOUNT is 0 from the dataset\n",
    "df = df[df['PERSONCOUNT']!=0]\n",
    "print(df.shape)"
   ]
  },
  {
   "cell_type": "code",
   "execution_count": 14,
   "metadata": {},
   "outputs": [
    {
     "data": {
      "text/html": [
       "<div>\n",
       "<style scoped>\n",
       "    .dataframe tbody tr th:only-of-type {\n",
       "        vertical-align: middle;\n",
       "    }\n",
       "\n",
       "    .dataframe tbody tr th {\n",
       "        vertical-align: top;\n",
       "    }\n",
       "\n",
       "    .dataframe thead th {\n",
       "        text-align: right;\n",
       "    }\n",
       "</style>\n",
       "<table border=\"1\" class=\"dataframe\">\n",
       "  <thead>\n",
       "    <tr style=\"text-align: right;\">\n",
       "      <th></th>\n",
       "      <th>DATETIME</th>\n",
       "      <th>COLLISIONTYPE</th>\n",
       "      <th>PERSONCOUNT</th>\n",
       "      <th>VEHCOUNT</th>\n",
       "      <th>INATTENTIONIND</th>\n",
       "      <th>UNDERINFL</th>\n",
       "      <th>SPEEDING</th>\n",
       "      <th>SEVERITYCODE</th>\n",
       "    </tr>\n",
       "  </thead>\n",
       "  <tbody>\n",
       "    <tr>\n",
       "      <th>0</th>\n",
       "      <td>2013-03-27 14:54:00</td>\n",
       "      <td>Angles</td>\n",
       "      <td>2</td>\n",
       "      <td>2</td>\n",
       "      <td>0</td>\n",
       "      <td>0</td>\n",
       "      <td>0</td>\n",
       "      <td>2</td>\n",
       "    </tr>\n",
       "    <tr>\n",
       "      <th>1</th>\n",
       "      <td>2006-12-20 18:55:00</td>\n",
       "      <td>Sideswipe</td>\n",
       "      <td>2</td>\n",
       "      <td>2</td>\n",
       "      <td>0</td>\n",
       "      <td>0</td>\n",
       "      <td>0</td>\n",
       "      <td>1</td>\n",
       "    </tr>\n",
       "    <tr>\n",
       "      <th>2</th>\n",
       "      <td>2004-11-18 10:20:00</td>\n",
       "      <td>Parked Car</td>\n",
       "      <td>4</td>\n",
       "      <td>3</td>\n",
       "      <td>0</td>\n",
       "      <td>0</td>\n",
       "      <td>0</td>\n",
       "      <td>1</td>\n",
       "    </tr>\n",
       "    <tr>\n",
       "      <th>3</th>\n",
       "      <td>2013-03-29 09:26:00</td>\n",
       "      <td>Other</td>\n",
       "      <td>3</td>\n",
       "      <td>3</td>\n",
       "      <td>0</td>\n",
       "      <td>0</td>\n",
       "      <td>0</td>\n",
       "      <td>1</td>\n",
       "    </tr>\n",
       "    <tr>\n",
       "      <th>4</th>\n",
       "      <td>2004-01-28 08:04:00</td>\n",
       "      <td>Angles</td>\n",
       "      <td>2</td>\n",
       "      <td>2</td>\n",
       "      <td>0</td>\n",
       "      <td>0</td>\n",
       "      <td>0</td>\n",
       "      <td>2</td>\n",
       "    </tr>\n",
       "  </tbody>\n",
       "</table>\n",
       "</div>"
      ],
      "text/plain": [
       "             DATETIME COLLISIONTYPE  PERSONCOUNT  VEHCOUNT  INATTENTIONIND  \\\n",
       "0 2013-03-27 14:54:00        Angles            2         2               0   \n",
       "1 2006-12-20 18:55:00     Sideswipe            2         2               0   \n",
       "2 2004-11-18 10:20:00    Parked Car            4         3               0   \n",
       "3 2013-03-29 09:26:00         Other            3         3               0   \n",
       "4 2004-01-28 08:04:00        Angles            2         2               0   \n",
       "\n",
       "  UNDERINFL  SPEEDING  SEVERITYCODE  \n",
       "0         0         0             2  \n",
       "1         0         0             1  \n",
       "2         0         0             1  \n",
       "3         0         0             1  \n",
       "4         0         0             2  "
      ]
     },
     "execution_count": 14,
     "metadata": {},
     "output_type": "execute_result"
    }
   ],
   "source": [
    "#convert N to 0, Y to 1 in INATTENTIONIND, UNDERINFL and SPEEDING columns\n",
    "df['SPEEDING'].replace(('Y','N'),(1,0),inplace=True)\n",
    "df['INATTENTIONIND'].replace(('Y','N'),(1,0),inplace=True)\n",
    "df['UNDERINFL'].replace(('Y','N'),(1,0),inplace=True)\n",
    "df.head()"
   ]
  },
  {
   "cell_type": "code",
   "execution_count": 15,
   "metadata": {},
   "outputs": [
    {
     "data": {
      "text/plain": [
       "0    175107\n",
       "1      9120\n",
       "Name: UNDERINFL, dtype: int64"
      ]
     },
     "execution_count": 15,
     "metadata": {},
     "output_type": "execute_result"
    }
   ],
   "source": [
    "#the existing 1s and 0s in the UNDERINFL column are strings and need to be converted to integers as well\n",
    "df['UNDERINFL'].replace(('0','1'),(0,1),inplace=True)\n",
    "df['UNDERINFL'].value_counts()"
   ]
  },
  {
   "cell_type": "code",
   "execution_count": 16,
   "metadata": {},
   "outputs": [
    {
     "data": {
      "text/html": [
       "<div>\n",
       "<style scoped>\n",
       "    .dataframe tbody tr th:only-of-type {\n",
       "        vertical-align: middle;\n",
       "    }\n",
       "\n",
       "    .dataframe tbody tr th {\n",
       "        vertical-align: top;\n",
       "    }\n",
       "\n",
       "    .dataframe thead th {\n",
       "        text-align: right;\n",
       "    }\n",
       "</style>\n",
       "<table border=\"1\" class=\"dataframe\">\n",
       "  <thead>\n",
       "    <tr style=\"text-align: right;\">\n",
       "      <th></th>\n",
       "      <th>DATETIME</th>\n",
       "      <th>COLLISIONTYPE</th>\n",
       "      <th>PERSONCOUNT</th>\n",
       "      <th>VEHCOUNT</th>\n",
       "      <th>INATTENTIONIND</th>\n",
       "      <th>UNDERINFL</th>\n",
       "      <th>SPEEDING</th>\n",
       "      <th>SEVERITYCODE</th>\n",
       "      <th>PCOUNT_OVER2</th>\n",
       "      <th>VCOUNT_IS2</th>\n",
       "    </tr>\n",
       "  </thead>\n",
       "  <tbody>\n",
       "    <tr>\n",
       "      <th>0</th>\n",
       "      <td>2013-03-27 14:54:00</td>\n",
       "      <td>Angles</td>\n",
       "      <td>2</td>\n",
       "      <td>2</td>\n",
       "      <td>0</td>\n",
       "      <td>0</td>\n",
       "      <td>0</td>\n",
       "      <td>2</td>\n",
       "      <td>0</td>\n",
       "      <td>1</td>\n",
       "    </tr>\n",
       "    <tr>\n",
       "      <th>1</th>\n",
       "      <td>2006-12-20 18:55:00</td>\n",
       "      <td>Sideswipe</td>\n",
       "      <td>2</td>\n",
       "      <td>2</td>\n",
       "      <td>0</td>\n",
       "      <td>0</td>\n",
       "      <td>0</td>\n",
       "      <td>1</td>\n",
       "      <td>0</td>\n",
       "      <td>1</td>\n",
       "    </tr>\n",
       "    <tr>\n",
       "      <th>2</th>\n",
       "      <td>2004-11-18 10:20:00</td>\n",
       "      <td>Parked Car</td>\n",
       "      <td>4</td>\n",
       "      <td>3</td>\n",
       "      <td>0</td>\n",
       "      <td>0</td>\n",
       "      <td>0</td>\n",
       "      <td>1</td>\n",
       "      <td>1</td>\n",
       "      <td>0</td>\n",
       "    </tr>\n",
       "    <tr>\n",
       "      <th>3</th>\n",
       "      <td>2013-03-29 09:26:00</td>\n",
       "      <td>Other</td>\n",
       "      <td>3</td>\n",
       "      <td>3</td>\n",
       "      <td>0</td>\n",
       "      <td>0</td>\n",
       "      <td>0</td>\n",
       "      <td>1</td>\n",
       "      <td>1</td>\n",
       "      <td>0</td>\n",
       "    </tr>\n",
       "    <tr>\n",
       "      <th>4</th>\n",
       "      <td>2004-01-28 08:04:00</td>\n",
       "      <td>Angles</td>\n",
       "      <td>2</td>\n",
       "      <td>2</td>\n",
       "      <td>0</td>\n",
       "      <td>0</td>\n",
       "      <td>0</td>\n",
       "      <td>2</td>\n",
       "      <td>0</td>\n",
       "      <td>1</td>\n",
       "    </tr>\n",
       "  </tbody>\n",
       "</table>\n",
       "</div>"
      ],
      "text/plain": [
       "             DATETIME COLLISIONTYPE  PERSONCOUNT  VEHCOUNT  INATTENTIONIND  \\\n",
       "0 2013-03-27 14:54:00        Angles            2         2               0   \n",
       "1 2006-12-20 18:55:00     Sideswipe            2         2               0   \n",
       "2 2004-11-18 10:20:00    Parked Car            4         3               0   \n",
       "3 2013-03-29 09:26:00         Other            3         3               0   \n",
       "4 2004-01-28 08:04:00        Angles            2         2               0   \n",
       "\n",
       "   UNDERINFL  SPEEDING  SEVERITYCODE  PCOUNT_OVER2  VCOUNT_IS2  \n",
       "0          0         0             2             0           1  \n",
       "1          0         0             1             0           1  \n",
       "2          0         0             1             1           0  \n",
       "3          0         0             1             1           0  \n",
       "4          0         0             2             0           1  "
      ]
     },
     "execution_count": 16,
     "metadata": {},
     "output_type": "execute_result"
    }
   ],
   "source": [
    "#add columns: PCOUNT_OVER2, VCOUNT_IS2 to track whether there are 3 or more people and whether there are 2 vehicles or other\n",
    "df['PCOUNT_OVER2'] = [1 if b>=3 else 0 for b in df['PERSONCOUNT']]\n",
    "df['VCOUNT_IS2'] = [1 if b==2 else 0 for b in df['VEHCOUNT']]\n",
    "df.head()"
   ]
  },
  {
   "cell_type": "code",
   "execution_count": 17,
   "metadata": {},
   "outputs": [
    {
     "data": {
      "text/html": [
       "<div>\n",
       "<style scoped>\n",
       "    .dataframe tbody tr th:only-of-type {\n",
       "        vertical-align: middle;\n",
       "    }\n",
       "\n",
       "    .dataframe tbody tr th {\n",
       "        vertical-align: top;\n",
       "    }\n",
       "\n",
       "    .dataframe thead th {\n",
       "        text-align: right;\n",
       "    }\n",
       "</style>\n",
       "<table border=\"1\" class=\"dataframe\">\n",
       "  <thead>\n",
       "    <tr style=\"text-align: right;\">\n",
       "      <th></th>\n",
       "      <th>DATETIME</th>\n",
       "      <th>COLLISIONTYPE</th>\n",
       "      <th>PERSONCOUNT</th>\n",
       "      <th>VEHCOUNT</th>\n",
       "      <th>INATTENTIONIND</th>\n",
       "      <th>UNDERINFL</th>\n",
       "      <th>SPEEDING</th>\n",
       "      <th>SEVERITYCODE</th>\n",
       "      <th>PCOUNT_OVER2</th>\n",
       "      <th>VCOUNT_IS2</th>\n",
       "      <th>RUSHHOUR</th>\n",
       "    </tr>\n",
       "  </thead>\n",
       "  <tbody>\n",
       "    <tr>\n",
       "      <th>0</th>\n",
       "      <td>2013-03-27 14:54:00</td>\n",
       "      <td>Angles</td>\n",
       "      <td>2</td>\n",
       "      <td>2</td>\n",
       "      <td>0</td>\n",
       "      <td>0</td>\n",
       "      <td>0</td>\n",
       "      <td>2</td>\n",
       "      <td>0</td>\n",
       "      <td>1</td>\n",
       "      <td>0</td>\n",
       "    </tr>\n",
       "    <tr>\n",
       "      <th>1</th>\n",
       "      <td>2006-12-20 18:55:00</td>\n",
       "      <td>Sideswipe</td>\n",
       "      <td>2</td>\n",
       "      <td>2</td>\n",
       "      <td>0</td>\n",
       "      <td>0</td>\n",
       "      <td>0</td>\n",
       "      <td>1</td>\n",
       "      <td>0</td>\n",
       "      <td>1</td>\n",
       "      <td>1</td>\n",
       "    </tr>\n",
       "    <tr>\n",
       "      <th>2</th>\n",
       "      <td>2004-11-18 10:20:00</td>\n",
       "      <td>Parked Car</td>\n",
       "      <td>4</td>\n",
       "      <td>3</td>\n",
       "      <td>0</td>\n",
       "      <td>0</td>\n",
       "      <td>0</td>\n",
       "      <td>1</td>\n",
       "      <td>1</td>\n",
       "      <td>0</td>\n",
       "      <td>0</td>\n",
       "    </tr>\n",
       "    <tr>\n",
       "      <th>3</th>\n",
       "      <td>2013-03-29 09:26:00</td>\n",
       "      <td>Other</td>\n",
       "      <td>3</td>\n",
       "      <td>3</td>\n",
       "      <td>0</td>\n",
       "      <td>0</td>\n",
       "      <td>0</td>\n",
       "      <td>1</td>\n",
       "      <td>1</td>\n",
       "      <td>0</td>\n",
       "      <td>0</td>\n",
       "    </tr>\n",
       "    <tr>\n",
       "      <th>4</th>\n",
       "      <td>2004-01-28 08:04:00</td>\n",
       "      <td>Angles</td>\n",
       "      <td>2</td>\n",
       "      <td>2</td>\n",
       "      <td>0</td>\n",
       "      <td>0</td>\n",
       "      <td>0</td>\n",
       "      <td>2</td>\n",
       "      <td>0</td>\n",
       "      <td>1</td>\n",
       "      <td>1</td>\n",
       "    </tr>\n",
       "  </tbody>\n",
       "</table>\n",
       "</div>"
      ],
      "text/plain": [
       "             DATETIME COLLISIONTYPE  PERSONCOUNT  VEHCOUNT  INATTENTIONIND  \\\n",
       "0 2013-03-27 14:54:00        Angles            2         2               0   \n",
       "1 2006-12-20 18:55:00     Sideswipe            2         2               0   \n",
       "2 2004-11-18 10:20:00    Parked Car            4         3               0   \n",
       "3 2013-03-29 09:26:00         Other            3         3               0   \n",
       "4 2004-01-28 08:04:00        Angles            2         2               0   \n",
       "\n",
       "   UNDERINFL  SPEEDING  SEVERITYCODE  PCOUNT_OVER2  VCOUNT_IS2  RUSHHOUR  \n",
       "0          0         0             2             0           1         0  \n",
       "1          0         0             1             0           1         1  \n",
       "2          0         0             1             1           0         0  \n",
       "3          0         0             1             1           0         0  \n",
       "4          0         0             2             0           1         1  "
      ]
     },
     "execution_count": 17,
     "metadata": {},
     "output_type": "execute_result"
    }
   ],
   "source": [
    "#add column 'RUSHHOUR' to identify whether time is during the rushhour period on a weekday\n",
    "wkdays = [0,1,2,3,4] #list of values that are weekdays\n",
    "rushhrs = [5,6,7,8,15,16,17,18] #list of hours that are during AM/PM rushhour periouds (5-8 and 3-6)\n",
    "\n",
    "df['RUSHHOUR'] = [1 if (b.hour in rushhrs) & (b.dayofweek in wkdays) else 0 for b in df.DATETIME]\n",
    "df.head()"
   ]
  },
  {
   "cell_type": "code",
   "execution_count": 18,
   "metadata": {},
   "outputs": [
    {
     "data": {
      "text/html": [
       "<div>\n",
       "<style scoped>\n",
       "    .dataframe tbody tr th:only-of-type {\n",
       "        vertical-align: middle;\n",
       "    }\n",
       "\n",
       "    .dataframe tbody tr th {\n",
       "        vertical-align: top;\n",
       "    }\n",
       "\n",
       "    .dataframe thead th {\n",
       "        text-align: right;\n",
       "    }\n",
       "</style>\n",
       "<table border=\"1\" class=\"dataframe\">\n",
       "  <thead>\n",
       "    <tr style=\"text-align: right;\">\n",
       "      <th></th>\n",
       "      <th>DATETIME</th>\n",
       "      <th>COLLISIONTYPE</th>\n",
       "      <th>PERSONCOUNT</th>\n",
       "      <th>VEHCOUNT</th>\n",
       "      <th>INATTENTIONIND</th>\n",
       "      <th>UNDERINFL</th>\n",
       "      <th>SPEEDING</th>\n",
       "      <th>SEVERITYCODE</th>\n",
       "      <th>PCOUNT_OVER2</th>\n",
       "      <th>VCOUNT_IS2</th>\n",
       "      <th>RUSHHOUR</th>\n",
       "    </tr>\n",
       "  </thead>\n",
       "  <tbody>\n",
       "    <tr>\n",
       "      <th>0</th>\n",
       "      <td>2013-03-27 14:54:00</td>\n",
       "      <td>Angles</td>\n",
       "      <td>2</td>\n",
       "      <td>2</td>\n",
       "      <td>0</td>\n",
       "      <td>0</td>\n",
       "      <td>0</td>\n",
       "      <td>2</td>\n",
       "      <td>0</td>\n",
       "      <td>1</td>\n",
       "      <td>0</td>\n",
       "    </tr>\n",
       "    <tr>\n",
       "      <th>1</th>\n",
       "      <td>2006-12-20 18:55:00</td>\n",
       "      <td>Sideswipe</td>\n",
       "      <td>2</td>\n",
       "      <td>2</td>\n",
       "      <td>0</td>\n",
       "      <td>0</td>\n",
       "      <td>0</td>\n",
       "      <td>1</td>\n",
       "      <td>0</td>\n",
       "      <td>1</td>\n",
       "      <td>1</td>\n",
       "    </tr>\n",
       "    <tr>\n",
       "      <th>2</th>\n",
       "      <td>2004-11-18 10:20:00</td>\n",
       "      <td>Parked Car</td>\n",
       "      <td>4</td>\n",
       "      <td>3</td>\n",
       "      <td>0</td>\n",
       "      <td>0</td>\n",
       "      <td>0</td>\n",
       "      <td>1</td>\n",
       "      <td>1</td>\n",
       "      <td>0</td>\n",
       "      <td>0</td>\n",
       "    </tr>\n",
       "    <tr>\n",
       "      <th>3</th>\n",
       "      <td>2013-03-29 09:26:00</td>\n",
       "      <td>Other</td>\n",
       "      <td>3</td>\n",
       "      <td>3</td>\n",
       "      <td>0</td>\n",
       "      <td>0</td>\n",
       "      <td>0</td>\n",
       "      <td>1</td>\n",
       "      <td>1</td>\n",
       "      <td>0</td>\n",
       "      <td>0</td>\n",
       "    </tr>\n",
       "    <tr>\n",
       "      <th>4</th>\n",
       "      <td>2004-01-28 08:04:00</td>\n",
       "      <td>Angles</td>\n",
       "      <td>2</td>\n",
       "      <td>2</td>\n",
       "      <td>0</td>\n",
       "      <td>0</td>\n",
       "      <td>0</td>\n",
       "      <td>2</td>\n",
       "      <td>0</td>\n",
       "      <td>1</td>\n",
       "      <td>1</td>\n",
       "    </tr>\n",
       "    <tr>\n",
       "      <th>5</th>\n",
       "      <td>2019-04-20 17:42:00</td>\n",
       "      <td>Angles</td>\n",
       "      <td>2</td>\n",
       "      <td>2</td>\n",
       "      <td>0</td>\n",
       "      <td>0</td>\n",
       "      <td>0</td>\n",
       "      <td>1</td>\n",
       "      <td>0</td>\n",
       "      <td>1</td>\n",
       "      <td>0</td>\n",
       "    </tr>\n",
       "    <tr>\n",
       "      <th>6</th>\n",
       "      <td>2008-12-09 00:00:00</td>\n",
       "      <td>Angles</td>\n",
       "      <td>2</td>\n",
       "      <td>2</td>\n",
       "      <td>0</td>\n",
       "      <td>0</td>\n",
       "      <td>0</td>\n",
       "      <td>1</td>\n",
       "      <td>0</td>\n",
       "      <td>1</td>\n",
       "      <td>0</td>\n",
       "    </tr>\n",
       "    <tr>\n",
       "      <th>7</th>\n",
       "      <td>2020-04-15 17:47:00</td>\n",
       "      <td>Cycles</td>\n",
       "      <td>3</td>\n",
       "      <td>1</td>\n",
       "      <td>0</td>\n",
       "      <td>0</td>\n",
       "      <td>0</td>\n",
       "      <td>2</td>\n",
       "      <td>1</td>\n",
       "      <td>0</td>\n",
       "      <td>1</td>\n",
       "    </tr>\n",
       "    <tr>\n",
       "      <th>8</th>\n",
       "      <td>2006-06-15 13:00:00</td>\n",
       "      <td>Parked Car</td>\n",
       "      <td>2</td>\n",
       "      <td>2</td>\n",
       "      <td>0</td>\n",
       "      <td>0</td>\n",
       "      <td>0</td>\n",
       "      <td>1</td>\n",
       "      <td>0</td>\n",
       "      <td>1</td>\n",
       "      <td>0</td>\n",
       "    </tr>\n",
       "    <tr>\n",
       "      <th>9</th>\n",
       "      <td>2006-03-20 15:49:00</td>\n",
       "      <td>Angles</td>\n",
       "      <td>2</td>\n",
       "      <td>2</td>\n",
       "      <td>0</td>\n",
       "      <td>0</td>\n",
       "      <td>0</td>\n",
       "      <td>2</td>\n",
       "      <td>0</td>\n",
       "      <td>1</td>\n",
       "      <td>1</td>\n",
       "    </tr>\n",
       "  </tbody>\n",
       "</table>\n",
       "</div>"
      ],
      "text/plain": [
       "             DATETIME COLLISIONTYPE  PERSONCOUNT  VEHCOUNT  INATTENTIONIND  \\\n",
       "0 2013-03-27 14:54:00        Angles            2         2               0   \n",
       "1 2006-12-20 18:55:00     Sideswipe            2         2               0   \n",
       "2 2004-11-18 10:20:00    Parked Car            4         3               0   \n",
       "3 2013-03-29 09:26:00         Other            3         3               0   \n",
       "4 2004-01-28 08:04:00        Angles            2         2               0   \n",
       "5 2019-04-20 17:42:00        Angles            2         2               0   \n",
       "6 2008-12-09 00:00:00        Angles            2         2               0   \n",
       "7 2020-04-15 17:47:00        Cycles            3         1               0   \n",
       "8 2006-06-15 13:00:00    Parked Car            2         2               0   \n",
       "9 2006-03-20 15:49:00        Angles            2         2               0   \n",
       "\n",
       "   UNDERINFL  SPEEDING  SEVERITYCODE  PCOUNT_OVER2  VCOUNT_IS2  RUSHHOUR  \n",
       "0          0         0             2             0           1         0  \n",
       "1          0         0             1             0           1         1  \n",
       "2          0         0             1             1           0         0  \n",
       "3          0         0             1             1           0         0  \n",
       "4          0         0             2             0           1         1  \n",
       "5          0         0             1             0           1         0  \n",
       "6          0         0             1             0           1         0  \n",
       "7          0         0             2             1           0         1  \n",
       "8          0         0             1             0           1         0  \n",
       "9          0         0             2             0           1         1  "
      ]
     },
     "execution_count": 18,
     "metadata": {},
     "output_type": "execute_result"
    }
   ],
   "source": [
    "#when first observing the dataset, the INCDTTM column had some dates that were missing a timestamp.. these could be\n",
    "#incorrectly classified as non-rushhour, since we don't know the true times.. lets determine the number of impacted items\n",
    "#and remove them\n",
    "\n",
    "#first lets look at an example... in the first 10 rows of the dataframe, notice row 6, which has a timestamp of 00:00:00\n",
    "#this is because the original INCDTTM column had only a date, so the timestamp defaults to 00:00:00 when converted to\n",
    "#the datetime format\n",
    "df.head(10)"
   ]
  },
  {
   "cell_type": "code",
   "execution_count": 19,
   "metadata": {},
   "outputs": [
    {
     "data": {
      "text/html": [
       "<div>\n",
       "<style scoped>\n",
       "    .dataframe tbody tr th:only-of-type {\n",
       "        vertical-align: middle;\n",
       "    }\n",
       "\n",
       "    .dataframe tbody tr th {\n",
       "        vertical-align: top;\n",
       "    }\n",
       "\n",
       "    .dataframe thead th {\n",
       "        text-align: right;\n",
       "    }\n",
       "</style>\n",
       "<table border=\"1\" class=\"dataframe\">\n",
       "  <thead>\n",
       "    <tr style=\"text-align: right;\">\n",
       "      <th></th>\n",
       "      <th>COLLISIONTYPE</th>\n",
       "      <th>PERSONCOUNT</th>\n",
       "      <th>VEHCOUNT</th>\n",
       "      <th>INATTENTIONIND</th>\n",
       "      <th>UNDERINFL</th>\n",
       "      <th>SPEEDING</th>\n",
       "      <th>SEVERITYCODE</th>\n",
       "      <th>PCOUNT_OVER2</th>\n",
       "      <th>VCOUNT_IS2</th>\n",
       "      <th>RUSHHOUR</th>\n",
       "    </tr>\n",
       "    <tr>\n",
       "      <th>DATETIME</th>\n",
       "      <th></th>\n",
       "      <th></th>\n",
       "      <th></th>\n",
       "      <th></th>\n",
       "      <th></th>\n",
       "      <th></th>\n",
       "      <th></th>\n",
       "      <th></th>\n",
       "      <th></th>\n",
       "      <th></th>\n",
       "    </tr>\n",
       "  </thead>\n",
       "  <tbody>\n",
       "    <tr>\n",
       "      <th>2013-03-27 14:54:00</th>\n",
       "      <td>Angles</td>\n",
       "      <td>2</td>\n",
       "      <td>2</td>\n",
       "      <td>0</td>\n",
       "      <td>0</td>\n",
       "      <td>0</td>\n",
       "      <td>2</td>\n",
       "      <td>0</td>\n",
       "      <td>1</td>\n",
       "      <td>0</td>\n",
       "    </tr>\n",
       "    <tr>\n",
       "      <th>2006-12-20 18:55:00</th>\n",
       "      <td>Sideswipe</td>\n",
       "      <td>2</td>\n",
       "      <td>2</td>\n",
       "      <td>0</td>\n",
       "      <td>0</td>\n",
       "      <td>0</td>\n",
       "      <td>1</td>\n",
       "      <td>0</td>\n",
       "      <td>1</td>\n",
       "      <td>1</td>\n",
       "    </tr>\n",
       "    <tr>\n",
       "      <th>2004-11-18 10:20:00</th>\n",
       "      <td>Parked Car</td>\n",
       "      <td>4</td>\n",
       "      <td>3</td>\n",
       "      <td>0</td>\n",
       "      <td>0</td>\n",
       "      <td>0</td>\n",
       "      <td>1</td>\n",
       "      <td>1</td>\n",
       "      <td>0</td>\n",
       "      <td>0</td>\n",
       "    </tr>\n",
       "    <tr>\n",
       "      <th>2013-03-29 09:26:00</th>\n",
       "      <td>Other</td>\n",
       "      <td>3</td>\n",
       "      <td>3</td>\n",
       "      <td>0</td>\n",
       "      <td>0</td>\n",
       "      <td>0</td>\n",
       "      <td>1</td>\n",
       "      <td>1</td>\n",
       "      <td>0</td>\n",
       "      <td>0</td>\n",
       "    </tr>\n",
       "    <tr>\n",
       "      <th>2004-01-28 08:04:00</th>\n",
       "      <td>Angles</td>\n",
       "      <td>2</td>\n",
       "      <td>2</td>\n",
       "      <td>0</td>\n",
       "      <td>0</td>\n",
       "      <td>0</td>\n",
       "      <td>2</td>\n",
       "      <td>0</td>\n",
       "      <td>1</td>\n",
       "      <td>1</td>\n",
       "    </tr>\n",
       "  </tbody>\n",
       "</table>\n",
       "</div>"
      ],
      "text/plain": [
       "                    COLLISIONTYPE  PERSONCOUNT  VEHCOUNT  INATTENTIONIND  \\\n",
       "DATETIME                                                                   \n",
       "2013-03-27 14:54:00        Angles            2         2               0   \n",
       "2006-12-20 18:55:00     Sideswipe            2         2               0   \n",
       "2004-11-18 10:20:00    Parked Car            4         3               0   \n",
       "2013-03-29 09:26:00         Other            3         3               0   \n",
       "2004-01-28 08:04:00        Angles            2         2               0   \n",
       "\n",
       "                     UNDERINFL  SPEEDING  SEVERITYCODE  PCOUNT_OVER2  \\\n",
       "DATETIME                                                               \n",
       "2013-03-27 14:54:00          0         0             2             0   \n",
       "2006-12-20 18:55:00          0         0             1             0   \n",
       "2004-11-18 10:20:00          0         0             1             1   \n",
       "2013-03-29 09:26:00          0         0             1             1   \n",
       "2004-01-28 08:04:00          0         0             2             0   \n",
       "\n",
       "                     VCOUNT_IS2  RUSHHOUR  \n",
       "DATETIME                                   \n",
       "2013-03-27 14:54:00           1         0  \n",
       "2006-12-20 18:55:00           1         1  \n",
       "2004-11-18 10:20:00           0         0  \n",
       "2013-03-29 09:26:00           0         0  \n",
       "2004-01-28 08:04:00           1         1  "
      ]
     },
     "execution_count": 19,
     "metadata": {},
     "output_type": "execute_result"
    }
   ],
   "source": [
    "#lets remove these samples... first we need to set the index to the DATETIME column, then we can make use of the\n",
    "#between_times method\n",
    "df.set_index('DATETIME',inplace=True)\n",
    "df.head()"
   ]
  },
  {
   "cell_type": "code",
   "execution_count": 20,
   "metadata": {},
   "outputs": [
    {
     "name": "stdout",
     "output_type": "stream",
     "text": [
      "(25526, 10)\n"
     ]
    },
    {
     "data": {
      "text/html": [
       "<div>\n",
       "<style scoped>\n",
       "    .dataframe tbody tr th:only-of-type {\n",
       "        vertical-align: middle;\n",
       "    }\n",
       "\n",
       "    .dataframe tbody tr th {\n",
       "        vertical-align: top;\n",
       "    }\n",
       "\n",
       "    .dataframe thead th {\n",
       "        text-align: right;\n",
       "    }\n",
       "</style>\n",
       "<table border=\"1\" class=\"dataframe\">\n",
       "  <thead>\n",
       "    <tr style=\"text-align: right;\">\n",
       "      <th></th>\n",
       "      <th>COLLISIONTYPE</th>\n",
       "      <th>PERSONCOUNT</th>\n",
       "      <th>VEHCOUNT</th>\n",
       "      <th>INATTENTIONIND</th>\n",
       "      <th>UNDERINFL</th>\n",
       "      <th>SPEEDING</th>\n",
       "      <th>SEVERITYCODE</th>\n",
       "      <th>PCOUNT_OVER2</th>\n",
       "      <th>VCOUNT_IS2</th>\n",
       "      <th>RUSHHOUR</th>\n",
       "    </tr>\n",
       "    <tr>\n",
       "      <th>DATETIME</th>\n",
       "      <th></th>\n",
       "      <th></th>\n",
       "      <th></th>\n",
       "      <th></th>\n",
       "      <th></th>\n",
       "      <th></th>\n",
       "      <th></th>\n",
       "      <th></th>\n",
       "      <th></th>\n",
       "      <th></th>\n",
       "    </tr>\n",
       "  </thead>\n",
       "  <tbody>\n",
       "    <tr>\n",
       "      <th>2008-12-09</th>\n",
       "      <td>Angles</td>\n",
       "      <td>2</td>\n",
       "      <td>2</td>\n",
       "      <td>0</td>\n",
       "      <td>0</td>\n",
       "      <td>0</td>\n",
       "      <td>1</td>\n",
       "      <td>0</td>\n",
       "      <td>1</td>\n",
       "      <td>0</td>\n",
       "    </tr>\n",
       "    <tr>\n",
       "      <th>2005-07-01</th>\n",
       "      <td>Left Turn</td>\n",
       "      <td>3</td>\n",
       "      <td>2</td>\n",
       "      <td>0</td>\n",
       "      <td>0</td>\n",
       "      <td>0</td>\n",
       "      <td>2</td>\n",
       "      <td>1</td>\n",
       "      <td>1</td>\n",
       "      <td>0</td>\n",
       "    </tr>\n",
       "    <tr>\n",
       "      <th>2009-06-01</th>\n",
       "      <td>Parked Car</td>\n",
       "      <td>2</td>\n",
       "      <td>2</td>\n",
       "      <td>0</td>\n",
       "      <td>0</td>\n",
       "      <td>0</td>\n",
       "      <td>1</td>\n",
       "      <td>0</td>\n",
       "      <td>1</td>\n",
       "      <td>0</td>\n",
       "    </tr>\n",
       "    <tr>\n",
       "      <th>2005-11-05</th>\n",
       "      <td>Left Turn</td>\n",
       "      <td>3</td>\n",
       "      <td>2</td>\n",
       "      <td>0</td>\n",
       "      <td>0</td>\n",
       "      <td>0</td>\n",
       "      <td>1</td>\n",
       "      <td>1</td>\n",
       "      <td>1</td>\n",
       "      <td>0</td>\n",
       "    </tr>\n",
       "    <tr>\n",
       "      <th>2006-08-05</th>\n",
       "      <td>Angles</td>\n",
       "      <td>2</td>\n",
       "      <td>2</td>\n",
       "      <td>0</td>\n",
       "      <td>0</td>\n",
       "      <td>0</td>\n",
       "      <td>1</td>\n",
       "      <td>0</td>\n",
       "      <td>1</td>\n",
       "      <td>0</td>\n",
       "    </tr>\n",
       "  </tbody>\n",
       "</table>\n",
       "</div>"
      ],
      "text/plain": [
       "           COLLISIONTYPE  PERSONCOUNT  VEHCOUNT  INATTENTIONIND  UNDERINFL  \\\n",
       "DATETIME                                                                     \n",
       "2008-12-09        Angles            2         2               0          0   \n",
       "2005-07-01     Left Turn            3         2               0          0   \n",
       "2009-06-01    Parked Car            2         2               0          0   \n",
       "2005-11-05     Left Turn            3         2               0          0   \n",
       "2006-08-05        Angles            2         2               0          0   \n",
       "\n",
       "            SPEEDING  SEVERITYCODE  PCOUNT_OVER2  VCOUNT_IS2  RUSHHOUR  \n",
       "DATETIME                                                                \n",
       "2008-12-09         0             1             0           1         0  \n",
       "2005-07-01         0             2             1           1         0  \n",
       "2009-06-01         0             1             0           1         0  \n",
       "2005-11-05         0             1             1           1         0  \n",
       "2006-08-05         0             1             0           1         0  "
      ]
     },
     "execution_count": 20,
     "metadata": {},
     "output_type": "execute_result"
    }
   ],
   "source": [
    "#now lets create a new df with the samples that fall between a time of 00:00:00 and 00:00:01\n",
    "#this represents midnight and one second after midnight, and since the timestamp values only have hours and minutes\n",
    "#it should only capture those samples where not time originally existed and the timestamp defaulted to 00:00:00\n",
    "df2 = df.between_time('00:00:00','00:00:01')\n",
    "print(df2.shape)\n",
    "df2.head()"
   ]
  },
  {
   "cell_type": "code",
   "execution_count": 21,
   "metadata": {},
   "outputs": [
    {
     "name": "stdout",
     "output_type": "stream",
     "text": [
      "(158701, 10)\n"
     ]
    },
    {
     "data": {
      "text/html": [
       "<div>\n",
       "<style scoped>\n",
       "    .dataframe tbody tr th:only-of-type {\n",
       "        vertical-align: middle;\n",
       "    }\n",
       "\n",
       "    .dataframe tbody tr th {\n",
       "        vertical-align: top;\n",
       "    }\n",
       "\n",
       "    .dataframe thead th {\n",
       "        text-align: right;\n",
       "    }\n",
       "</style>\n",
       "<table border=\"1\" class=\"dataframe\">\n",
       "  <thead>\n",
       "    <tr style=\"text-align: right;\">\n",
       "      <th></th>\n",
       "      <th>DATETIME</th>\n",
       "      <th>COLLISIONTYPE</th>\n",
       "      <th>PERSONCOUNT</th>\n",
       "      <th>VEHCOUNT</th>\n",
       "      <th>INATTENTIONIND</th>\n",
       "      <th>UNDERINFL</th>\n",
       "      <th>SPEEDING</th>\n",
       "      <th>SEVERITYCODE</th>\n",
       "      <th>PCOUNT_OVER2</th>\n",
       "      <th>VCOUNT_IS2</th>\n",
       "      <th>RUSHHOUR</th>\n",
       "    </tr>\n",
       "  </thead>\n",
       "  <tbody>\n",
       "    <tr>\n",
       "      <th>0</th>\n",
       "      <td>2013-03-27 14:54:00</td>\n",
       "      <td>Angles</td>\n",
       "      <td>2</td>\n",
       "      <td>2</td>\n",
       "      <td>0</td>\n",
       "      <td>0</td>\n",
       "      <td>0</td>\n",
       "      <td>2</td>\n",
       "      <td>0</td>\n",
       "      <td>1</td>\n",
       "      <td>0</td>\n",
       "    </tr>\n",
       "    <tr>\n",
       "      <th>1</th>\n",
       "      <td>2006-12-20 18:55:00</td>\n",
       "      <td>Sideswipe</td>\n",
       "      <td>2</td>\n",
       "      <td>2</td>\n",
       "      <td>0</td>\n",
       "      <td>0</td>\n",
       "      <td>0</td>\n",
       "      <td>1</td>\n",
       "      <td>0</td>\n",
       "      <td>1</td>\n",
       "      <td>1</td>\n",
       "    </tr>\n",
       "    <tr>\n",
       "      <th>2</th>\n",
       "      <td>2004-11-18 10:20:00</td>\n",
       "      <td>Parked Car</td>\n",
       "      <td>4</td>\n",
       "      <td>3</td>\n",
       "      <td>0</td>\n",
       "      <td>0</td>\n",
       "      <td>0</td>\n",
       "      <td>1</td>\n",
       "      <td>1</td>\n",
       "      <td>0</td>\n",
       "      <td>0</td>\n",
       "    </tr>\n",
       "    <tr>\n",
       "      <th>3</th>\n",
       "      <td>2013-03-29 09:26:00</td>\n",
       "      <td>Other</td>\n",
       "      <td>3</td>\n",
       "      <td>3</td>\n",
       "      <td>0</td>\n",
       "      <td>0</td>\n",
       "      <td>0</td>\n",
       "      <td>1</td>\n",
       "      <td>1</td>\n",
       "      <td>0</td>\n",
       "      <td>0</td>\n",
       "    </tr>\n",
       "    <tr>\n",
       "      <th>4</th>\n",
       "      <td>2004-01-28 08:04:00</td>\n",
       "      <td>Angles</td>\n",
       "      <td>2</td>\n",
       "      <td>2</td>\n",
       "      <td>0</td>\n",
       "      <td>0</td>\n",
       "      <td>0</td>\n",
       "      <td>2</td>\n",
       "      <td>0</td>\n",
       "      <td>1</td>\n",
       "      <td>1</td>\n",
       "    </tr>\n",
       "    <tr>\n",
       "      <th>5</th>\n",
       "      <td>2019-04-20 17:42:00</td>\n",
       "      <td>Angles</td>\n",
       "      <td>2</td>\n",
       "      <td>2</td>\n",
       "      <td>0</td>\n",
       "      <td>0</td>\n",
       "      <td>0</td>\n",
       "      <td>1</td>\n",
       "      <td>0</td>\n",
       "      <td>1</td>\n",
       "      <td>0</td>\n",
       "    </tr>\n",
       "    <tr>\n",
       "      <th>6</th>\n",
       "      <td>2020-04-15 17:47:00</td>\n",
       "      <td>Cycles</td>\n",
       "      <td>3</td>\n",
       "      <td>1</td>\n",
       "      <td>0</td>\n",
       "      <td>0</td>\n",
       "      <td>0</td>\n",
       "      <td>2</td>\n",
       "      <td>1</td>\n",
       "      <td>0</td>\n",
       "      <td>1</td>\n",
       "    </tr>\n",
       "    <tr>\n",
       "      <th>7</th>\n",
       "      <td>2006-06-15 13:00:00</td>\n",
       "      <td>Parked Car</td>\n",
       "      <td>2</td>\n",
       "      <td>2</td>\n",
       "      <td>0</td>\n",
       "      <td>0</td>\n",
       "      <td>0</td>\n",
       "      <td>1</td>\n",
       "      <td>0</td>\n",
       "      <td>1</td>\n",
       "      <td>0</td>\n",
       "    </tr>\n",
       "    <tr>\n",
       "      <th>8</th>\n",
       "      <td>2006-03-20 15:49:00</td>\n",
       "      <td>Angles</td>\n",
       "      <td>2</td>\n",
       "      <td>2</td>\n",
       "      <td>0</td>\n",
       "      <td>0</td>\n",
       "      <td>0</td>\n",
       "      <td>2</td>\n",
       "      <td>0</td>\n",
       "      <td>1</td>\n",
       "      <td>1</td>\n",
       "    </tr>\n",
       "    <tr>\n",
       "      <th>9</th>\n",
       "      <td>2006-05-25 18:20:00</td>\n",
       "      <td>Other</td>\n",
       "      <td>2</td>\n",
       "      <td>2</td>\n",
       "      <td>0</td>\n",
       "      <td>0</td>\n",
       "      <td>0</td>\n",
       "      <td>1</td>\n",
       "      <td>0</td>\n",
       "      <td>1</td>\n",
       "      <td>1</td>\n",
       "    </tr>\n",
       "  </tbody>\n",
       "</table>\n",
       "</div>"
      ],
      "text/plain": [
       "             DATETIME COLLISIONTYPE  PERSONCOUNT  VEHCOUNT  INATTENTIONIND  \\\n",
       "0 2013-03-27 14:54:00        Angles            2         2               0   \n",
       "1 2006-12-20 18:55:00     Sideswipe            2         2               0   \n",
       "2 2004-11-18 10:20:00    Parked Car            4         3               0   \n",
       "3 2013-03-29 09:26:00         Other            3         3               0   \n",
       "4 2004-01-28 08:04:00        Angles            2         2               0   \n",
       "5 2019-04-20 17:42:00        Angles            2         2               0   \n",
       "6 2020-04-15 17:47:00        Cycles            3         1               0   \n",
       "7 2006-06-15 13:00:00    Parked Car            2         2               0   \n",
       "8 2006-03-20 15:49:00        Angles            2         2               0   \n",
       "9 2006-05-25 18:20:00         Other            2         2               0   \n",
       "\n",
       "   UNDERINFL  SPEEDING  SEVERITYCODE  PCOUNT_OVER2  VCOUNT_IS2  RUSHHOUR  \n",
       "0          0         0             2             0           1         0  \n",
       "1          0         0             1             0           1         1  \n",
       "2          0         0             1             1           0         0  \n",
       "3          0         0             1             1           0         0  \n",
       "4          0         0             2             0           1         1  \n",
       "5          0         0             1             0           1         0  \n",
       "6          0         0             2             1           0         1  \n",
       "7          0         0             1             0           1         0  \n",
       "8          0         0             2             0           1         1  \n",
       "9          0         0             1             0           1         1  "
      ]
     },
     "execution_count": 21,
     "metadata": {},
     "output_type": "execute_result"
    }
   ],
   "source": [
    "#by spotchecking the original dataset, we can confirm that the 4 records above were originally lacking a time value\n",
    "#lets overwrite the original dataframe to remove the 25526 rows in df2, where the timestamp is 00:00:00\n",
    "#this can be done by swapping the start and end time values..\n",
    "\n",
    "df = df.between_time('00:00:01','23:59:59')\n",
    "#to check, the number of records should equal the previous size (184227) minus the size of df2 (25526) leaving 158701\n",
    "print(df.shape)\n",
    "#also notice how the old sample in row 6 has been removed and the record now has a timevalue\n",
    "df.reset_index(inplace=True)\n",
    "df.head(10)"
   ]
  },
  {
   "cell_type": "code",
   "execution_count": 22,
   "metadata": {},
   "outputs": [
    {
     "name": "stdout",
     "output_type": "stream",
     "text": [
      "Value counts for removed samples: \n",
      " 1    18193\n",
      "2     7333\n",
      "Name: SEVERITYCODE, dtype: int64\n",
      "Ratio of injury to property collisions for removed samples: \n",
      " 0.4030671137250591\n",
      "Value counts for remaining samples: \n",
      " 1    110649\n",
      "2     48052\n",
      "Name: SEVERITYCODE, dtype: int64\n",
      "Ratio of injury to property collisions for remaining samples: \n",
      " 0.4342741461739374\n"
     ]
    }
   ],
   "source": [
    "#lets check what the distribution of collision severity was for each of the subsets...\n",
    "#for the removed samples in df2\n",
    "df2.reset_index(inplace=True)\n",
    "print('Value counts for removed samples: \\n',df2['SEVERITYCODE'].value_counts())\n",
    "print('Ratio of injury to property collisions for removed samples: \\n',(df2['SEVERITYCODE'].value_counts()[2])/(df2['SEVERITYCODE'].value_counts()[1]))\n",
    "#for the remaining samples in the df\n",
    "print('Value counts for remaining samples: \\n',df['SEVERITYCODE'].value_counts())\n",
    "print('Ratio of injury to property collisions for remaining samples: \\n',(df['SEVERITYCODE'].value_counts()[2])/(df['SEVERITYCODE'].value_counts()[1]))"
   ]
  },
  {
   "cell_type": "code",
   "execution_count": 23,
   "metadata": {},
   "outputs": [
    {
     "data": {
      "text/plain": [
       "DATETIME\n",
       "2004    3583\n",
       "2005    4439\n",
       "2006    4598\n",
       "2007    4335\n",
       "2008    4073\n",
       "2009    3399\n",
       "2010     126\n",
       "2011     626\n",
       "2012      24\n",
       "2013      65\n",
       "2014      54\n",
       "2015      38\n",
       "2016      62\n",
       "2017      31\n",
       "2018      45\n",
       "2019      23\n",
       "2020       5\n",
       "Name: SEVERITYCODE, dtype: int64"
      ]
     },
     "execution_count": 23,
     "metadata": {},
     "output_type": "execute_result"
    }
   ],
   "source": [
    "#lets look at the distribution of the removed samples by year...\n",
    "df2.groupby(df2.DATETIME.dt.year).count()['SEVERITYCODE']"
   ]
  },
  {
   "cell_type": "code",
   "execution_count": 24,
   "metadata": {},
   "outputs": [
    {
     "data": {
      "text/plain": [
       "DATETIME\n",
       "2004     8165\n",
       "2005    10594\n",
       "2006    10559\n",
       "2007    10119\n",
       "2008     9587\n",
       "2009     8335\n",
       "2010    10664\n",
       "2011    10286\n",
       "2012    10201\n",
       "2013     9881\n",
       "2014    11470\n",
       "2015    10411\n",
       "2016    10524\n",
       "2017     8065\n",
       "2018     9854\n",
       "2019     8730\n",
       "2020     1256\n",
       "Name: SEVERITYCODE, dtype: int64"
      ]
     },
     "execution_count": 24,
     "metadata": {},
     "output_type": "execute_result"
    }
   ],
   "source": [
    "#lets look at the distribution for the remaining samples\n",
    "df.groupby(df.DATETIME.dt.year).count()['SEVERITYCODE']"
   ]
  },
  {
   "cell_type": "markdown",
   "metadata": {},
   "source": [
    "__Observations:__ <br>\n",
    "- the ratio of injury to property collisions is slightly higher for the remaining samples, however, it is still in line with the overall ratio of 0.43 injury collisions for every 1 property collision\n",
    "- the removed samples come overwhelmingly from the years 2004-2009; perhaps historically the time of incident wasn't consistently recorded\n",
    "- there is still ~160k samples remaining in the dataset, which could be used for training/testing"
   ]
  },
  {
   "cell_type": "code",
   "execution_count": 25,
   "metadata": {},
   "outputs": [
    {
     "name": "stdout",
     "output_type": "stream",
     "text": [
      "(158701, 17)\n"
     ]
    },
    {
     "data": {
      "text/html": [
       "<div>\n",
       "<style scoped>\n",
       "    .dataframe tbody tr th:only-of-type {\n",
       "        vertical-align: middle;\n",
       "    }\n",
       "\n",
       "    .dataframe tbody tr th {\n",
       "        vertical-align: top;\n",
       "    }\n",
       "\n",
       "    .dataframe thead th {\n",
       "        text-align: right;\n",
       "    }\n",
       "</style>\n",
       "<table border=\"1\" class=\"dataframe\">\n",
       "  <thead>\n",
       "    <tr style=\"text-align: right;\">\n",
       "      <th></th>\n",
       "      <th>SEVERITYCODE</th>\n",
       "      <th>RUSHHOUR</th>\n",
       "      <th>PCOUNT_OVER2</th>\n",
       "      <th>VCOUNT_IS2</th>\n",
       "      <th>INATTENTIONIND</th>\n",
       "      <th>UNDERINFL</th>\n",
       "      <th>SPEEDING</th>\n",
       "      <th>Angles</th>\n",
       "      <th>Cycles</th>\n",
       "      <th>Head On</th>\n",
       "      <th>Left Turn</th>\n",
       "      <th>Other</th>\n",
       "      <th>Parked Car</th>\n",
       "      <th>Pedestrian</th>\n",
       "      <th>Rear Ended</th>\n",
       "      <th>Right Turn</th>\n",
       "      <th>Sideswipe</th>\n",
       "    </tr>\n",
       "  </thead>\n",
       "  <tbody>\n",
       "    <tr>\n",
       "      <th>0</th>\n",
       "      <td>2</td>\n",
       "      <td>0</td>\n",
       "      <td>0</td>\n",
       "      <td>1</td>\n",
       "      <td>0</td>\n",
       "      <td>0</td>\n",
       "      <td>0</td>\n",
       "      <td>1</td>\n",
       "      <td>0</td>\n",
       "      <td>0</td>\n",
       "      <td>0</td>\n",
       "      <td>0</td>\n",
       "      <td>0</td>\n",
       "      <td>0</td>\n",
       "      <td>0</td>\n",
       "      <td>0</td>\n",
       "      <td>0</td>\n",
       "    </tr>\n",
       "    <tr>\n",
       "      <th>1</th>\n",
       "      <td>1</td>\n",
       "      <td>1</td>\n",
       "      <td>0</td>\n",
       "      <td>1</td>\n",
       "      <td>0</td>\n",
       "      <td>0</td>\n",
       "      <td>0</td>\n",
       "      <td>0</td>\n",
       "      <td>0</td>\n",
       "      <td>0</td>\n",
       "      <td>0</td>\n",
       "      <td>0</td>\n",
       "      <td>0</td>\n",
       "      <td>0</td>\n",
       "      <td>0</td>\n",
       "      <td>0</td>\n",
       "      <td>1</td>\n",
       "    </tr>\n",
       "    <tr>\n",
       "      <th>2</th>\n",
       "      <td>1</td>\n",
       "      <td>0</td>\n",
       "      <td>1</td>\n",
       "      <td>0</td>\n",
       "      <td>0</td>\n",
       "      <td>0</td>\n",
       "      <td>0</td>\n",
       "      <td>0</td>\n",
       "      <td>0</td>\n",
       "      <td>0</td>\n",
       "      <td>0</td>\n",
       "      <td>0</td>\n",
       "      <td>1</td>\n",
       "      <td>0</td>\n",
       "      <td>0</td>\n",
       "      <td>0</td>\n",
       "      <td>0</td>\n",
       "    </tr>\n",
       "    <tr>\n",
       "      <th>3</th>\n",
       "      <td>1</td>\n",
       "      <td>0</td>\n",
       "      <td>1</td>\n",
       "      <td>0</td>\n",
       "      <td>0</td>\n",
       "      <td>0</td>\n",
       "      <td>0</td>\n",
       "      <td>0</td>\n",
       "      <td>0</td>\n",
       "      <td>0</td>\n",
       "      <td>0</td>\n",
       "      <td>1</td>\n",
       "      <td>0</td>\n",
       "      <td>0</td>\n",
       "      <td>0</td>\n",
       "      <td>0</td>\n",
       "      <td>0</td>\n",
       "    </tr>\n",
       "    <tr>\n",
       "      <th>4</th>\n",
       "      <td>2</td>\n",
       "      <td>1</td>\n",
       "      <td>0</td>\n",
       "      <td>1</td>\n",
       "      <td>0</td>\n",
       "      <td>0</td>\n",
       "      <td>0</td>\n",
       "      <td>1</td>\n",
       "      <td>0</td>\n",
       "      <td>0</td>\n",
       "      <td>0</td>\n",
       "      <td>0</td>\n",
       "      <td>0</td>\n",
       "      <td>0</td>\n",
       "      <td>0</td>\n",
       "      <td>0</td>\n",
       "      <td>0</td>\n",
       "    </tr>\n",
       "  </tbody>\n",
       "</table>\n",
       "</div>"
      ],
      "text/plain": [
       "   SEVERITYCODE  RUSHHOUR  PCOUNT_OVER2  VCOUNT_IS2  INATTENTIONIND  \\\n",
       "0             2         0             0           1               0   \n",
       "1             1         1             0           1               0   \n",
       "2             1         0             1           0               0   \n",
       "3             1         0             1           0               0   \n",
       "4             2         1             0           1               0   \n",
       "\n",
       "   UNDERINFL  SPEEDING  Angles  Cycles  Head On  Left Turn  Other  Parked Car  \\\n",
       "0          0         0       1       0        0          0      0           0   \n",
       "1          0         0       0       0        0          0      0           0   \n",
       "2          0         0       0       0        0          0      0           1   \n",
       "3          0         0       0       0        0          0      1           0   \n",
       "4          0         0       1       0        0          0      0           0   \n",
       "\n",
       "   Pedestrian  Rear Ended  Right Turn  Sideswipe  \n",
       "0           0           0           0          0  \n",
       "1           0           0           0          1  \n",
       "2           0           0           0          0  \n",
       "3           0           0           0          0  \n",
       "4           0           0           0          0  "
      ]
     },
     "execution_count": 25,
     "metadata": {},
     "output_type": "execute_result"
    }
   ],
   "source": [
    "#the last thing we need to do is transform the 'COLLISIONTYPE' column into one-hot-encoding.\n",
    "#Then we can compile the final feature set.\n",
    "\n",
    "features_df = df[['SEVERITYCODE','RUSHHOUR','PCOUNT_OVER2','VCOUNT_IS2','INATTENTIONIND','UNDERINFL','SPEEDING']]\n",
    "features_df = pd.concat([features_df,pd.get_dummies(df['COLLISIONTYPE'])], axis=1)\n",
    "print(features_df.shape)\n",
    "features_df.head()"
   ]
  },
  {
   "cell_type": "code",
   "execution_count": 26,
   "metadata": {},
   "outputs": [],
   "source": [
    "#lets export this cleansed and prepared df to mark the milestone, and in case we want to use it as a shortcut later\n",
    "features_df.to_csv('final_features.csv', index=False)"
   ]
  },
  {
   "cell_type": "markdown",
   "metadata": {},
   "source": [
    "### 4.0 Balancing\n",
    "\n",
    "Since there are more than 2x the number of property collisions (majority class) as there are injury collisions (minority class), the dataset should be balanced to avoid introducing bias to any models.\n",
    "\n",
    "There are a number of ways to do this, including:\n",
    "\n",
    "- up-sampling the monority class\n",
    "- down-sampling the majority class\n",
    "- using other methods (Decision trees) or metrics (Area Under ROC Curve or Penalization Algorithms)\n",
    "\n",
    "For this project, we will use a number of these methods.\n",
    "\n",
    "1. Down-sampling will be used to initially balance the dataset. This should still leave ~99k samples for test/training.\n",
    "2. The model will also be trained using a number of different methods, including a Decision Tree, in order to find the most effective model.\n",
    "3. Area under the curve will also be used as an evaluation metric, in addition to accuracy score, jaccard index, f1 and logloss"
   ]
  },
  {
   "cell_type": "code",
   "execution_count": 27,
   "metadata": {},
   "outputs": [
    {
     "data": {
      "text/plain": [
       "1    110649\n",
       "2     48052\n",
       "Name: SEVERITYCODE, dtype: int64"
      ]
     },
     "execution_count": 27,
     "metadata": {},
     "output_type": "execute_result"
    }
   ],
   "source": [
    "#lets observe how unbalanced the dataset is...\n",
    "features_df['SEVERITYCODE'].value_counts()"
   ]
  },
  {
   "cell_type": "code",
   "execution_count": 28,
   "metadata": {},
   "outputs": [],
   "source": [
    "#need to import a package from sklearn for resampling\n",
    "from sklearn.utils import resample"
   ]
  },
  {
   "cell_type": "code",
   "execution_count": 29,
   "metadata": {},
   "outputs": [
    {
     "name": "stdout",
     "output_type": "stream",
     "text": [
      "Size of majority class:  (110649, 17)\n",
      "Size of minority class:  (48052, 17)\n"
     ]
    }
   ],
   "source": [
    "#create dataframes of the majority and minority classes\n",
    "df_maj = features_df[features_df['SEVERITYCODE']==1]\n",
    "df_min = features_df[features_df['SEVERITYCODE']==2]\n",
    "\n",
    "print('Size of majority class: ', df_maj.shape)\n",
    "print('Size of minority class: ', df_min.shape)"
   ]
  },
  {
   "cell_type": "code",
   "execution_count": 30,
   "metadata": {},
   "outputs": [
    {
     "data": {
      "text/plain": [
       "2    48052\n",
       "1    48052\n",
       "Name: SEVERITYCODE, dtype: int64"
      ]
     },
     "execution_count": 30,
     "metadata": {},
     "output_type": "execute_result"
    }
   ],
   "source": [
    "#downsample the majority class\n",
    "#the number of samples (n_samples) is set to 48052 to match the minority class size\n",
    "df_maj_down = resample(df_maj,replace=False,n_samples=48052,random_state=123)\n",
    "\n",
    "df_bal = pd.concat([df_maj_down,df_min])\n",
    "\n",
    "df_bal['SEVERITYCODE'].value_counts()"
   ]
  },
  {
   "cell_type": "code",
   "execution_count": 31,
   "metadata": {},
   "outputs": [
    {
     "data": {
      "text/html": [
       "<div>\n",
       "<style scoped>\n",
       "    .dataframe tbody tr th:only-of-type {\n",
       "        vertical-align: middle;\n",
       "    }\n",
       "\n",
       "    .dataframe tbody tr th {\n",
       "        vertical-align: top;\n",
       "    }\n",
       "\n",
       "    .dataframe thead th {\n",
       "        text-align: right;\n",
       "    }\n",
       "</style>\n",
       "<table border=\"1\" class=\"dataframe\">\n",
       "  <thead>\n",
       "    <tr style=\"text-align: right;\">\n",
       "      <th></th>\n",
       "      <th>SEVERITYCODE</th>\n",
       "      <th>RUSHHOUR</th>\n",
       "      <th>PCOUNT_OVER2</th>\n",
       "      <th>VCOUNT_IS2</th>\n",
       "      <th>INATTENTIONIND</th>\n",
       "      <th>UNDERINFL</th>\n",
       "      <th>SPEEDING</th>\n",
       "      <th>Angles</th>\n",
       "      <th>Cycles</th>\n",
       "      <th>Head On</th>\n",
       "      <th>Left Turn</th>\n",
       "      <th>Other</th>\n",
       "      <th>Parked Car</th>\n",
       "      <th>Pedestrian</th>\n",
       "      <th>Rear Ended</th>\n",
       "      <th>Right Turn</th>\n",
       "      <th>Sideswipe</th>\n",
       "    </tr>\n",
       "  </thead>\n",
       "  <tbody>\n",
       "    <tr>\n",
       "      <th>0</th>\n",
       "      <td>1</td>\n",
       "      <td>1</td>\n",
       "      <td>0</td>\n",
       "      <td>1</td>\n",
       "      <td>0</td>\n",
       "      <td>0</td>\n",
       "      <td>0</td>\n",
       "      <td>0</td>\n",
       "      <td>0</td>\n",
       "      <td>0</td>\n",
       "      <td>0</td>\n",
       "      <td>0</td>\n",
       "      <td>1</td>\n",
       "      <td>0</td>\n",
       "      <td>0</td>\n",
       "      <td>0</td>\n",
       "      <td>0</td>\n",
       "    </tr>\n",
       "    <tr>\n",
       "      <th>1</th>\n",
       "      <td>1</td>\n",
       "      <td>0</td>\n",
       "      <td>0</td>\n",
       "      <td>1</td>\n",
       "      <td>0</td>\n",
       "      <td>0</td>\n",
       "      <td>0</td>\n",
       "      <td>0</td>\n",
       "      <td>0</td>\n",
       "      <td>0</td>\n",
       "      <td>0</td>\n",
       "      <td>0</td>\n",
       "      <td>1</td>\n",
       "      <td>0</td>\n",
       "      <td>0</td>\n",
       "      <td>0</td>\n",
       "      <td>0</td>\n",
       "    </tr>\n",
       "    <tr>\n",
       "      <th>2</th>\n",
       "      <td>1</td>\n",
       "      <td>1</td>\n",
       "      <td>0</td>\n",
       "      <td>0</td>\n",
       "      <td>0</td>\n",
       "      <td>0</td>\n",
       "      <td>0</td>\n",
       "      <td>0</td>\n",
       "      <td>0</td>\n",
       "      <td>0</td>\n",
       "      <td>0</td>\n",
       "      <td>0</td>\n",
       "      <td>0</td>\n",
       "      <td>1</td>\n",
       "      <td>0</td>\n",
       "      <td>0</td>\n",
       "      <td>0</td>\n",
       "    </tr>\n",
       "    <tr>\n",
       "      <th>3</th>\n",
       "      <td>1</td>\n",
       "      <td>0</td>\n",
       "      <td>0</td>\n",
       "      <td>1</td>\n",
       "      <td>1</td>\n",
       "      <td>0</td>\n",
       "      <td>0</td>\n",
       "      <td>1</td>\n",
       "      <td>0</td>\n",
       "      <td>0</td>\n",
       "      <td>0</td>\n",
       "      <td>0</td>\n",
       "      <td>0</td>\n",
       "      <td>0</td>\n",
       "      <td>0</td>\n",
       "      <td>0</td>\n",
       "      <td>0</td>\n",
       "    </tr>\n",
       "    <tr>\n",
       "      <th>4</th>\n",
       "      <td>1</td>\n",
       "      <td>0</td>\n",
       "      <td>0</td>\n",
       "      <td>1</td>\n",
       "      <td>0</td>\n",
       "      <td>0</td>\n",
       "      <td>0</td>\n",
       "      <td>1</td>\n",
       "      <td>0</td>\n",
       "      <td>0</td>\n",
       "      <td>0</td>\n",
       "      <td>0</td>\n",
       "      <td>0</td>\n",
       "      <td>0</td>\n",
       "      <td>0</td>\n",
       "      <td>0</td>\n",
       "      <td>0</td>\n",
       "    </tr>\n",
       "  </tbody>\n",
       "</table>\n",
       "</div>"
      ],
      "text/plain": [
       "   SEVERITYCODE  RUSHHOUR  PCOUNT_OVER2  VCOUNT_IS2  INATTENTIONIND  \\\n",
       "0             1         1             0           1               0   \n",
       "1             1         0             0           1               0   \n",
       "2             1         1             0           0               0   \n",
       "3             1         0             0           1               1   \n",
       "4             1         0             0           1               0   \n",
       "\n",
       "   UNDERINFL  SPEEDING  Angles  Cycles  Head On  Left Turn  Other  Parked Car  \\\n",
       "0          0         0       0       0        0          0      0           1   \n",
       "1          0         0       0       0        0          0      0           1   \n",
       "2          0         0       0       0        0          0      0           0   \n",
       "3          0         0       1       0        0          0      0           0   \n",
       "4          0         0       1       0        0          0      0           0   \n",
       "\n",
       "   Pedestrian  Rear Ended  Right Turn  Sideswipe  \n",
       "0           0           0           0          0  \n",
       "1           0           0           0          0  \n",
       "2           1           0           0          0  \n",
       "3           0           0           0          0  \n",
       "4           0           0           0          0  "
      ]
     },
     "execution_count": 31,
     "metadata": {},
     "output_type": "execute_result"
    }
   ],
   "source": [
    "df_bal.reset_index(drop=True,inplace=True)\n",
    "df_bal.head()"
   ]
  },
  {
   "cell_type": "code",
   "execution_count": 32,
   "metadata": {},
   "outputs": [
    {
     "data": {
      "text/html": [
       "<div>\n",
       "<style scoped>\n",
       "    .dataframe tbody tr th:only-of-type {\n",
       "        vertical-align: middle;\n",
       "    }\n",
       "\n",
       "    .dataframe tbody tr th {\n",
       "        vertical-align: top;\n",
       "    }\n",
       "\n",
       "    .dataframe thead th {\n",
       "        text-align: right;\n",
       "    }\n",
       "</style>\n",
       "<table border=\"1\" class=\"dataframe\">\n",
       "  <thead>\n",
       "    <tr style=\"text-align: right;\">\n",
       "      <th></th>\n",
       "      <th>RUSHHOUR</th>\n",
       "      <th>PCOUNT_OVER2</th>\n",
       "      <th>VCOUNT_IS2</th>\n",
       "      <th>INATTENTIONIND</th>\n",
       "      <th>UNDERINFL</th>\n",
       "      <th>SPEEDING</th>\n",
       "      <th>Angles</th>\n",
       "      <th>Cycles</th>\n",
       "      <th>Head On</th>\n",
       "      <th>Left Turn</th>\n",
       "      <th>Other</th>\n",
       "      <th>Parked Car</th>\n",
       "      <th>Pedestrian</th>\n",
       "      <th>Rear Ended</th>\n",
       "      <th>Right Turn</th>\n",
       "      <th>Sideswipe</th>\n",
       "    </tr>\n",
       "  </thead>\n",
       "  <tbody>\n",
       "    <tr>\n",
       "      <th>0</th>\n",
       "      <td>1</td>\n",
       "      <td>0</td>\n",
       "      <td>1</td>\n",
       "      <td>0</td>\n",
       "      <td>0</td>\n",
       "      <td>0</td>\n",
       "      <td>0</td>\n",
       "      <td>0</td>\n",
       "      <td>0</td>\n",
       "      <td>0</td>\n",
       "      <td>0</td>\n",
       "      <td>1</td>\n",
       "      <td>0</td>\n",
       "      <td>0</td>\n",
       "      <td>0</td>\n",
       "      <td>0</td>\n",
       "    </tr>\n",
       "    <tr>\n",
       "      <th>1</th>\n",
       "      <td>0</td>\n",
       "      <td>0</td>\n",
       "      <td>1</td>\n",
       "      <td>0</td>\n",
       "      <td>0</td>\n",
       "      <td>0</td>\n",
       "      <td>0</td>\n",
       "      <td>0</td>\n",
       "      <td>0</td>\n",
       "      <td>0</td>\n",
       "      <td>0</td>\n",
       "      <td>1</td>\n",
       "      <td>0</td>\n",
       "      <td>0</td>\n",
       "      <td>0</td>\n",
       "      <td>0</td>\n",
       "    </tr>\n",
       "    <tr>\n",
       "      <th>2</th>\n",
       "      <td>1</td>\n",
       "      <td>0</td>\n",
       "      <td>0</td>\n",
       "      <td>0</td>\n",
       "      <td>0</td>\n",
       "      <td>0</td>\n",
       "      <td>0</td>\n",
       "      <td>0</td>\n",
       "      <td>0</td>\n",
       "      <td>0</td>\n",
       "      <td>0</td>\n",
       "      <td>0</td>\n",
       "      <td>1</td>\n",
       "      <td>0</td>\n",
       "      <td>0</td>\n",
       "      <td>0</td>\n",
       "    </tr>\n",
       "    <tr>\n",
       "      <th>3</th>\n",
       "      <td>0</td>\n",
       "      <td>0</td>\n",
       "      <td>1</td>\n",
       "      <td>1</td>\n",
       "      <td>0</td>\n",
       "      <td>0</td>\n",
       "      <td>1</td>\n",
       "      <td>0</td>\n",
       "      <td>0</td>\n",
       "      <td>0</td>\n",
       "      <td>0</td>\n",
       "      <td>0</td>\n",
       "      <td>0</td>\n",
       "      <td>0</td>\n",
       "      <td>0</td>\n",
       "      <td>0</td>\n",
       "    </tr>\n",
       "    <tr>\n",
       "      <th>4</th>\n",
       "      <td>0</td>\n",
       "      <td>0</td>\n",
       "      <td>1</td>\n",
       "      <td>0</td>\n",
       "      <td>0</td>\n",
       "      <td>0</td>\n",
       "      <td>1</td>\n",
       "      <td>0</td>\n",
       "      <td>0</td>\n",
       "      <td>0</td>\n",
       "      <td>0</td>\n",
       "      <td>0</td>\n",
       "      <td>0</td>\n",
       "      <td>0</td>\n",
       "      <td>0</td>\n",
       "      <td>0</td>\n",
       "    </tr>\n",
       "  </tbody>\n",
       "</table>\n",
       "</div>"
      ],
      "text/plain": [
       "   RUSHHOUR  PCOUNT_OVER2  VCOUNT_IS2  INATTENTIONIND  UNDERINFL  SPEEDING  \\\n",
       "0         1             0           1               0          0         0   \n",
       "1         0             0           1               0          0         0   \n",
       "2         1             0           0               0          0         0   \n",
       "3         0             0           1               1          0         0   \n",
       "4         0             0           1               0          0         0   \n",
       "\n",
       "   Angles  Cycles  Head On  Left Turn  Other  Parked Car  Pedestrian  \\\n",
       "0       0       0        0          0      0           1           0   \n",
       "1       0       0        0          0      0           1           0   \n",
       "2       0       0        0          0      0           0           1   \n",
       "3       1       0        0          0      0           0           0   \n",
       "4       1       0        0          0      0           0           0   \n",
       "\n",
       "   Rear Ended  Right Turn  Sideswipe  \n",
       "0           0           0          0  \n",
       "1           0           0          0  \n",
       "2           0           0          0  \n",
       "3           0           0          0  \n",
       "4           0           0          0  "
      ]
     },
     "execution_count": 32,
     "metadata": {},
     "output_type": "execute_result"
    }
   ],
   "source": [
    "#now that the dataset is balanced, lets create our input feature and target variables..\n",
    "\n",
    "#input features, X\n",
    "X = df_bal.drop('SEVERITYCODE',axis=1)\n",
    "X[0:5]"
   ]
  },
  {
   "cell_type": "code",
   "execution_count": 33,
   "metadata": {},
   "outputs": [
    {
     "data": {
      "text/plain": [
       "0    1\n",
       "1    1\n",
       "2    1\n",
       "3    1\n",
       "4    1\n",
       "Name: SEVERITYCODE, dtype: int64"
      ]
     },
     "execution_count": 33,
     "metadata": {},
     "output_type": "execute_result"
    }
   ],
   "source": [
    "y = df_bal['SEVERITYCODE']\n",
    "y[0:5]"
   ]
  },
  {
   "cell_type": "markdown",
   "metadata": {},
   "source": [
    "### 5.0 Modeling\n",
    "\n",
    "Now that the data is cleansed, processed and balanced, some Machine Learning models can be trained. Since this project is dealing with classification, several different methods will be used, including:\n",
    "\n",
    "- K Nearest Neighbor\n",
    "- Decision Tree\n",
    "- Support Vector Machines\n",
    "- Logistic Regression\n",
    "\n",
    "First the data will be separated into train and test subsets. Some specific parameter tuning will be completed for each of the model types. Then the models will be evaluated using:\n",
    "\n",
    "- Simple accuracy score\n",
    "- Jaccard index\n",
    "- F1-score\n",
    "- Log-loss\n",
    "- Area Under the ROC Curve\n",
    "\n",
    "**Note:** since processed feature set is all one-hot encoding (0s and 1s) the input variables do not need to be normalized"
   ]
  },
  {
   "cell_type": "code",
   "execution_count": 34,
   "metadata": {},
   "outputs": [],
   "source": [
    "#import the test-train method from sklearn and split the data.. this is necessary for all of the models\n",
    "from sklearn.model_selection import train_test_split\n",
    "from sklearn import metrics\n",
    "import itertools"
   ]
  },
  {
   "cell_type": "code",
   "execution_count": 35,
   "metadata": {},
   "outputs": [
    {
     "name": "stdout",
     "output_type": "stream",
     "text": [
      "Train set: (72078, 16) (72078,)\n",
      "Test set: (24026, 16) (24026,)\n"
     ]
    }
   ],
   "source": [
    "#using the test_train method, create test and train subsets of X and y\n",
    "X_train, X_test, y_train, y_test = train_test_split(X, y, test_size=0.25, random_state=4)\n",
    "print ('Train set:', X_train.shape,  y_train.shape)\n",
    "print ('Test set:', X_test.shape,  y_test.shape)"
   ]
  },
  {
   "cell_type": "markdown",
   "metadata": {},
   "source": [
    "#### 5.1 K-Nearest Neighbors Method\n",
    "\n",
    "First we will build a KNN model. This will require finding the best K value."
   ]
  },
  {
   "cell_type": "code",
   "execution_count": 36,
   "metadata": {},
   "outputs": [],
   "source": [
    "#import the KNN method from sklearn\n",
    "from sklearn.neighbors import KNeighborsClassifier"
   ]
  },
  {
   "cell_type": "code",
   "execution_count": 37,
   "metadata": {},
   "outputs": [],
   "source": [
    "#THE FOLLOWING CODEBLOCK IS COMMENTED OUT BECAUSE IT TAKES A LOOOOONG TIME TO PROCESS...ITERATING THROUGH 20 K-VALUES OF\n",
    "#LARGER AND LARGER SIZE..\n",
    "\n",
    "#build a loop to step through different values of k and plot the accuracy\n",
    "\n",
    "#set max iterations\n",
    "#Ks = 21\n",
    "#mean_acc = np.zeros((Ks-1)) #create an empty array with 20 spots, which will hold accuracy results from each iteration\n",
    "#x_lbl = np.zeros((Ks-1)) #create an empty array of 20 spots to hold the k-values from each iteration\n",
    "\n",
    "#for n in range(1,Ks): #iterate from n = 1 to 21 (21 is excluded)\n",
    "#    k = n*15 #ks will be 15, 30, 45, ... 255, 270, 285, 300... this will give an idea of how the model performs for many ks\n",
    "#    x_lbl[n-1] = k\n",
    "#    KNN = KNeighborsClassifier(n_neighbors = k).fit(X_train,y_train)\n",
    "#    yhat = KNN.predict(X_test)\n",
    "#    mean_acc[n-1] = metrics.accuracy_score(y_test, yhat)\n",
    "\n",
    "#print(mean_acc)\n",
    "\n",
    "#plt.plot(x_lbl,mean_acc,'g')\n",
    "#plt.title('Model Accuracy vs No. of Neighbors (K)')\n",
    "#plt.ylabel('Accuracy')\n",
    "#plt.xlabel('Number of Neighbors (K)')\n",
    "#plt.tight_layout()\n",
    "#plt.show"
   ]
  },
  {
   "cell_type": "markdown",
   "metadata": {},
   "source": [
    "__Observation:__ online reading suggests that the optimal k is often near the square-root of the total number of samples. In this case, the train set has 72078 samples for which the square-root is 268. We can see from the figure above that the accuracy hovers near 70.1% for k between 30 and 175, then jumps up to 70.4 and hits a maximum of .70423 at K = 255. Let's focus in on the range around 255 and iterate through some values of k again.."
   ]
  },
  {
   "cell_type": "code",
   "execution_count": 38,
   "metadata": {},
   "outputs": [],
   "source": [
    "#THIS CODEBLOCK IS ALSO COMMENTED OUT BECAUSE OF HOW LONG IT TAKES TO PROCESS...ANOTHER 20 ITERATIONS FOR K-VALUES\n",
    "#BETWEEN 251 AND 270.. RUNNING IT WILL SHOW HIGHEST ACCURACY AT 251\n",
    "\n",
    "#build a loop to step through different values of k and plot the accuracy\n",
    "\n",
    "#set max iterations\n",
    "#Ks = 21\n",
    "#mean_acc = np.zeros((Ks-1))\n",
    "#x_lbl = np.zeros((Ks-1))\n",
    "\n",
    "#for n in range(1,Ks):\n",
    "#    k = n+250 #here we want to focus on ks between 250 and 270, so we will add 250 to each n value between 1 and 20\n",
    "#    x_lbl[n-1] = k\n",
    "#    KNN = KNeighborsClassifier(n_neighbors = k).fit(X_train,y_train)\n",
    "#    yhat = KNN.predict(X_test)\n",
    "#    mean_acc[n-1] = metrics.accuracy_score(y_test, yhat)\n",
    "\n",
    "#print(mean_acc)\n",
    "\n",
    "#plt.plot(x_lbl,mean_acc,'g')\n",
    "#plt.title('Model Accuracy vs No. of Neighbors (K)')\n",
    "#plt.ylabel('Accuracy')\n",
    "#plt.xlabel('Number of Neighbors (K)')\n",
    "#plt.tight_layout()\n",
    "#plt.show"
   ]
  },
  {
   "cell_type": "markdown",
   "metadata": {},
   "source": [
    "__Observation:__ accuracy is highest at k=251 (.7044) before dropping off to around .701 for remaining k values between 250 and 270. There are two k values where the accuracy spikes back up to .704, at 255 and 265.\n",
    "\n",
    "For all these tests that were run, the accuracy gain for higher values of k was pretty marginal. The accuracy reached .70 for a k-value of 30, and after that is bounces and hovers between .701 and .704. It is difficult to identify the specific optimum k-value because of how time consuming the iterations are, and even then, the differences are not significant. The accuracy results are pretty choppy as well.. for large stepped ranges of k there is some observed trend in performance (accuracy), but for local ranges the accuracy spikes.\n",
    "\n",
    "Additionally, it is questionable how applicable a KNN approach is. Depending on how clustered samples from the different classification groups are, expanding the number of neighbors further and further may only result in some choppiness and marginal changes in accurary.\n",
    "\n",
    "For the sake of evaluating a KNN model vs alternative approaches, lets select an optimum k-value of 250 and re-train a model."
   ]
  },
  {
   "cell_type": "code",
   "execution_count": 40,
   "metadata": {},
   "outputs": [
    {
     "name": "stdout",
     "output_type": "stream",
     "text": [
      "Accuracy for KNN with k=250:  0.7046116706900858\n"
     ]
    }
   ],
   "source": [
    "#train a KNN model for k=250\n",
    "KNN_opt = KNeighborsClassifier(n_neighbors=250).fit(X_train,y_train)\n",
    "knn_pred = KNN_opt.predict(X_test)\n",
    "print('Accuracy for KNN with k=250: ' ,metrics.accuracy_score(y_test,knn_pred))"
   ]
  },
  {
   "cell_type": "code",
   "execution_count": 41,
   "metadata": {},
   "outputs": [
    {
     "name": "stdout",
     "output_type": "stream",
     "text": [
      "Train set accuracy:  0.7064707677793501\n",
      "Test set accuracy:  0.7046116706900858\n"
     ]
    }
   ],
   "source": [
    "#lets compare simple accuracy of the model for both train and test subsets to determine overfitting\n",
    "print('Train set accuracy: ',metrics.accuracy_score(y_train,KNN_opt.predict(X_train)))\n",
    "print('Test set accuracy: ',metrics.accuracy_score(y_test, knn_pred))"
   ]
  },
  {
   "cell_type": "code",
   "execution_count": 42,
   "metadata": {},
   "outputs": [],
   "source": [
    "#lets import a few other metric types from sklearn for further evaluation\n",
    "from sklearn.metrics import classification_report, confusion_matrix\n",
    "#list of prediction classes required for confusion matrix\n",
    "targetNames = df_bal['SEVERITYCODE'].unique().tolist()"
   ]
  },
  {
   "cell_type": "code",
   "execution_count": 43,
   "metadata": {},
   "outputs": [
    {
     "name": "stdout",
     "output_type": "stream",
     "text": [
      "[[7324 4697]\n",
      " [2400 9605]]\n",
      "              precision    recall  f1-score   support\n",
      "\n",
      "           1       0.75      0.61      0.67     12021\n",
      "           2       0.67      0.80      0.73     12005\n",
      "\n",
      "    accuracy                           0.70     24026\n",
      "   macro avg       0.71      0.70      0.70     24026\n",
      "weighted avg       0.71      0.70      0.70     24026\n",
      "\n"
     ]
    }
   ],
   "source": [
    "#display confision matrix and classification report for KNN model with k=250\n",
    "print(confusion_matrix(y_test,knn_pred,labels=targetNames))\n",
    "print(classification_report(y_test,knn_pred))"
   ]
  },
  {
   "cell_type": "markdown",
   "metadata": {},
   "source": [
    "__Observation:__ the accuracy for both the train and test sets is similar, suggesting that the model is not overfit. The model is also able to correctly predict samples in both classes, rather than only predicted outcomes to one class"
   ]
  },
  {
   "cell_type": "markdown",
   "metadata": {},
   "source": [
    "#### 5.2 Decision Tree Method\n",
    "\n",
    "Next we will look at building a Decision Tree using a Random Forest approach."
   ]
  },
  {
   "cell_type": "code",
   "execution_count": 44,
   "metadata": {},
   "outputs": [],
   "source": [
    "#import the Random Forest method from sklearn\n",
    "from sklearn.ensemble import RandomForestClassifier"
   ]
  },
  {
   "cell_type": "code",
   "execution_count": 45,
   "metadata": {},
   "outputs": [
    {
     "name": "stdout",
     "output_type": "stream",
     "text": [
      "Accuracy for Decision Tree:  0.7050695080329643\n"
     ]
    }
   ],
   "source": [
    "#train the model on the train subsets\n",
    "RFDT = RandomForestClassifier().fit(X_train,y_train)\n",
    "DT_pred = RFDT.predict(X_test)\n",
    "print('Accuracy for Decision Tree: ',metrics.accuracy_score(y_test,DT_pred))"
   ]
  },
  {
   "cell_type": "code",
   "execution_count": 46,
   "metadata": {},
   "outputs": [
    {
     "name": "stdout",
     "output_type": "stream",
     "text": [
      "Train set accuracy for DT model:  0.7088015760703682\n",
      "Test set accuracy for DT model:  0.7050695080329643\n"
     ]
    }
   ],
   "source": [
    "#what is accuracy of the train vs test sets?\n",
    "print('Train set accuracy for DT model: ',metrics.accuracy_score(y_train,RFDT.predict(X_train)))\n",
    "print('Test set accuracy for DT model: ',metrics.accuracy_score(y_test, DT_pred))"
   ]
  },
  {
   "cell_type": "code",
   "execution_count": 47,
   "metadata": {},
   "outputs": [
    {
     "name": "stdout",
     "output_type": "stream",
     "text": [
      "[[7186 4835]\n",
      " [2251 9754]]\n",
      "              precision    recall  f1-score   support\n",
      "\n",
      "           1       0.76      0.60      0.67     12021\n",
      "           2       0.67      0.81      0.73     12005\n",
      "\n",
      "    accuracy                           0.71     24026\n",
      "   macro avg       0.72      0.71      0.70     24026\n",
      "weighted avg       0.72      0.71      0.70     24026\n",
      "\n"
     ]
    }
   ],
   "source": [
    "#display the confusion matrix and classification report\n",
    "print(confusion_matrix(y_test,DT_pred,labels=targetNames))\n",
    "print(classification_report(y_test,DT_pred))"
   ]
  },
  {
   "cell_type": "markdown",
   "metadata": {},
   "source": [
    "__Observation:__ the accuracy of the Decision Tree model is very similar to that of the KNN model. The Decision Tree predicted more injury collisions, which resulted in higher recall but lower precision, and a corresponding (opposite) shift for property collision classifications.\n",
    "\n",
    "While the F1-score and precision average precision are slightly higher, this comes at the expense of more collisions being incorrectly predicted to the injury classification, which may not be desirable depending on the intended use/value of the model."
   ]
  },
  {
   "cell_type": "markdown",
   "metadata": {},
   "source": [
    "#### 5.3 Support Vector Machines (SVM)\n",
    "\n",
    "For this method, 'linear', 'rbf', 'polynomial' and 'sigmoid' kernels will be tested."
   ]
  },
  {
   "cell_type": "code",
   "execution_count": 81,
   "metadata": {},
   "outputs": [],
   "source": [
    "#import the svm tool from sklearn\n",
    "from sklearn import svm"
   ]
  },
  {
   "cell_type": "code",
   "execution_count": 82,
   "metadata": {},
   "outputs": [
    {
     "name": "stdout",
     "output_type": "stream",
     "text": [
      "Test Accuracy for SVM with Linear kernel:  0.702572213435445\n"
     ]
    }
   ],
   "source": [
    "#svm model with linear function\n",
    "svm_lin = svm.SVC(kernel='linear').fit(X_train,y_train)\n",
    "svm_pred1 = svm_lin.predict(X_test)\n",
    "print('Test Accuracy for SVM with Linear kernel: ', metrics.accuracy_score(y_test,svm_pred1))"
   ]
  },
  {
   "cell_type": "code",
   "execution_count": 83,
   "metadata": {},
   "outputs": [
    {
     "name": "stdout",
     "output_type": "stream",
     "text": [
      "[[7343 4678]\n",
      " [2468 9537]]\n",
      "              precision    recall  f1-score   support\n",
      "\n",
      "           1       0.75      0.61      0.67     12021\n",
      "           2       0.67      0.79      0.73     12005\n",
      "\n",
      "    accuracy                           0.70     24026\n",
      "   macro avg       0.71      0.70      0.70     24026\n",
      "weighted avg       0.71      0.70      0.70     24026\n",
      "\n"
     ]
    }
   ],
   "source": [
    "#confusion matrix & classification report\n",
    "print(confusion_matrix(y_test,svm_pred1,labels=targetNames))\n",
    "print(classification_report(y_test,svm_pred1))"
   ]
  },
  {
   "cell_type": "code",
   "execution_count": 84,
   "metadata": {},
   "outputs": [
    {
     "name": "stdout",
     "output_type": "stream",
     "text": [
      "Test Accuracy for SVM with RBF kernel:  0.7053192374927162\n",
      "[[7193 4828]\n",
      " [2252 9753]]\n",
      "              precision    recall  f1-score   support\n",
      "\n",
      "           1       0.76      0.60      0.67     12021\n",
      "           2       0.67      0.81      0.73     12005\n",
      "\n",
      "    accuracy                           0.71     24026\n",
      "   macro avg       0.72      0.71      0.70     24026\n",
      "weighted avg       0.72      0.71      0.70     24026\n",
      "\n"
     ]
    }
   ],
   "source": [
    "#svm model with rbf kernel function\n",
    "svm_rbf = svm.SVC(kernel='rbf').fit(X_train,y_train)\n",
    "svm_pred2 = svm_rbf.predict(X_test)\n",
    "print('Test Accuracy for SVM with RBF kernel: ', metrics.accuracy_score(y_test,svm_pred2))\n",
    "#confusion matrix and classification report\n",
    "print(confusion_matrix(y_test,svm_pred2,labels=targetNames))\n",
    "print(classification_report(y_test,svm_pred2))"
   ]
  },
  {
   "cell_type": "code",
   "execution_count": 85,
   "metadata": {},
   "outputs": [
    {
     "name": "stdout",
     "output_type": "stream",
     "text": [
      "Test Accuracy for SVM with Polynomial kernel:  0.7054024806459669\n",
      "[[7039 4982]\n",
      " [2096 9909]]\n",
      "              precision    recall  f1-score   support\n",
      "\n",
      "           1       0.77      0.59      0.67     12021\n",
      "           2       0.67      0.83      0.74     12005\n",
      "\n",
      "    accuracy                           0.71     24026\n",
      "   macro avg       0.72      0.71      0.70     24026\n",
      "weighted avg       0.72      0.71      0.70     24026\n",
      "\n"
     ]
    }
   ],
   "source": [
    "#svm model with polynomial kernel function\n",
    "svm_poly = svm.SVC(kernel='poly').fit(X_train,y_train)\n",
    "svm_pred3 = svm_poly.predict(X_test)\n",
    "print('Test Accuracy for SVM with Polynomial kernel: ', metrics.accuracy_score(y_test,svm_pred3))\n",
    "#confusion matrix and classification report\n",
    "print(confusion_matrix(y_test,svm_pred3,labels=targetNames))\n",
    "print(classification_report(y_test,svm_pred3))"
   ]
  },
  {
   "cell_type": "code",
   "execution_count": 86,
   "metadata": {},
   "outputs": [
    {
     "name": "stdout",
     "output_type": "stream",
     "text": [
      "Test Accuracy for SVM with Sigmoid kernel:  0.629942562224257\n",
      "[[7454 4567]\n",
      " [4324 7681]]\n",
      "              precision    recall  f1-score   support\n",
      "\n",
      "           1       0.63      0.62      0.63     12021\n",
      "           2       0.63      0.64      0.63     12005\n",
      "\n",
      "    accuracy                           0.63     24026\n",
      "   macro avg       0.63      0.63      0.63     24026\n",
      "weighted avg       0.63      0.63      0.63     24026\n",
      "\n"
     ]
    }
   ],
   "source": [
    "#svm model with sigmoid kernel function\n",
    "svm_sig = svm.SVC(kernel='sigmoid').fit(X_train,y_train)\n",
    "svm_pred4 = svm_sig.predict(X_test)\n",
    "print('Test Accuracy for SVM with Sigmoid kernel: ', metrics.accuracy_score(y_test,svm_pred4))\n",
    "#confusion matrix and classification report\n",
    "print(confusion_matrix(y_test,svm_pred4,labels=targetNames))\n",
    "print(classification_report(y_test,svm_pred4))"
   ]
  },
  {
   "cell_type": "markdown",
   "metadata": {},
   "source": [
    "__Observation:__ the models built with linear, rbf and polynomial kernels all had similar accuracies around 0.70; however, the rbf and polynomial versions predicted more collisions to the injury classification, especially the polynomial kernel, which predicted 14,891. The sigmoid kernel model was more balanced in predicted both classes (11778 to 12248), but this came at the expense of accuracy, which was only 0.6299.\n",
    "\n",
    "An SVM with a linear kernel function seems best. It has marginally lower accuracy compared to the rbf/polynomial models (.702 vs .705), but it has the best balance between class predictions. This is important if the model should avoid overpredicting injury collisions, which might result in higher costs if the model is used to determine when to dispatch emergency response services."
   ]
  },
  {
   "cell_type": "code",
   "execution_count": 88,
   "metadata": {},
   "outputs": [
    {
     "name": "stdout",
     "output_type": "stream",
     "text": [
      "Train set accuracy for SVM Linear:  0.7019617636449402\n",
      "Test set accuracy for SVM Linear:  0.702572213435445\n"
     ]
    }
   ],
   "source": [
    "#re-train the linear SVM model, this time enabling probability prediction, which will be used later for AUROC/logloss eval\n",
    "\n",
    "SVM_opt = svm.SVC(kernel='linear', probability=True).fit(X_train,y_train)\n",
    "svm_pred = SVM_opt.predict(X_test)\n",
    "print('Train set accuracy for SVM Linear: ',metrics.accuracy_score(y_train,SVM_opt.predict(X_train)))\n",
    "print('Test set accuracy for SVM Linear: ',metrics.accuracy_score(y_test, svm_pred))"
   ]
  },
  {
   "cell_type": "markdown",
   "metadata": {},
   "source": [
    "#### 5.4 Logistic Regression\n",
    "\n",
    "For this algorithm we will look at modeling with liblinear, newton-cg and sag solvers. Some tuning may be required for the C parameter which controls regularization"
   ]
  },
  {
   "cell_type": "code",
   "execution_count": 94,
   "metadata": {},
   "outputs": [],
   "source": [
    "#import the Logistic Regression method from sklearn and some additional evaluation metrics that will be used now and later\n",
    "\n",
    "from sklearn.linear_model import LogisticRegression\n",
    "\n",
    "from sklearn.metrics import f1_score\n",
    "from sklearn.metrics import log_loss\n",
    "from sklearn.metrics import jaccard_score"
   ]
  },
  {
   "cell_type": "code",
   "execution_count": 103,
   "metadata": {},
   "outputs": [
    {
     "name": "stdout",
     "output_type": "stream",
     "text": [
      "Jaccard similarity for liblinear Logistic Regression:  0.5006362222536406\n",
      "Logloss for liblinear Logistic Regression:  0.5418472564106162\n",
      "Test Accuracy for liblinear:  0.7059851827187213\n",
      "[[7082 4939]\n",
      " [2125 9880]]\n",
      "              precision    recall  f1-score   support\n",
      "\n",
      "           1       0.77      0.59      0.67     12021\n",
      "           2       0.67      0.82      0.74     12005\n",
      "\n",
      "    accuracy                           0.71     24026\n",
      "   macro avg       0.72      0.71      0.70     24026\n",
      "weighted avg       0.72      0.71      0.70     24026\n",
      "\n"
     ]
    }
   ],
   "source": [
    "#train an LR model using the liblinear solver\n",
    "LR_lib = LogisticRegression(C=0.01, solver='liblinear').fit(X_train,y_train)\n",
    "lib_pred = LR_lib.predict(X_test)\n",
    "lib_prob = LR_lib.predict_proba(X_test)\n",
    "print('Jaccard similarity for liblinear Logistic Regression: ', jaccard_score(y_test, lib_pred))\n",
    "print('Logloss for liblinear Logistic Regression: ', log_loss(y_test, lib_prob))\n",
    "print('Test Accuracy for liblinear: ',metrics.accuracy_score(y_test,lib_pred))\n",
    "print(confusion_matrix(y_test,lib_pred,labels=targetNames))\n",
    "print(classification_report(y_test,lib_pred))"
   ]
  },
  {
   "cell_type": "code",
   "execution_count": 104,
   "metadata": {},
   "outputs": [
    {
     "name": "stdout",
     "output_type": "stream",
     "text": [
      "Jaccard similarity for Newton-cg Logistic Regression:  0.4956174730991235\n",
      "Logloss for Newtong-cg Logistic Regression:  0.5418568717913133\n",
      "Test Accuracy for Newton-cg:  0.7054024806459669\n",
      "[[6955 5066]\n",
      " [2012 9993]]\n",
      "              precision    recall  f1-score   support\n",
      "\n",
      "           1       0.78      0.58      0.66     12021\n",
      "           2       0.66      0.83      0.74     12005\n",
      "\n",
      "    accuracy                           0.71     24026\n",
      "   macro avg       0.72      0.71      0.70     24026\n",
      "weighted avg       0.72      0.71      0.70     24026\n",
      "\n"
     ]
    }
   ],
   "source": [
    "#train an LR model using the newton-cg solver\n",
    "LR_newt = LogisticRegression(C=0.01, solver='newton-cg').fit(X_train,y_train)\n",
    "newt_pred = LR_newt.predict(X_test)\n",
    "newt_prob = LR_newt.predict_proba(X_test)\n",
    "print('Jaccard similarity for Newton-cg Logistic Regression: ', jaccard_score(y_test, newt_pred))\n",
    "print('Logloss for Newtong-cg Logistic Regression: ', log_loss(y_test, newt_prob))\n",
    "print('Test Accuracy for Newton-cg: ',metrics.accuracy_score(y_test,newt_pred))\n",
    "print(confusion_matrix(y_test,newt_pred,labels=targetNames))\n",
    "print(classification_report(y_test,newt_pred))"
   ]
  },
  {
   "cell_type": "code",
   "execution_count": 105,
   "metadata": {},
   "outputs": [
    {
     "name": "stdout",
     "output_type": "stream",
     "text": [
      "Jaccard similarity for sag Logistic Regression:  0.4956174730991235\n",
      "Logloss for sag Logistic Regression:  0.5418567892668947\n",
      "Test Accuracy for sag:  0.7054024806459669\n",
      "[[6955 5066]\n",
      " [2012 9993]]\n",
      "              precision    recall  f1-score   support\n",
      "\n",
      "           1       0.78      0.58      0.66     12021\n",
      "           2       0.66      0.83      0.74     12005\n",
      "\n",
      "    accuracy                           0.71     24026\n",
      "   macro avg       0.72      0.71      0.70     24026\n",
      "weighted avg       0.72      0.71      0.70     24026\n",
      "\n"
     ]
    }
   ],
   "source": [
    "#train an LR model using the sag solver\n",
    "LR_sag = LogisticRegression(C=0.01, solver='sag').fit(X_train,y_train)\n",
    "sag_pred = LR_sag.predict(X_test)\n",
    "sag_prob = LR_sag.predict_proba(X_test)\n",
    "print('Jaccard similarity for sag Logistic Regression: ', jaccard_score(y_test, sag_pred))\n",
    "print('Logloss for sag Logistic Regression: ', log_loss(y_test, sag_prob))\n",
    "print('Test Accuracy for sag: ',metrics.accuracy_score(y_test,sag_pred))\n",
    "print(confusion_matrix(y_test,sag_pred,labels=targetNames))\n",
    "print(classification_report(y_test,sag_pred))"
   ]
  },
  {
   "cell_type": "markdown",
   "metadata": {},
   "source": [
    "__Observation:__ the liblinear solver achieves slightly better Jaccard, Log-loss and simple accuracy scores. Additionally, we see from looking at the confusion matrix that the liblinear model is slightly more balanced in predicting samples between the two classes. Lets look at whether we have the most optimum C value."
   ]
  },
  {
   "cell_type": "code",
   "execution_count": 106,
   "metadata": {},
   "outputs": [
    {
     "data": {
      "image/png": "[encoded data removed]",
      "text/plain": [
       "<Figure size 432x288 with 1 Axes>"
      ]
     },
     "metadata": {
      "needs_background": "light"
     },
     "output_type": "display_data"
    },
    {
     "name": "stdout",
     "output_type": "stream",
     "text": [
      "The best result is 0.540133469037271 where C= 0.14\n"
     ]
    }
   ],
   "source": [
    "#set up a for loop to iterate through multiple values for the C parameter\n",
    "c_par = np.linspace(0.01,0.5,50) #set the C values that will be looped, 50 increments between C=0.01 and C=0.5\n",
    "\n",
    "mean_log = np.zeros((len(c_par)))\n",
    "\n",
    "for n in range(0,len(c_par)):\n",
    "    LR_itr = LogisticRegression(C=c_par[n],solver='liblinear').fit(X_train,y_train)\n",
    "    itr_prob = LR_itr.predict_proba(X_test)\n",
    "    mean_log[n] = log_loss(y_test,itr_prob)\n",
    "    \n",
    "plt.plot(c_par,mean_log,'g')\n",
    "plt.title('Log-loss vs C parameter for Liblinear Logistic Regression')\n",
    "plt.ylabel('Log-loss')\n",
    "plt.xlabel('C value')\n",
    "plt.tight_layout()\n",
    "plt.show()\n",
    "\n",
    "print('The best result is', mean_log.min(), 'where C=', c_par[mean_log.argmin()])"
   ]
  },
  {
   "cell_type": "code",
   "execution_count": 109,
   "metadata": {},
   "outputs": [
    {
     "name": "stdout",
     "output_type": "stream",
     "text": [
      "Jaccard similarity for Logistic Regression with C=0.14:  0.49992937853107344\n",
      "Logloss for Logistic Regression with C=0.14:  0.540133469037271\n",
      "Test Accuracy for LR with C=0.14:  0.705277615916091\n",
      "[[7079 4942]\n",
      " [2139 9866]]\n",
      "              precision    recall  f1-score   support\n",
      "\n",
      "           1       0.77      0.59      0.67     12021\n",
      "           2       0.67      0.82      0.74     12005\n",
      "\n",
      "    accuracy                           0.71     24026\n",
      "   macro avg       0.72      0.71      0.70     24026\n",
      "weighted avg       0.72      0.71      0.70     24026\n",
      "\n"
     ]
    }
   ],
   "source": [
    "#when C=0.14, the log-loss improves slightly from 0.54184 to 0.54013.. what do the other metrics look like with C=0.14\n",
    "\n",
    "#train the model for C=0.14 and liblinear solver\n",
    "LR_check = LogisticRegression(C=0.14, solver='liblinear').fit(X_train,y_train)\n",
    "pred_check = LR_check.predict(X_test)\n",
    "prob_check = LR_check.predict_proba(X_test)\n",
    "\n",
    "#evaluation metrics\n",
    "print('Jaccard similarity for Logistic Regression with C=0.14: ', jaccard_score(y_test, pred_check))\n",
    "print('Logloss for Logistic Regression with C=0.14: ', log_loss(y_test, prob_check))\n",
    "print('Test Accuracy for LR with C=0.14: ',metrics.accuracy_score(y_test,pred_check))\n",
    "print(confusion_matrix(y_test,pred_check,labels=targetNames))\n",
    "print(classification_report(y_test,pred_check))"
   ]
  },
  {
   "cell_type": "code",
   "execution_count": 110,
   "metadata": {},
   "outputs": [
    {
     "name": "stdout",
     "output_type": "stream",
     "text": [
      "Test set accuracy:  0.7059851827187213\n",
      "Train set accuracy:  0.705041760315214\n"
     ]
    }
   ],
   "source": [
    "#when comparing this to the original liblibear model (C=0.01), while the log-loss metric is improved, the jaccard\n",
    "#and accuracy scores were slightly worse, and the confusion matrix had fewer correct predictions in both classes\n",
    "\n",
    "#therefore, we'll keep the liblinear model with C=0.01 for final comparison with the other algorithms\n",
    "\n",
    "LR_opt = LogisticRegression(C=0.01, solver='liblinear').fit(X_train,y_train)\n",
    "lr_pred = LR_opt.predict(X_test)\n",
    "lr_prob = LR_opt.predict_proba(X_test)\n",
    "\n",
    "print('Test set accuracy: ',metrics.accuracy_score(y_test,lr_pred))\n",
    "print('Train set accuracy: ',metrics.accuracy_score(y_train,LR_opt.predict(X_train)))"
   ]
  },
  {
   "cell_type": "markdown",
   "metadata": {},
   "source": [
    "#### Modeling summary:\n",
    "\n",
    "After training models using KNN, Decision Tree, Support Vector Machine and Logistic Regression methods, the optimimum models from each type are:\n",
    "\n",
    "- KNN: model w/ k=250 where a Test set accuracy of 0.70461 (simple accuracy) was achieved.\n",
    "- Decision Tree: RandomForest model where Test set accuracy of 0.70507 was achieved.\n",
    "- SVM: model with linear kernel function where Test set accuracy of 0.70257 was achieved.\n",
    "- LR: model with liblinear solver and C parameter of 0.01 where Test set accuracy of 0.70599 was achieved.\n",
    "\n",
    "For all of these models, the accuracy achieved on the Test dataset is extremely close, and precision and recall metrics observed in the classification report are also very close. There are some differences spotted between the respective confusion matrices, in terms of the balance between samples predicted to the two different classes. All of the models predicted more injury collisions than property collisions, by at least 4400. The Decision Tree and Logistic Regression models where even more skewed towards predicting injury collisions (predicting 5000+ more injury collisions than property collisions). Depending on further development of a model and the intended benefit/use of any potential deployment, a model's ability to avoid certain incorrect predictions (in either class) or have more balance between the two classes may become more important.\n",
    "\n",
    "Lets look at a few more evaluation metrics and then summarize them for each model."
   ]
  },
  {
   "cell_type": "markdown",
   "metadata": {},
   "source": [
    "### 6.0 Model Evaluation\n",
    "\n",
    "In this section we will evaluate the optimized model of each classification method using:\n",
    "\n",
    "- Jaccard similarity\n",
    "- F1-score\n",
    "- Log-loss\n",
    "- Area Under the ROC curve"
   ]
  },
  {
   "cell_type": "code",
   "execution_count": 111,
   "metadata": {},
   "outputs": [],
   "source": [
    "#we have previously imported the jaccard, log-loss and f1 metrics, but there is one more we need to import\n",
    "from sklearn.metrics import roc_auc_score"
   ]
  },
  {
   "cell_type": "code",
   "execution_count": 112,
   "metadata": {},
   "outputs": [],
   "source": [
    "#the trained models and their predictions are above, but in order to properly use each of the listed metrics, probabilities\n",
    "#for each test sample will need to be predicted for the KNN, Decision Tree and SVM models\n",
    "\n",
    "#for reference, the respective models and predicted variables are commented below:\n",
    "\n",
    "# KNN -- model: KNN_opt, predictions: knn_pred\n",
    "# DT -- model: RDFT, predictions: DT_pred\n",
    "# SVM -- model: SVM_opt, predictions: svm_pred\n",
    "# LR -- model: LR_opt, predictions: lr_pred, probability predictions: lr_prob\n",
    "\n",
    "#generate probability predictions for the KNN, Decision Tree and SVM models\n",
    "\n",
    "knn_prob = KNN_opt.predict_proba(X_test)\n",
    "DT_prob = RFDT.predict_proba(X_test)\n",
    "svm_prob = SVM_opt.predict_proba(X_test)"
   ]
  },
  {
   "cell_type": "code",
   "execution_count": 116,
   "metadata": {},
   "outputs": [],
   "source": [
    "#calculate simple accuracy for each model\n",
    "knn_acc = metrics.accuracy_score(y_test,knn_pred)\n",
    "dt_acc = metrics.accuracy_score(y_test,DT_pred)\n",
    "svm_acc = metrics.accuracy_score(y_test,svm_pred)\n",
    "lr_acc = metrics.accuracy_score(y_test,lr_pred)\n",
    "\n",
    "#calculate jaccard similarity scores for each model\n",
    "knn_jac = jaccard_score(y_test,knn_pred)\n",
    "dt_jac = jaccard_score(y_test,DT_pred)\n",
    "svm_jac = jaccard_score(y_test,svm_pred)\n",
    "lr_jac = jaccard_score(y_test,lr_pred)\n",
    "\n",
    "#calculate f1-scores for each model\n",
    "knn_f1 = jaccard_score(y_test,knn_pred,average='weighted')\n",
    "dt_f1 = jaccard_score(y_test,DT_pred,average='weighted')\n",
    "svm_f1 = jaccard_score(y_test,svm_pred,average='weighted')\n",
    "lr_f1 = jaccard_score(y_test,lr_pred,average='weighted')\n",
    "\n",
    "#calculate log-loss for each model\n",
    "knn_lgl = log_loss(y_test,knn_prob)\n",
    "dt_lgl = log_loss(y_test,DT_prob)\n",
    "svm_lgl = log_loss(y_test,svm_prob)\n",
    "lr_lgl = log_loss(y_test,lr_prob)\n",
    "\n",
    "#calculate area under ROC for each model\n",
    "knn_roc_prob = [p[1] for p in knn_prob]\n",
    "knn_roc = roc_auc_score(y_test,knn_roc_prob)\n",
    "\n",
    "dt_roc_prob = [p[1] for p in DT_prob]\n",
    "dt_roc = roc_auc_score(y_test,dt_roc_prob)\n",
    "\n",
    "svm_roc_prob = [p[1] for p in svm_prob]\n",
    "svm_roc = roc_auc_score(y_test,svm_roc_prob)\n",
    "\n",
    "lr_roc_prob = [p[1] for p in lr_prob]\n",
    "lr_roc = roc_auc_score(y_test,lr_roc_prob)\n"
   ]
  },
  {
   "cell_type": "code",
   "execution_count": 126,
   "metadata": {},
   "outputs": [
    {
     "data": {
      "text/html": [
       "<div>\n",
       "<style scoped>\n",
       "    .dataframe tbody tr th:only-of-type {\n",
       "        vertical-align: middle;\n",
       "    }\n",
       "\n",
       "    .dataframe tbody tr th {\n",
       "        vertical-align: top;\n",
       "    }\n",
       "\n",
       "    .dataframe thead th {\n",
       "        text-align: right;\n",
       "    }\n",
       "</style>\n",
       "<table border=\"1\" class=\"dataframe\">\n",
       "  <thead>\n",
       "    <tr style=\"text-align: right;\">\n",
       "      <th></th>\n",
       "      <th>Algorithm</th>\n",
       "      <th>Model feature</th>\n",
       "      <th>Accuracy</th>\n",
       "      <th>Jaccard</th>\n",
       "      <th>F1-score</th>\n",
       "      <th>Log-loss</th>\n",
       "      <th>AUROC</th>\n",
       "    </tr>\n",
       "  </thead>\n",
       "  <tbody>\n",
       "    <tr>\n",
       "      <th>0</th>\n",
       "      <td>KNN</td>\n",
       "      <td>k=250</td>\n",
       "      <td>0.704612</td>\n",
       "      <td>0.507870</td>\n",
       "      <td>0.541453</td>\n",
       "      <td>0.540904</td>\n",
       "      <td>0.786865</td>\n",
       "    </tr>\n",
       "    <tr>\n",
       "      <th>1</th>\n",
       "      <td>Decision Tree</td>\n",
       "      <td>Random Forest</td>\n",
       "      <td>0.705070</td>\n",
       "      <td>0.503503</td>\n",
       "      <td>0.541335</td>\n",
       "      <td>0.547774</td>\n",
       "      <td>0.788573</td>\n",
       "    </tr>\n",
       "    <tr>\n",
       "      <th>2</th>\n",
       "      <td>SVM</td>\n",
       "      <td>linear kernel</td>\n",
       "      <td>0.702572</td>\n",
       "      <td>0.506798</td>\n",
       "      <td>0.539207</td>\n",
       "      <td>0.605143</td>\n",
       "      <td>0.750791</td>\n",
       "    </tr>\n",
       "    <tr>\n",
       "      <th>3</th>\n",
       "      <td>Logistic Regression</td>\n",
       "      <td>liblinear, C=0.01</td>\n",
       "      <td>0.705985</td>\n",
       "      <td>0.500636</td>\n",
       "      <td>0.541839</td>\n",
       "      <td>0.541847</td>\n",
       "      <td>0.790964</td>\n",
       "    </tr>\n",
       "  </tbody>\n",
       "</table>\n",
       "</div>"
      ],
      "text/plain": [
       "             Algorithm      Model feature  Accuracy   Jaccard  F1-score  \\\n",
       "0                  KNN              k=250  0.704612  0.507870  0.541453   \n",
       "1        Decision Tree      Random Forest  0.705070  0.503503  0.541335   \n",
       "2                  SVM      linear kernel  0.702572  0.506798  0.539207   \n",
       "3  Logistic Regression  liblinear, C=0.01  0.705985  0.500636  0.541839   \n",
       "\n",
       "   Log-loss     AUROC  \n",
       "0  0.540904  0.786865  \n",
       "1  0.547774  0.788573  \n",
       "2  0.605143  0.750791  \n",
       "3  0.541847  0.790964  "
      ]
     },
     "execution_count": 126,
     "metadata": {},
     "output_type": "execute_result"
    }
   ],
   "source": [
    "#compile table of results to dictionary\n",
    "results = {'KNN': ['k=250',knn_acc,knn_jac,knn_f1,knn_lgl,knn_roc],\n",
    "          'Decision Tree': ['Random Forest',dt_acc,dt_jac,dt_f1,dt_lgl,dt_roc],\n",
    "          'SVM': ['linear kernel',svm_acc,svm_jac,svm_f1,svm_lgl,svm_roc],\n",
    "          'Logistic Regression': ['liblinear, C=0.01',lr_acc,lr_jac,lr_f1,lr_lgl,lr_roc]}\n",
    "\n",
    "#read dictionary to dataframe\n",
    "results_df = pd.DataFrame.from_dict(results,orient='index')\n",
    "results_df.reset_index(drop=False, inplace=True)\n",
    "results_df.columns = ['Algorithm','Model feature','Accuracy','Jaccard','F1-score','Log-loss','AUROC']\n",
    "\n",
    "#display results\n",
    "results_df"
   ]
  },
  {
   "cell_type": "markdown",
   "metadata": {},
   "source": [
    "### Evaluation Summary:\n",
    "\n",
    "The results are **_very_** similar for each of the different models. The Logistic Regression approach performed best for 3 of the 5 metrics: simple accuracy, F1 and AUROC, while the KNN algorithm was the best according to Jacard and Log-loss. Interestingly, despite performing best in 3 categories and second in another, the Logistic Regression model had the worst Jaccard similarity score of the 3 models.\n",
    "\n",
    "Ultimately, the result are so similar that selecting a model might come down to its performance with respect to predicting against each classification. If being conservative - predicting fewer injury collisions is preferred - then the SVM or KNN models might be best, whereas the Logistic Regression and Decision Tree model might be preferable if higher sensitivity is required for predicting injury type collisions."
   ]
  },
  {
   "cell_type": "code",
   "execution_count": null,
   "metadata": {},
   "outputs": [],
   "source": []
  }
 ],
 "metadata": {
  "kernelspec": {
   "display_name": "Python 3",
   "language": "python",
   "name": "python3"
  },
  "language_info": {
   "codemirror_mode": {
    "name": "ipython",
    "version": 3
   },
   "file_extension": ".py",
   "mimetype": "text/x-python",
   "name": "python",
   "nbconvert_exporter": "python",
   "pygments_lexer": "ipython3",
   "version": "3.8.4"
  }
 },
 "nbformat": 4,
 "nbformat_minor": 4
}
